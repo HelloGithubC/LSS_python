{
 "cells": [
  {
   "cell_type": "markdown",
   "id": "e42455d4",
   "metadata": {},
   "source": [
    "### 测试CUTE和Corrfunc差异"
   ]
  },
  {
   "cell_type": "code",
   "execution_count": 1,
   "id": "c2affecc",
   "metadata": {},
   "outputs": [],
   "source": [
    "import numpy as np \n",
    "import joblib "
   ]
  },
  {
   "cell_type": "code",
   "execution_count": 2,
   "id": "b49cb299",
   "metadata": {},
   "outputs": [],
   "source": [
    "root_path = \"/Raid6/1/xiaoliang/simulation/BIGMDPL/data/\""
   ]
  },
  {
   "cell_type": "code",
   "execution_count": 3,
   "id": "043f12f6",
   "metadata": {},
   "outputs": [],
   "source": [
    "tpcf_corr = joblib.load(root_path + \"tpCF-11_nbar1e-3.shiftz-nbar1e-3.x8ran0-150s0to150_120mu.pkl\")"
   ]
  },
  {
   "cell_type": "code",
   "execution_count": 8,
   "id": "dab3c7ae",
   "metadata": {},
   "outputs": [
    {
     "data": {
      "text/plain": [
       "array([0.        , 0.00833333, 0.01666667, 0.025     , 0.03333333,\n",
       "       0.04166667, 0.05      , 0.05833333, 0.06666667, 0.075     ,\n",
       "       0.08333333, 0.09166667, 0.1       , 0.10833333, 0.11666667,\n",
       "       0.125     , 0.13333333, 0.14166667, 0.15      , 0.15833333,\n",
       "       0.16666667, 0.175     , 0.18333333, 0.19166667, 0.2       ,\n",
       "       0.20833333, 0.21666667, 0.225     , 0.23333333, 0.24166667,\n",
       "       0.25      , 0.25833333, 0.26666667, 0.275     , 0.28333333,\n",
       "       0.29166667, 0.3       , 0.30833333, 0.31666667, 0.325     ,\n",
       "       0.33333333, 0.34166667, 0.35      , 0.35833333, 0.36666667,\n",
       "       0.375     , 0.38333333, 0.39166667, 0.4       , 0.40833333,\n",
       "       0.41666667, 0.425     , 0.43333333, 0.44166667, 0.45      ,\n",
       "       0.45833333, 0.46666667, 0.475     , 0.48333333, 0.49166667,\n",
       "       0.5       , 0.50833333, 0.51666667, 0.525     , 0.53333333,\n",
       "       0.54166667, 0.55      , 0.55833333, 0.56666667, 0.575     ,\n",
       "       0.58333333, 0.59166667, 0.6       , 0.60833333, 0.61666667,\n",
       "       0.625     , 0.63333333, 0.64166667, 0.65      , 0.65833333,\n",
       "       0.66666667, 0.675     , 0.68333333, 0.69166667, 0.7       ,\n",
       "       0.70833333, 0.71666667, 0.725     , 0.73333333, 0.74166667,\n",
       "       0.75      , 0.75833333, 0.76666667, 0.775     , 0.78333333,\n",
       "       0.79166667, 0.8       , 0.80833333, 0.81666667, 0.825     ,\n",
       "       0.83333333, 0.84166667, 0.85      , 0.85833333, 0.86666667,\n",
       "       0.875     , 0.88333333, 0.89166667, 0.9       , 0.90833333,\n",
       "       0.91666667, 0.925     , 0.93333333, 0.94166667, 0.95      ,\n",
       "       0.95833333, 0.96666667, 0.975     , 0.98333333, 0.99166667,\n",
       "       1.        ])"
      ]
     },
     "execution_count": 8,
     "metadata": {},
     "output_type": "execute_result"
    }
   ],
   "source": [
    "tpcf_corr[\"muedges\"]"
   ]
  },
  {
   "cell_type": "markdown",
   "id": "3e462124",
   "metadata": {},
   "source": [
    "### 测试宇宙学转换函数核心速度"
   ]
  },
  {
   "cell_type": "code",
   "execution_count": 1,
   "id": "a4c2335d",
   "metadata": {},
   "outputs": [],
   "source": [
    "import numpy as np \n",
    "import math\n",
    "from LSS_python.base import DA_jit, Hz_jit\n",
    "from numba import njit "
   ]
  },
  {
   "cell_type": "code",
   "execution_count": 2,
   "id": "171e1356",
   "metadata": {},
   "outputs": [],
   "source": [
    "@njit\n",
    "def smu_cosmo_convert(s_f, mu_f, DA_f, DA_t, H_f, H_t):\n",
    "    \"\"\"s1: angular direction; s2: LOS direction\n",
    "    f: fiducial; t: task\n",
    "    \"\"\"\n",
    "    s2 = s_f * mu_f\n",
    "    s1 = s_f * np.sqrt(1 - mu_f**2)\n",
    "    alpha1 = DA_t / DA_f\n",
    "    alpha2 = H_f / H_t\n",
    "    s_t = np.sqrt((alpha1 * s1) ** 2 + (alpha2 * s2) ** 2)\n",
    "    mu_t = alpha2 * s2 / (s_t + 1e-15)\n",
    "    return s_t, mu_t\n",
    "\n",
    "@njit\n",
    "def smu_cosmo_convert_math(s_f, mu_f, DA_f, DA_t, H_f, H_t):\n",
    "    \"\"\"s1: angular direction; s2: LOS direction\n",
    "    f: fiducial; t: task\n",
    "    \"\"\"\n",
    "    s2 = s_f * mu_f\n",
    "    s1 = s_f * math.sqrt(1 - mu_f**2)\n",
    "    alpha1 = DA_t / DA_f\n",
    "    alpha2 = H_f / H_t\n",
    "    s_t = math.sqrt((alpha1 * s1) ** 2 + (alpha2 * s2) ** 2)\n",
    "    mu_t = alpha2 * s2 / (s_t + 1e-15)\n",
    "    return s_t, mu_t"
   ]
  },
  {
   "cell_type": "code",
   "execution_count": 3,
   "id": "603d9ee5",
   "metadata": {},
   "outputs": [],
   "source": [
    "DA_f = DA_jit(0.6, 0.3071, -1.0)\n",
    "DA_t = DA_jit(0.6, 0.4071, -0.8)\n",
    "\n",
    "Hz_f = Hz_jit(0.6, 0.3071, -1.0)\n",
    "Hz_t = Hz_jit(0.6, 0.4071, -0.8)"
   ]
  },
  {
   "cell_type": "code",
   "execution_count": 4,
   "id": "5ac25379",
   "metadata": {},
   "outputs": [],
   "source": [
    "s_f, mu_f = 10.0, 0.4\n",
    "s_t1, mu_t1 = smu_cosmo_convert(s_f, mu_f, DA_f, DA_t, Hz_f, Hz_t)\n",
    "s_t2, mu_t2 = smu_cosmo_convert_math(s_f, mu_f, DA_f, DA_t, Hz_f, Hz_t)"
   ]
  },
  {
   "cell_type": "code",
   "execution_count": 9,
   "id": "ea893841",
   "metadata": {},
   "outputs": [],
   "source": [
    "number = 50000 * 100\n",
    "\n",
    "s_f_array = np.ones(number) * s_f\n",
    "mu_f_array = np.ones(number) * mu_f\n",
    "DA_f_array = np.ones(number) * DA_f\n",
    "Hz_f_array = np.ones(number) * Hz_f\n",
    "Hz_t_array = np.ones(number) * Hz_t\n",
    "DA_t_array = np.ones(number) * DA_t\n",
    "\n",
    "s_t_array, mu_t_array = smu_cosmo_convert(s_f_array, mu_f_array, DA_f_array, DA_t_array, Hz_f_array, Hz_t_array)"
   ]
  },
  {
   "cell_type": "code",
   "execution_count": 10,
   "id": "566b31a1",
   "metadata": {},
   "outputs": [
    {
     "name": "stdout",
     "output_type": "stream",
     "text": [
      "181 ms ± 4.96 ms per loop (mean ± std. dev. of 5 runs, 3 loops each)\n"
     ]
    }
   ],
   "source": [
    "%%timeit -n 3 -r 5\n",
    "s_t_array, mu_t_array = smu_cosmo_convert(s_f_array, mu_f_array, DA_f_array, DA_t_array, Hz_f_array, Hz_t_array)"
   ]
  },
  {
   "cell_type": "code",
   "execution_count": 21,
   "id": "e788436d",
   "metadata": {},
   "outputs": [
    {
     "name": "stdout",
     "output_type": "stream",
     "text": [
      "1.67 μs ± 102 ns per loop (mean ± std. dev. of 5 runs, 100 loops each)\n"
     ]
    }
   ],
   "source": [
    "%%timeit -n 100 -r 5\n",
    "s_t1, mu_t1 = smu_cosmo_convert(s_f, mu_f, DA_f, DA_t, Hz_f, Hz_t)"
   ]
  },
  {
   "cell_type": "code",
   "execution_count": 22,
   "id": "c9b341fe",
   "metadata": {},
   "outputs": [
    {
     "name": "stdout",
     "output_type": "stream",
     "text": [
      "1.62 μs ± 89 ns per loop (mean ± std. dev. of 5 runs, 100 loops each)\n"
     ]
    }
   ],
   "source": [
    "%%timeit -n 100 -r 5\n",
    "s_t2, mu_t2 = smu_cosmo_convert_math(s_f, mu_f, DA_f, DA_t, Hz_f, Hz_t)"
   ]
  },
  {
   "cell_type": "markdown",
   "id": "907fda33",
   "metadata": {},
   "source": [
    "### 测试：积分函数"
   ]
  },
  {
   "cell_type": "code",
   "execution_count": 1,
   "id": "634928e6",
   "metadata": {},
   "outputs": [],
   "source": [
    "import numpy as np \n",
    "from LSS_python.base import traz "
   ]
  },
  {
   "cell_type": "code",
   "execution_count": 2,
   "id": "d7534fbc",
   "metadata": {},
   "outputs": [
    {
     "name": "stdout",
     "output_type": "stream",
     "text": [
      "1.9998321638939927\n"
     ]
    }
   ],
   "source": [
    "x_array = np.linspace(0.0, 1*np.pi, 100)\n",
    "V_array = np.sin(x_array)\n",
    "print(traz(V_array, x_array))"
   ]
  },
  {
   "cell_type": "code",
   "execution_count": 8,
   "id": "041f3b16",
   "metadata": {},
   "outputs": [
    {
     "name": "stdout",
     "output_type": "stream",
     "text": [
      "3.0\n"
     ]
    }
   ],
   "source": [
    "x_array = np.linspace(0, 2, 10)\n",
    "y_array = np.linspace(0, 1, 10)\n",
    "X_mesh, Y_mesh = np.meshgrid(x_array, y_array, indexing=\"ij\")\n",
    "V_array = X_mesh + Y_mesh\n",
    "print(traz(V_array, x_array, y_array))"
   ]
  },
  {
   "cell_type": "markdown",
   "id": "77dd09b9",
   "metadata": {},
   "source": [
    "### 测试：寻找邻居构建MCF"
   ]
  },
  {
   "cell_type": "code",
   "execution_count": 1,
   "id": "be4437aa",
   "metadata": {},
   "outputs": [],
   "source": [
    "%reload_ext autoreload\n",
    "%autoreload 2"
   ]
  },
  {
   "cell_type": "code",
   "execution_count": 2,
   "id": "d58a3643",
   "metadata": {},
   "outputs": [],
   "source": [
    "import numpy as np \n",
    "from scipy.spatial import KDTree\n",
    "from sklearn.neighbors import NearestNeighbors\n",
    "from MCF import cal_rho_array, cal_rho, w_kernel"
   ]
  },
  {
   "cell_type": "code",
   "execution_count": 3,
   "id": "10e3938c",
   "metadata": {},
   "outputs": [],
   "source": [
    "data = np.load(\"/Raid6/1b/xiaoliang/simulation/COLA/tpCF/LCDM_plank13_box1000_npar1024/halo_2_shiftz.npy\")"
   ]
  },
  {
   "cell_type": "code",
   "execution_count": 4,
   "id": "3a6a9d58",
   "metadata": {},
   "outputs": [],
   "source": [
    "boxsize = 1000.0\n",
    "kdtree = KDTree(data, boxsize=None)\n",
    "kdtree_result = kdtree.query(data, k=31, distance_upper_bound=30)"
   ]
  },
  {
   "cell_type": "code",
   "execution_count": 4,
   "id": "a69c55b1",
   "metadata": {},
   "outputs": [
    {
     "data": {
      "text/plain": [
       "array([[ 0.        , 11.0385601 , 12.44208462, ...,         inf,\n",
       "                inf,         inf],\n",
       "       [ 0.        ,  1.27633405,  2.44308663, ...,         inf,\n",
       "                inf,         inf],\n",
       "       [ 0.        ,  1.20811361,  1.27633405, ...,         inf,\n",
       "                inf,         inf],\n",
       "       ...,\n",
       "       [ 0.        ,  2.32409592,  5.57591046, ..., 22.79207145,\n",
       "        22.98082245, 23.09866202],\n",
       "       [ 0.        ,  1.25566053,  7.13560577, ..., 15.47875454,\n",
       "        15.74954147, 16.18373074],\n",
       "       [ 0.        ,  1.25566053,  8.35197004, ..., 16.2688897 ,\n",
       "        16.5664349 , 16.59623687]])"
      ]
     },
     "execution_count": 4,
     "metadata": {},
     "output_type": "execute_result"
    }
   ],
   "source": [
    "kdtree_result[0]"
   ]
  },
  {
   "cell_type": "code",
   "execution_count": 5,
   "id": "5cc25c0e",
   "metadata": {},
   "outputs": [],
   "source": [
    "rho_array_1 = cal_rho_array(kdtree_result[0], 15.0)"
   ]
  },
  {
   "cell_type": "code",
   "execution_count": 5,
   "id": "c0e4e87a",
   "metadata": {},
   "outputs": [],
   "source": [
    "new_result = np.copy(kdtree_result[0])\n",
    "new_result[np.isinf(new_result)] = 0.0"
   ]
  },
  {
   "cell_type": "code",
   "execution_count": 6,
   "id": "0cc46cef",
   "metadata": {},
   "outputs": [],
   "source": [
    "rho_array_2 = cal_rho_array(new_result, h=None, use_max_distance_as_h=True)"
   ]
  },
  {
   "cell_type": "code",
   "execution_count": 8,
   "id": "542e61d1",
   "metadata": {},
   "outputs": [
    {
     "data": {
      "text/plain": [
       "0.002806452408888902"
      ]
     },
     "execution_count": 8,
     "metadata": {},
     "output_type": "execute_result"
    }
   ],
   "source": [
    "np.max(rho_array_1)"
   ]
  },
  {
   "cell_type": "code",
   "execution_count": 7,
   "id": "78c27e0f",
   "metadata": {},
   "outputs": [
    {
     "data": {
      "text/plain": [
       "3.2178659891309183"
      ]
     },
     "execution_count": 7,
     "metadata": {},
     "output_type": "execute_result"
    }
   ],
   "source": [
    "np.max(rho_array_2)"
   ]
  },
  {
   "cell_type": "code",
   "execution_count": 8,
   "id": "d198e964",
   "metadata": {},
   "outputs": [
    {
     "data": {
      "text/plain": [
       "527616"
      ]
     },
     "execution_count": 8,
     "metadata": {},
     "output_type": "execute_result"
    }
   ],
   "source": [
    "np.argmax(rho_array_2)"
   ]
  },
  {
   "cell_type": "code",
   "execution_count": 9,
   "id": "8a0650bc",
   "metadata": {},
   "outputs": [
    {
     "name": "stdout",
     "output_type": "stream",
     "text": [
      "0.0\n",
      "0.3386353950755209\n",
      "0.3276987994066367\n",
      "0.30465644441320033\n",
      "0.27292384163002437\n",
      "0.22617299132301488\n",
      "0.22005924137780372\n",
      "0.2028193195489765\n",
      "0.1987792646181191\n",
      "0.1799662197018824\n",
      "0.15286360534886936\n",
      "0.13533156064922777\n",
      "0.1254683527341903\n",
      "0.12380026309021663\n",
      "0.10296749511496255\n",
      "0.0999797277384586\n",
      "0.0697083485773174\n",
      "0.05876485568716877\n",
      "0.04682078416170166\n",
      "0.010457570083572053\n",
      "0.00575565456838483\n",
      "0.004941321217487585\n",
      "0.004801925395647695\n",
      "0.0026567149879603274\n",
      "0.0006907715979496981\n",
      "0.0005856160990220412\n",
      "0.0005515034918893084\n",
      "4.022925496806105e-06\n",
      "3.005811867078159e-06\n",
      "1.3727543482606666e-06\n",
      "0.0\n"
     ]
    }
   ],
   "source": [
    "test_array = new_result[527616]\n",
    "h = np.max(test_array) / 2.0\n",
    "for item in test_array:\n",
    "    print(w_kernel(item, h))"
   ]
  },
  {
   "cell_type": "code",
   "execution_count": 10,
   "id": "c31a9ec6",
   "metadata": {},
   "outputs": [
    {
     "data": {
      "text/plain": [
       "array([0.        , 0.49785289, 0.51504562, 0.55103379, 0.60054181,\n",
       "       0.674938  , 0.68492568, 0.71357819, 0.72041416, 0.75300284,\n",
       "       0.8028623 , 0.83777844, 0.85871537, 0.86236371, 0.91096991,\n",
       "       0.91846471, 1.00453267, 1.04181623, 1.08824296, 1.32029562,\n",
       "       1.38491271, 1.39945881, 1.40210598, 1.45156323, 1.53358566,\n",
       "       1.54133697, 1.54404988, 1.65226881, 1.65467946, 1.66011142,\n",
       "       1.67830634])"
      ]
     },
     "execution_count": 10,
     "metadata": {},
     "output_type": "execute_result"
    }
   ],
   "source": [
    "new_result[527616]"
   ]
  },
  {
   "cell_type": "markdown",
   "id": "23f97bb8",
   "metadata": {},
   "source": [
    "### 测试：B样条插值函数性质"
   ]
  },
  {
   "cell_type": "code",
   "execution_count": 11,
   "id": "6045617f",
   "metadata": {},
   "outputs": [],
   "source": [
    "from MCF import w_kernel\n",
    "from base import traz\n",
    "import numpy as np\n",
    "import matplotlib.pyplot as plt"
   ]
  },
  {
   "cell_type": "code",
   "execution_count": 12,
   "id": "41337636",
   "metadata": {},
   "outputs": [],
   "source": [
    "x = np.linspace(0,10,1000)\n",
    "y = np.zeros(1000)\n",
    "\n",
    "for i in range(1000):\n",
    "    y[i] = w_kernel(x[i], 5.0)"
   ]
  },
  {
   "cell_type": "code",
   "execution_count": 36,
   "id": "74781439",
   "metadata": {},
   "outputs": [
    {
     "data": {
      "image/png": "[encoded data removed]",
      "text/plain": [
       "<Figure size 1000x400 with 1 Axes>"
      ]
     },
     "metadata": {},
     "output_type": "display_data"
    }
   ],
   "source": [
    "fig = plt.figure(dpi=100, figsize=(10,4))\n",
    "plt.plot(x,y*4*np.pi*x**2)\n",
    "plt.show()"
   ]
  },
  {
   "cell_type": "code",
   "execution_count": 9,
   "id": "2d9a3936",
   "metadata": {},
   "outputs": [
    {
     "data": {
      "text/plain": [
       "1.000000000001004"
      ]
     },
     "execution_count": 9,
     "metadata": {},
     "output_type": "execute_result"
    }
   ],
   "source": [
    "traz(y * 4 * np.pi * x**2, x)"
   ]
  },
  {
   "cell_type": "code",
   "execution_count": 2,
   "id": "cfb95828",
   "metadata": {},
   "outputs": [],
   "source": [
    "from MCF import cal_rho_array\n",
    "import numpy as np "
   ]
  },
  {
   "cell_type": "code",
   "execution_count": 15,
   "id": "97c24125",
   "metadata": {},
   "outputs": [],
   "source": [
    "distance_array = np.array([[1.0, 2.0, 4.0, 6.0, 10.0, 15.0, 25.0]*3, \n",
    "                            [0.1, 0.2, 3.0, 5.0, 8.0, 10.0, 25.0]*3])"
   ]
  },
  {
   "cell_type": "code",
   "execution_count": 16,
   "id": "7d1acdd3",
   "metadata": {},
   "outputs": [
    {
     "name": "stdout",
     "output_type": "stream",
     "text": [
      "[0.00127297 0.00143132]\n",
      "0.8893652448971467\n"
     ]
    }
   ],
   "source": [
    "test1 = cal_rho_array(distance_array, 15.0)\n",
    "print(test1)\n",
    "print(test1[0] / test1[1])"
   ]
  },
  {
   "cell_type": "code",
   "execution_count": 17,
   "id": "1c6229e0",
   "metadata": {},
   "outputs": [
    {
     "name": "stdout",
     "output_type": "stream",
     "text": [
      "[0.0020123  0.00231637]\n",
      "0.8687288077734915\n"
     ]
    }
   ],
   "source": [
    "test2 = cal_rho_array(distance_array, 15.0, True)\n",
    "print(test2)\n",
    "print(test2[0] / test2[1])"
   ]
  },
  {
   "cell_type": "markdown",
   "id": "c95ee1cd",
   "metadata": {},
   "source": [
    "### 测试：和霄栋程序比对"
   ]
  },
  {
   "cell_type": "code",
   "execution_count": 1,
   "id": "4fb07dd9",
   "metadata": {},
   "outputs": [],
   "source": [
    "import numpy as np \n",
    "import matplotlib.pyplot as plt \n",
    "from scipy.spatial import KDTree\n",
    "from MCF import cal_rho_array"
   ]
  },
  {
   "cell_type": "code",
   "execution_count": 2,
   "id": "ca060538",
   "metadata": {},
   "outputs": [],
   "source": [
    "data = np.loadtxt(\"/Raid6/1/xiaoliang/AP_SysTest/no_error/11/11_nbar1e-3.shiftz.numNB30.margin30.00.boxsize2500.00\", usecols=(0,1,2,3, 7), dtype=np.float32)"
   ]
  },
  {
   "cell_type": "code",
   "execution_count": 3,
   "id": "fac35658",
   "metadata": {},
   "outputs": [],
   "source": [
    "kdtree = KDTree(data[:,:3], boxsize=2500.00001)"
   ]
  },
  {
   "cell_type": "code",
   "execution_count": 4,
   "id": "8b0fe897",
   "metadata": {},
   "outputs": [],
   "source": [
    "result = kdtree.query(data[:,:3], k=30, workers=4)"
   ]
  },
  {
   "cell_type": "code",
   "execution_count": 24,
   "id": "4e843c62",
   "metadata": {},
   "outputs": [],
   "source": [
    "rho_array_1 = cal_rho_array(result[0], h=15.0)"
   ]
  },
  {
   "cell_type": "code",
   "execution_count": 5,
   "id": "67891c70",
   "metadata": {},
   "outputs": [],
   "source": [
    "rho_array_2 = cal_rho_array(result[0], h=None, use_max_distance_as_h=True)"
   ]
  },
  {
   "cell_type": "code",
   "execution_count": 11,
   "id": "0cdc6092",
   "metadata": {},
   "outputs": [],
   "source": [
    "rho_diff = np.abs(rho_array_2 - data[:,3]) / data[:,3]"
   ]
  },
  {
   "cell_type": "code",
   "execution_count": 14,
   "id": "0b25a2ce",
   "metadata": {},
   "outputs": [
    {
     "data": {
      "text/plain": [
       "(0.006944564999304728,\n",
       " array([1.649590e+03, 1.807200e+03, 1.036378e+03, 4.613864e-03,\n",
       "        1.708199e+01], dtype=float32))"
      ]
     },
     "execution_count": 14,
     "metadata": {},
     "output_type": "execute_result"
    }
   ],
   "source": [
    "rho_array_2[11635385], data[11635385]"
   ]
  },
  {
   "cell_type": "code",
   "execution_count": 16,
   "id": "0d85f6ed",
   "metadata": {},
   "outputs": [
    {
     "data": {
      "text/plain": [
       "array([ 0.        ,  0.69110607,  1.48557591,  1.53849273,  3.72670703,\n",
       "        4.45531767,  5.54754204,  5.70324914,  6.3145058 ,  7.19396082,\n",
       "        7.3161547 ,  9.32262483,  9.3792178 ,  9.8703873 , 10.07878728,\n",
       "       10.1284821 , 10.1397247 , 10.23131817, 11.00803391, 11.23779393,\n",
       "       11.63617197, 11.90615272, 11.92339883, 12.33899976, 12.95179811,\n",
       "       13.19823147, 13.25885542, 13.35740821, 13.42721398, 13.68411764])"
      ]
     },
     "execution_count": 16,
     "metadata": {},
     "output_type": "execute_result"
    }
   ],
   "source": [
    "result[0][11635385]"
   ]
  },
  {
   "cell_type": "code",
   "execution_count": 18,
   "id": "c91abe79",
   "metadata": {},
   "outputs": [
    {
     "data": {
      "text/plain": [
       "array([11635385,  4842161, 12019953, 15117531,  1464956, 11026159,\n",
       "        5250874, 12717999, 12558578,  8339432,  2680504,  1763902,\n",
       "        1458581,  8707740,  5075076,  4442086,  4080292,  9986510,\n",
       "        3275667,  2031194,  9754804, 11956876,  1679109,  5352734,\n",
       "        1606091,  1615725,  3843949,  5636992, 10285211,   173500])"
      ]
     },
     "execution_count": 18,
     "metadata": {},
     "output_type": "execute_result"
    }
   ],
   "source": [
    "result[1][11635385]"
   ]
  },
  {
   "cell_type": "code",
   "execution_count": 25,
   "id": "1ecf5d51",
   "metadata": {},
   "outputs": [
    {
     "data": {
      "text/plain": [
       "array([ 0.        ,  0.99441016,  2.28165814,  3.98553596,  4.13906364,\n",
       "        4.51890682,  4.63917141,  5.60877648,  6.00639044,  6.21201024,\n",
       "        6.32884083,  6.72885667,  6.75337787,  6.8314492 ,  7.6610031 ,\n",
       "        8.10814599,  8.41088346,  8.48868327,  8.85338081,  9.1335584 ,\n",
       "        9.37975213,  9.81318022, 10.03043017, 10.27811091, 10.34872493,\n",
       "       10.36183734, 10.60363012, 10.6055239 , 10.88957277, 11.19794649])"
      ]
     },
     "execution_count": 25,
     "metadata": {},
     "output_type": "execute_result"
    }
   ],
   "source": [
    "result[0][6]"
   ]
  },
  {
   "cell_type": "code",
   "execution_count": 19,
   "id": "a052f0dd",
   "metadata": {},
   "outputs": [
    {
     "data": {
      "text/plain": [
       "array([       4, 14595535, 12952946,   912174,  7434422,  8754480,\n",
       "        7002900,  4879280,  1073795,  3511809, 14114663,  7726609,\n",
       "         886193,   383362,  3096251, 13622008,  3827284,  7766690,\n",
       "        6312866, 14836290,  6995536, 10764836, 11712761, 11919745,\n",
       "       12159220,  3809302,  9801393,  3012254,  5710999,  6415659])"
      ]
     },
     "execution_count": 19,
     "metadata": {},
     "output_type": "execute_result"
    }
   ],
   "source": [
    "result[1][4]"
   ]
  },
  {
   "cell_type": "code",
   "execution_count": 52,
   "id": "dfa8f2b1",
   "metadata": {},
   "outputs": [],
   "source": [
    "def cal_distance(data, index_array):\n",
    "    distance_array = np.zeros(index_array.shape, dtype=np.float32)\n",
    "    fuducial_pos = data[index_array[0]]\n",
    "    for i in range(index_array.shape[0]):\n",
    "        distance_temp = 0.0 \n",
    "        for j in range(3):\n",
    "            pos_diff = data[index_array[i]][j] - fuducial_pos[j]\n",
    "            distance_temp += pos_diff * pos_diff\n",
    "        distance_array[i] = np.sqrt(distance_temp)\n",
    "    return distance_array"
   ]
  },
  {
   "cell_type": "code",
   "execution_count": 53,
   "id": "3642a9b4",
   "metadata": {},
   "outputs": [
    {
     "data": {
      "text/plain": [
       "array([ 0.       ,  1.5781667,  2.3395114,  3.1305943,  3.525681 ,\n",
       "        3.7073488,  3.8607461,  4.4709334,  6.526491 ,  6.6373944,\n",
       "        6.830204 ,  7.0865097,  8.398026 ,  8.7853565,  9.939289 ,\n",
       "       10.367059 , 11.337845 , 11.499579 , 12.129817 , 12.201879 ,\n",
       "       12.232749 , 12.393038 , 12.41142  , 13.00485  , 13.273669 ,\n",
       "       13.304365 , 13.345138 , 13.777317 , 13.835587 , 14.184428 ,\n",
       "       14.376134 ], dtype=float32)"
      ]
     },
     "execution_count": 53,
     "metadata": {},
     "output_type": "execute_result"
    }
   ],
   "source": [
    "cal_distance(data[:,:3], result[1][0])"
   ]
  },
  {
   "cell_type": "markdown",
   "id": "b51042a1",
   "metadata": {},
   "source": [
    "### 测试：加权关联函数对比"
   ]
  },
  {
   "cell_type": "code",
   "execution_count": 1,
   "id": "286531c9",
   "metadata": {},
   "outputs": [],
   "source": [
    "import numpy as np \n",
    "import matplotlib.pyplot as plt \n",
    "from LSS_python.tpcf import xismu "
   ]
  },
  {
   "cell_type": "code",
   "execution_count": 2,
   "id": "6b8658d1",
   "metadata": {},
   "outputs": [],
   "source": [
    "root_path = \"/Raid6/1/xiaoliang/AP_SysTest/no_error/\"\n",
    "tpcf_CUTE_filenames = [root_path + \"11/11_nbar1e-3.shiftz.numNB30.margin30.00.boxsize2500.00-zplus1000000-weipow1-150s0to150-120mu.2pcf\", root_path + \"26/26_nbar1e-3.shiftz.numNB30.margin30.00.boxsize2500.00-zplus1000000-weipow1-150s0to150-120mu.2pcf\"]\n",
    "tpcf_pkl_filename = [root_path + \"11/tpCF-11_nbar1e-3.shiftz.numNB30-weipow1-150s0to150-120mu.pkl\", root_path + \"26/tpCF-26_nbar1e-3.shiftz.numNB30-weipow1-150s0to150-120mu.pkl\"]\n",
    "tpcf_CUTE_list = [xismu.load(tpcf_CUTE_filenames[i]) for i in range(2)]\n",
    "tpcf_pkl_list = [xismu.load(tpcf_pkl_filename[i], data_type=\"BINARY\") for i in range(2)]"
   ]
  },
  {
   "cell_type": "code",
   "execution_count": 4,
   "id": "b127c6eb",
   "metadata": {},
   "outputs": [
    {
     "data": {
      "image/png": "[encoded data removed]",
      "text/plain": [
       "<Figure size 1000x600 with 2 Axes>"
      ]
     },
     "metadata": {},
     "output_type": "display_data"
    }
   ],
   "source": [
    "fig = plt.figure(dpi=100, figsize=(10, 6))\n",
    "ax1 = fig.add_subplot(121)\n",
    "ax2 = fig.add_subplot(122)\n",
    "axes = [ax1, ax2]\n",
    "colors = [\"blue\", \"red\"]\n",
    "for i in range(2):\n",
    "    s_CUTE, xis_s_CUTE = tpcf_CUTE_list[i].integrate_tpcf(smin=0.0, smax=150.0, s_xis=True, intximu=False, quick_return=True)\n",
    "    s_pkl, xis_s_pkl = tpcf_pkl_list[i].integrate_tpcf(smin=0.0, smax=150.0, s_xis=True, intximu=False, quick_return=True)\n",
    "    axes[i].plot(s_CUTE, xis_s_CUTE, color=colors[i])\n",
    "    axes[i].plot(s_pkl, xis_s_pkl, color=colors[i], ls=\"--\")\n",
    "plt.show()"
   ]
  },
  {
   "cell_type": "code",
   "execution_count": 13,
   "id": "681ca2a7",
   "metadata": {},
   "outputs": [
    {
     "data": {
      "text/plain": [
       "array([[  0.5,   0.5,   0.5, ...,   0.5,   0.5,   0.5],\n",
       "       [  1.5,   1.5,   1.5, ...,   1.5,   1.5,   1.5],\n",
       "       [  2.5,   2.5,   2.5, ...,   2.5,   2.5,   2.5],\n",
       "       ...,\n",
       "       [147.5, 147.5, 147.5, ..., 147.5, 147.5, 147.5],\n",
       "       [148.5, 148.5, 148.5, ..., 148.5, 148.5, 148.5],\n",
       "       [149.5, 149.5, 149.5, ..., 149.5, 149.5, 149.5]])"
      ]
     },
     "execution_count": 13,
     "metadata": {},
     "output_type": "execute_result"
    }
   ],
   "source": [
    "tpcf_pkl_list[0].S"
   ]
  },
  {
   "cell_type": "code",
   "execution_count": 6,
   "id": "e953bbf1",
   "metadata": {},
   "outputs": [
    {
     "data": {
      "image/png": "[encoded data removed]",
      "text/plain": [
       "<Figure size 1400x600 with 2 Axes>"
      ]
     },
     "metadata": {},
     "output_type": "display_data"
    }
   ],
   "source": [
    "fig = plt.figure(dpi=100, figsize=(14, 6))\n",
    "ax1 = fig.add_subplot(121)\n",
    "ax2 = fig.add_subplot(122)\n",
    "axes = [ax1, ax2]\n",
    "colors = [\"blue\", \"red\"]\n",
    "for i in range(2):\n",
    "    mu_CUTE, xis_mu_CUTE = tpcf_CUTE_list[i].integrate_tpcf(mupack=6, is_norm=True, quick_return=True)\n",
    "    mu_pkl, xis_mu_pkl = tpcf_pkl_list[i].integrate_tpcf(mupack=6, is_norm=True, quick_return=True)\n",
    "    axes[i].plot(mu_CUTE, xis_mu_CUTE, color=colors[i])\n",
    "    axes[i].plot(mu_pkl, xis_mu_pkl, color=colors[i], ls=\"--\")\n",
    "plt.show()"
   ]
  },
  {
   "cell_type": "code",
   "execution_count": 7,
   "id": "3d3ea4d4",
   "metadata": {},
   "outputs": [
    {
     "data": {
      "image/png": "[encoded data removed]",
      "text/plain": [
       "<Figure size 1000x600 with 1 Axes>"
      ]
     },
     "metadata": {},
     "output_type": "display_data"
    }
   ],
   "source": [
    "fig = plt.figure(dpi=100, figsize=(10, 6))\n",
    "ax = fig.add_subplot(111)\n",
    "axes = [ax1, ax2]\n",
    "colors = [\"blue\", \"red\"]\n",
    "xis_mu_CUTE_list = []\n",
    "xis_mu_pkl_list = []\n",
    "for i in range(2):\n",
    "    mu_CUTE, xis_mu_CUTE = tpcf_CUTE_list[i].integrate_tpcf(mupack=6, is_norm=True, quick_return=True)\n",
    "    mu_pkl, xis_mu_pkl = tpcf_pkl_list[i].integrate_tpcf(mupack=6, is_norm=True, quick_return=True)\n",
    "    xis_mu_CUTE_list.append(xis_mu_CUTE)\n",
    "    xis_mu_pkl_list.append(xis_mu_pkl)\n",
    "ax.plot(mu_CUTE, xis_mu_CUTE_list[0] - xis_mu_CUTE_list[1], color=colors[0])\n",
    "ax.plot(mu_pkl, xis_mu_pkl_list[0] - xis_mu_pkl_list[1], color=colors[1])\n",
    "plt.show()"
   ]
  },
  {
   "cell_type": "markdown",
   "id": "b306dc20",
   "metadata": {},
   "source": [
    "### 测试：numba的FFTPower "
   ]
  },
  {
   "cell_type": "code",
   "execution_count": 1,
   "id": "829f603a",
   "metadata": {},
   "outputs": [],
   "source": [
    "import numpy as np \n",
    "\n",
    "from my_fft import FFTPower as FFTPower_old\n",
    "from LSS_python.fftpower import FFTPower, deal_ps_3d"
   ]
  },
  {
   "cell_type": "code",
   "execution_count": 2,
   "id": "aecc33af",
   "metadata": {},
   "outputs": [],
   "source": [
    "complex_field = np.load(\"/Raid6/1/xiaoliang/simulation/ska/data/snap100_myfft/mesh1024/mass_fftpower_mesh1024_all_complex/complex_field.npy\")\n",
    "kernel_field = np.load(\"/Raid6/1/xiaoliang/simulation/ska/data/mesh1024_all_complex_kernel1/complex_field.npy\")\n",
    "Nmesh = 1024 \n",
    "boxsize = 1000.0 "
   ]
  },
  {
   "cell_type": "code",
   "execution_count": 7,
   "id": "c30b27ea",
   "metadata": {},
   "outputs": [],
   "source": [
    "complex_field_temp = np.copy(complex_field)\n",
    "ps_3d = np.copy(complex_field)"
   ]
  },
  {
   "cell_type": "code",
   "execution_count": 4,
   "id": "db45df8b",
   "metadata": {},
   "outputs": [],
   "source": [
    "complex_field_temp_kernel = complex_field_temp * kernel_field\n",
    "fftpower_old = FFTPower_old(Nmesh, boxsize, shotnoise=0.0)\n",
    "complex_field_temp_kernel = complex_field_temp_kernel * np.conj(complex_field_temp_kernel) * np.prod(fftpower_old.attrs[\"BoxSize\"])\n",
    "fftpower_old.is_run_ps_3d = True\n",
    "_ = fftpower_old.run(complex_field_temp_kernel, 0.1, 3.1, 0.01, 50, mode=\"2d\", run_ps_3d=False, nthreads=10)"
   ]
  },
  {
   "cell_type": "code",
   "execution_count": 8,
   "id": "f3c047aa",
   "metadata": {},
   "outputs": [],
   "source": [
    "fftpower_new = FFTPower(Nmesh, boxsize, shotnoise=0.0)\n",
    "deal_ps_3d(ps_3d, ps_3d_kernel=kernel_field, ps_3d_factor=np.prod(fftpower_new.attrs[\"BoxSize\"]), shotnoise=fftpower_new.attrs[\"shotnoise\"], nthreads=10)\n",
    "_ = fftpower_new.run(ps_3d, 0.1, 3.1, 0.01, 50, mode=\"2d\", nthreads=10)"
   ]
  },
  {
   "cell_type": "code",
   "execution_count": 6,
   "id": "55e83313",
   "metadata": {},
   "outputs": [
    {
     "data": {
      "text/plain": [
       "np.float64(4.057218621356175e-06)"
      ]
     },
     "execution_count": 6,
     "metadata": {},
     "output_type": "execute_result"
    }
   ],
   "source": [
    "np.nansum(np.abs(fftpower_old.power[\"Pkmu\"] - fftpower_new.power[\"Pkmu\"]))"
   ]
  },
  {
   "cell_type": "markdown",
   "id": "c8fb8c91",
   "metadata": {},
   "source": [
    "### 测试：numba和cuda版本的FFTPower "
   ]
  },
  {
   "cell_type": "code",
   "execution_count": 1,
   "id": "fb76b08b",
   "metadata": {},
   "outputs": [],
   "source": [
    "%reload_ext autoreload\n",
    "%autoreload 2"
   ]
  },
  {
   "cell_type": "code",
   "execution_count": 2,
   "id": "ff385420",
   "metadata": {},
   "outputs": [],
   "source": [
    "import numpy as np \n",
    "import cupy as cp \n",
    "\n",
    "from LSS_python.fftpower import FFTPower, deal_ps_3d\n",
    "from LSS_python.cuda.fftpower import get_deal_ps_core_kernel, get_run_fftpower_core_kernel"
   ]
  },
  {
   "cell_type": "code",
   "execution_count": 3,
   "id": "17b37fe0",
   "metadata": {},
   "outputs": [],
   "source": [
    "complex_field = np.load(\"/Raid6/1/xiaoliang/simulation/ska/data/snap100_myfft/mesh1024/mass_fftpower_mesh1024_all_complex/complex_field.npy\")\n",
    "ps_3d_cpu = np.copy(complex_field)\n",
    "ps_3d_gpu = cp.asarray(ps_3d_cpu)"
   ]
  },
  {
   "cell_type": "code",
   "execution_count": 4,
   "id": "074617fd",
   "metadata": {},
   "outputs": [],
   "source": [
    "fftpower_cpu = FFTPower(1024, 1000.0, 0.0)\n",
    "deal_ps_3d(ps_3d_cpu, None, 1000.0**3, 0.0, nthreads=10)"
   ]
  },
  {
   "cell_type": "code",
   "execution_count": 5,
   "id": "fa57b0ac",
   "metadata": {},
   "outputs": [],
   "source": [
    "_ = fftpower_cpu.run(\n",
    "    ps_3d_cpu, 0.1, 3.1, 0.01, Nmu=50, mode=\"2d\", linear=True, nthreads=10\n",
    ")"
   ]
  },
  {
   "cell_type": "code",
   "execution_count": 6,
   "id": "77a5ea9e",
   "metadata": {},
   "outputs": [
    {
     "name": "stdout",
     "output_type": "stream",
     "text": [
      "1.29 s ± 8.87 ms per loop (mean ± std. dev. of 5 runs, 5 loops each)\n"
     ]
    }
   ],
   "source": [
    "%%timeit -n 5 -r 5 \n",
    "_ = fftpower_cpu.run(\n",
    "    ps_3d_cpu, 0.1, 3.1, 0.01, Nmu=50, mode=\"2d\", linear=True, nthreads=10\n",
    ")"
   ]
  },
  {
   "cell_type": "code",
   "execution_count": 6,
   "id": "9186fe9a",
   "metadata": {},
   "outputs": [],
   "source": [
    "deal_ps_core_kernel = get_deal_ps_core_kernel()\n",
    "deal_ps_core_kernel.compile()\n",
    "run_fftpower_core_kernel = get_run_fftpower_core_kernel()\n",
    "run_fftpower_core_kernel.compile()"
   ]
  },
  {
   "cell_type": "code",
   "execution_count": 7,
   "id": "dc4304b2",
   "metadata": {},
   "outputs": [],
   "source": [
    "fftpower_gpu = FFTPower(1024, 1000.0, 0.0)\n",
    "nx, ny, nz = ps_3d_gpu.shape\n",
    "ps_3d_kernel_gpu = cp.array([0], dtype=cp.complex64)\n",
    "deal_ps_core_kernel((nx,ny), (nz,), (ps_3d_gpu, ps_3d_kernel_gpu, nx, ny, nz, 1000.0**3, 0.0, False))\n",
    "fftpower_gpu.run_from_cuda(\n",
    "    run_fftpower_core_kernel,\n",
    "    ps_3d_gpu,\n",
    "    0.1, 3.1, 0.01, Nmu=50, mode=\"2d\"\n",
    ")\n",
    "cp.cuda.Stream.null.synchronize()"
   ]
  },
  {
   "cell_type": "code",
   "execution_count": 15,
   "id": "3aa7516e",
   "metadata": {},
   "outputs": [
    {
     "name": "stdout",
     "output_type": "stream",
     "text": [
      "count = 3758096392, 2\n",
      "count = 3758096392, 2\n",
      "count = 3758096392, 2\n",
      "count = 3758096392, 2\n",
      "count = 3758096392, 2\n",
      "count = 3758096392, 2\n",
      "count = 3758096392, 2\n",
      "count = 3758096392, 2\n",
      "count = 3758096392, 2\n",
      "count = 3758096392, 2\n",
      "count = 3758096392, 2\n",
      "count = 3758096392, 2\n",
      "count = 3758096392, 2\n",
      "count = 3758096392, 2\n",
      "count = 3758096392, 2\n",
      "count = 3758096392, 2\n",
      "count = 3758096392, 2\n",
      "count = 3758096392, 2\n",
      "count = 3758096392, 2\n",
      "count = 3758096392, 2\n",
      "count = 3758096392, 2\n",
      "count = 3758096392, 2\n",
      "count = 3758096392, 2\n",
      "count = 3758096392, 2\n",
      "count = 3758096392, 2\n",
      "114 ms ± 42.7 μs per loop (mean ± std. dev. of 5 runs, 5 loops each)\n"
     ]
    }
   ],
   "source": [
    "%%timeit -n 5 -r 5 \n",
    "fftpower_gpu.run_from_cuda(\n",
    "    run_fftpower_core_kernel,\n",
    "    ps_3d_gpu,\n",
    "    0.1, 3.1, 0.01, Nmu=50, mode=\"2d\"\n",
    ")"
   ]
  },
  {
   "cell_type": "code",
   "execution_count": 12,
   "id": "d00f5142",
   "metadata": {},
   "outputs": [
    {
     "data": {
      "text/plain": [
       "np.int64(116)"
      ]
     },
     "execution_count": 12,
     "metadata": {},
     "output_type": "execute_result"
    }
   ],
   "source": [
    "np.nanargmax(np.abs(fftpower_cpu.power[\"Pkmu\"] - fftpower_gpu.power[\"Pkmu\"]))"
   ]
  },
  {
   "cell_type": "code",
   "execution_count": 16,
   "id": "1819e622",
   "metadata": {},
   "outputs": [
    {
     "data": {
      "text/plain": [
       "np.uint64(20)"
      ]
     },
     "execution_count": 16,
     "metadata": {},
     "output_type": "execute_result"
    }
   ],
   "source": [
    "fftpower_cpu.power[\"modes\"][2, 16]"
   ]
  },
  {
   "cell_type": "code",
   "execution_count": 15,
   "id": "ded5160d",
   "metadata": {},
   "outputs": [
    {
     "data": {
      "text/plain": [
       "np.uint32(32)"
      ]
     },
     "execution_count": 15,
     "metadata": {},
     "output_type": "execute_result"
    }
   ],
   "source": [
    "fftpower_gpu.power[\"modes\"][2, 16]"
   ]
  },
  {
   "cell_type": "code",
   "execution_count": 6,
   "id": "800a7ef6",
   "metadata": {},
   "outputs": [
    {
     "data": {
      "text/plain": [
       "array([216,   0, 432,   0, 184, 224,   0, 408,   0, 208, 216,   0, 360,\n",
       "        32, 184, 192,  32, 288, 104, 176, 200,  72, 216, 128, 184, 192,\n",
       "       128, 208, 136, 176, 144, 176, 160, 168, 160, 128, 216, 152, 208,\n",
       "       168, 104, 216,  96, 208, 144, 112, 232, 112, 184, 170],\n",
       "      dtype=uint64)"
      ]
     },
     "execution_count": 6,
     "metadata": {},
     "output_type": "execute_result"
    }
   ],
   "source": [
    "fftpower_cpu.power[\"modes\"][2]"
   ]
  },
  {
   "cell_type": "code",
   "execution_count": 9,
   "id": "24812533",
   "metadata": {},
   "outputs": [
    {
     "data": {
      "text/plain": [
       "array([216,   0, 432,   0, 184, 224,   0, 408,   0, 208, 216,   0, 360,\n",
       "        32, 184, 192,  32, 288, 104, 176, 200,  72, 216, 128, 184, 192,\n",
       "       128, 208, 136, 176, 144, 176, 160, 168, 160, 128, 216, 152, 208,\n",
       "       168, 104, 216,  96, 208, 144, 112, 232, 112, 184, 170],\n",
       "      dtype=uint32)"
      ]
     },
     "execution_count": 9,
     "metadata": {},
     "output_type": "execute_result"
    }
   ],
   "source": [
    "fftpower_gpu.power[\"modes\"][2]"
   ]
  },
  {
   "cell_type": "code",
   "execution_count": 19,
   "id": "40da10b2",
   "metadata": {},
   "outputs": [
    {
     "data": {
      "text/plain": [
       "array([133,   0, 266,   0, 278,   0, 144, 142,   0, 234,   0, 246,  28,\n",
       "       162, 112,  64, 194,   0, 304, 128, 208, 216, 120, 256, 112, 208,\n",
       "       120, 224, 208, 168, 192, 224, 184, 168, 160, 168, 216, 144, 224,\n",
       "       168, 240, 152, 168, 184, 144, 232, 112, 232, 160, 196],\n",
       "      dtype=uint64)"
      ]
     },
     "execution_count": 19,
     "metadata": {},
     "output_type": "execute_result"
    }
   ],
   "source": [
    "fftpower_cpu.power[\"modes\"][3]"
   ]
  },
  {
   "cell_type": "code",
   "execution_count": 20,
   "id": "cb2229cb",
   "metadata": {},
   "outputs": [
    {
     "data": {
      "text/plain": [
       "array([212,   0, 424,   0, 440,   0, 216, 224,   0, 368,   0, 384,  48,\n",
       "       256, 184, 104, 304,   0, 304, 128, 208, 216, 120, 256, 112, 208,\n",
       "       120, 224, 208, 168, 192, 224, 184, 168, 160, 168, 216, 144, 224,\n",
       "       168, 240, 152, 168, 184, 144, 232, 112, 232, 160, 196],\n",
       "      dtype=uint32)"
      ]
     },
     "execution_count": 20,
     "metadata": {},
     "output_type": "execute_result"
    }
   ],
   "source": [
    "fftpower_gpu.power[\"modes\"][3]"
   ]
  },
  {
   "cell_type": "markdown",
   "id": "7833f366",
   "metadata": {},
   "source": [
    "### 测试：ps_convert_main的CPU和GPU功能"
   ]
  },
  {
   "cell_type": "code",
   "execution_count": 1,
   "id": "297f6d27",
   "metadata": {},
   "outputs": [],
   "source": [
    "import numpy as np\n",
    "import cupy as cp \n",
    "\n",
    "from LSS_python.AP import ps_convert_main\n",
    "from LSS_python.fftpower import deal_ps_3d, deal_ps_3d_from_cuda"
   ]
  },
  {
   "cell_type": "code",
   "execution_count": 2,
   "id": "20be7c33",
   "metadata": {},
   "outputs": [],
   "source": [
    "device_id = 0\n",
    "use_kernel = False \n",
    "complex_field = np.load(\"/Raid6/1/xiaoliang/simulation/ska/data/snap100_myfft/mesh1024/mass_fftpower_mesh1024_all_complex/complex_field.npy\")\n",
    "# kernel_field = np.load(\"/Raid6/1/xiaoliang/simulation/ska/data/mesh1024_all_complex_kernel1/complex_field.npy\")\n",
    "ps_3d_cpu = np.copy(complex_field)\n",
    "# ps_kernel_3d_cpu = np.copy(kernel_field)\n",
    "with cp.cuda.Device(device_id):\n",
    "    ps_3d_gpu = cp.asarray(ps_3d_cpu)\n",
    "    # ps_kernel_3d_gpu = cp.asarray(ps_kernel_3d_cpu)\n",
    "if not use_kernel:\n",
    "    ps_kernel_3d_cpu = None \n",
    "    ps_kernel_3d_gpu = None"
   ]
  },
  {
   "cell_type": "code",
   "execution_count": 5,
   "id": "eb233b93",
   "metadata": {},
   "outputs": [],
   "source": [
    "deal_ps_3d(ps_3d_cpu, ps_kernel_3d_cpu, 1000.0**3, 0.0, nthreads=10)\n",
    "fftpower_cpu = ps_convert_main(ps_3d_cpu, 0.3111, -1.0, 0.25, -1.4, 0.5, boxsize=1000.0, Nmesh=1024, k_min=0.1, k_max = 3.1, dk = 0.01, Nmu = 50, mode=\"2d\", nthreads=10)"
   ]
  },
  {
   "cell_type": "code",
   "execution_count": 3,
   "id": "a5057e6e",
   "metadata": {},
   "outputs": [],
   "source": [
    "with cp.cuda.Device(device_id):\n",
    "    deal_ps_3d_from_cuda(ps_3d_gpu, ps_kernel_3d_gpu, 1000.0**3, 0.0)\n",
    "\n",
    "fftpower_gpu = ps_convert_main(ps_3d_gpu, 0.3111, -1.0, 0.25, -1.4, 0.5, boxsize=1000.0, Nmesh=1024, k_min=0.1, k_max = 3.1, dk = 0.01, Nmu = 50, mode=\"2d\", device_id=device_id)"
   ]
  },
  {
   "cell_type": "code",
   "execution_count": 11,
   "id": "6e493664",
   "metadata": {},
   "outputs": [
    {
     "data": {
      "text/plain": [
       "array([ 98140,  96344,  97640,  98656,  99944, 102352, 105072, 108888,\n",
       "       116480, 124588, 125120, 125176, 125480, 124968, 124672, 125224,\n",
       "       125552, 124960, 125312, 125544, 125512, 125080, 125320, 124904,\n",
       "       125064, 125336, 125240, 124984, 124992, 125304, 125176, 125048,\n",
       "       125504, 124648, 125216, 125448, 125120, 125072, 125192, 124992,\n",
       "       124888, 125656, 124928, 125112, 125064, 125400,  60224,      0,\n",
       "            0,      0], dtype=uint32)"
      ]
     },
     "execution_count": 11,
     "metadata": {},
     "output_type": "execute_result"
    }
   ],
   "source": [
    "fftpower_gpu.power[\"modes\"][-10]"
   ]
  },
  {
   "cell_type": "code",
   "execution_count": 10,
   "id": "12c0f244",
   "metadata": {},
   "outputs": [
    {
     "data": {
      "text/plain": [
       "array([ 98140,  96344,  97640,  98656,  99944, 102352, 105072, 108888,\n",
       "       116480, 124588, 125120, 125176, 125480, 124968, 124672, 125224,\n",
       "       125552, 124960, 125312, 125544, 125512, 125080, 125320, 124904,\n",
       "       125064, 125336, 125240, 124984, 124992, 125304, 125176, 125048,\n",
       "       125504, 124648, 125216, 125448, 125120, 125072, 125192, 124992,\n",
       "       124888, 125656, 124928, 125112, 125064, 125400,  60224,      0,\n",
       "            0,      0], dtype=uint64)"
      ]
     },
     "execution_count": 10,
     "metadata": {},
     "output_type": "execute_result"
    }
   ],
   "source": [
    "fftpower_cpu.power[\"modes\"][-10]"
   ]
  },
  {
   "cell_type": "code",
   "execution_count": 5,
   "id": "bf829bb1",
   "metadata": {},
   "outputs": [
    {
     "data": {
      "text/plain": [
       "np.uint64(0)"
      ]
     },
     "execution_count": 5,
     "metadata": {},
     "output_type": "execute_result"
    }
   ],
   "source": [
    "np.nansum(np.abs(fftpower_cpu.power[\"modes\"] - cp.asnumpy(fftpower_gpu.power[\"modes\"])))"
   ]
  },
  {
   "cell_type": "markdown",
   "id": "09309d85",
   "metadata": {},
   "source": [
    "### 测试：numba版本的run_cic函数"
   ]
  },
  {
   "cell_type": "code",
   "execution_count": 1,
   "id": "4c5591a1",
   "metadata": {},
   "outputs": [],
   "source": [
    "import numpy as np \n",
    "from numba import njit \n",
    "from LSS_python.mesh import run_cic\n",
    "\n",
    "from my_fft import Mesh "
   ]
  },
  {
   "cell_type": "code",
   "execution_count": 2,
   "id": "a4015859",
   "metadata": {},
   "outputs": [],
   "source": [
    "pos = np.load(\"/Raid6/1/xiaoliang/AP_SysTest/data/11_nbar1e-3.shiftz.numNB30.npy\")[:,:3]\n",
    "struct_pos = np.empty(pos.shape[0], dtype=np.dtype([(\"Position\", \"float32\", 3)]))\n",
    "struct_pos[\"Position\"] = pos"
   ]
  },
  {
   "cell_type": "code",
   "execution_count": 8,
   "id": "40788d99",
   "metadata": {},
   "outputs": [],
   "source": [
    "mesh = Mesh(256, 2500.0)\n",
    "real_field = mesh.run_cic(struct_pos, field_dtype=np.float32, nthreads=10)"
   ]
  },
  {
   "cell_type": "code",
   "execution_count": 9,
   "id": "8c2f09fe",
   "metadata": {},
   "outputs": [],
   "source": [
    "real_field_numba = np.zeros((256, 256, 256), dtype=np.float32)\n",
    "run_cic(pos, real_field_numba, np.array([2500.0] * 3), np.array([256]*3, dtype=np.int64))"
   ]
  },
  {
   "cell_type": "code",
   "execution_count": 5,
   "id": "eb935d3d",
   "metadata": {},
   "outputs": [
    {
     "data": {
      "text/plain": [
       "array([126.94786 , 129.86403 , 150.2515  , 190.74274 , 143.54372 ,\n",
       "       115.67989 ,  70.903656,  81.55252 ,  96.41311 ,  59.35935 ,\n",
       "        60.87677 , 188.61066 , 107.72917 ,  86.72349 , 106.56098 ,\n",
       "       172.04427 , 239.21622 , 173.68716 ,  83.22322 , 138.33684 ,\n",
       "       138.63982 , 118.98805 , 123.8032  , 110.22647 , 145.77559 ,\n",
       "       164.63188 ,  85.77486 , 109.25189 , 144.78152 , 131.37888 ,\n",
       "       128.7141  , 110.37267 ,  79.21247 ,  69.26166 ,  93.65241 ,\n",
       "        75.967575, 126.4091  , 215.97528 , 250.51453 , 196.19948 ,\n",
       "        88.78135 , 101.352585, 129.88208 , 160.151   ,  73.57452 ,\n",
       "        88.40904 , 135.4199  ,  87.44953 , 108.483505, 120.393265],\n",
       "      dtype=float32)"
      ]
     },
     "execution_count": 5,
     "metadata": {},
     "output_type": "execute_result"
    }
   ],
   "source": [
    "real_field_numba[0,0]"
   ]
  },
  {
   "cell_type": "code",
   "execution_count": 10,
   "id": "995040af",
   "metadata": {},
   "outputs": [
    {
     "data": {
      "text/plain": [
       "np.float32(3.7665975e-06)"
      ]
     },
     "execution_count": 10,
     "metadata": {},
     "output_type": "execute_result"
    }
   ],
   "source": [
    "np.mean(np.abs(real_field - real_field_numba))"
   ]
  },
  {
   "cell_type": "markdown",
   "id": "fd36dbbe",
   "metadata": {},
   "source": [
    "### 测试：cuda版本的CIC"
   ]
  },
  {
   "cell_type": "code",
   "execution_count": 1,
   "id": "7cf9abed",
   "metadata": {},
   "outputs": [],
   "source": [
    "import numpy as np \n",
    "import cupy as cp \n",
    "from LSS_python.mesh import run_cic, run_cic_from_cuda"
   ]
  },
  {
   "cell_type": "code",
   "execution_count": 2,
   "id": "3a19d790",
   "metadata": {},
   "outputs": [],
   "source": [
    "pos = np.load(\"/Raid6/1/xiaoliang/AP_SysTest/data/11_nbar1e-3.shiftz.numNB30.npy\")[:,:3]"
   ]
  },
  {
   "cell_type": "code",
   "execution_count": 3,
   "id": "07f83965",
   "metadata": {},
   "outputs": [],
   "source": [
    "Nmesh = 256\n",
    "real_field_numba = np.zeros((Nmesh, Nmesh, Nmesh), dtype=np.float32)\n",
    "run_cic(pos, real_field_numba, np.array([2500.0] * 3), np.array([Nmesh]*3, dtype=np.int64))"
   ]
  },
  {
   "cell_type": "code",
   "execution_count": 3,
   "id": "7943d80f",
   "metadata": {},
   "outputs": [
    {
     "ename": "TypeError",
     "evalue": "'ndarray' object cannot be interpreted as an integer",
     "output_type": "error",
     "traceback": [
      "\u001b[31m---------------------------------------------------------------------------\u001b[39m",
      "\u001b[31mTypeError\u001b[39m                                 Traceback (most recent call last)",
      "\u001b[36mCell\u001b[39m\u001b[36m \u001b[39m\u001b[32mIn[3]\u001b[39m\u001b[32m, line 3\u001b[39m\n\u001b[32m      1\u001b[39m Nmesh = \u001b[32m256\u001b[39m\n\u001b[32m      2\u001b[39m real_field_numba = np.zeros((Nmesh, Nmesh, Nmesh), dtype=np.float32)\n\u001b[32m----> \u001b[39m\u001b[32m3\u001b[39m real_field = \u001b[43mrun_cic_from_cuda\u001b[49m\u001b[43m(\u001b[49m\u001b[43mcp\u001b[49m\u001b[43m.\u001b[49m\u001b[43masarray\u001b[49m\u001b[43m(\u001b[49m\u001b[43mpos\u001b[49m\u001b[43m)\u001b[49m\u001b[43m,\u001b[49m\u001b[43m \u001b[49m\u001b[43mcp\u001b[49m\u001b[43m.\u001b[49m\u001b[43marray\u001b[49m\u001b[43m(\u001b[49m\u001b[43m[\u001b[49m\u001b[32;43m2500.0\u001b[39;49m\u001b[43m]\u001b[49m\u001b[43m \u001b[49m\u001b[43m*\u001b[49m\u001b[43m \u001b[49m\u001b[32;43m3\u001b[39;49m\u001b[43m)\u001b[49m\u001b[43m,\u001b[49m\u001b[43m \u001b[49m\u001b[43mcp\u001b[49m\u001b[43m.\u001b[49m\u001b[43marray\u001b[49m\u001b[43m(\u001b[49m\u001b[43m[\u001b[49m\u001b[43mNmesh\u001b[49m\u001b[43m]\u001b[49m\u001b[43m*\u001b[49m\u001b[32;43m3\u001b[39;49m\u001b[43m,\u001b[49m\u001b[43m \u001b[49m\u001b[43mdtype\u001b[49m\u001b[43m=\u001b[49m\u001b[43mcp\u001b[49m\u001b[43m.\u001b[49m\u001b[43mint64\u001b[49m\u001b[43m)\u001b[49m\u001b[43m)\u001b[49m\n",
      "\u001b[36mFile \u001b[39m\u001b[32m~/.local/lib/python3.12/site-packages/LSS_python/mesh.py:55\u001b[39m, in \u001b[36mrun_cic_from_cuda\u001b[39m\u001b[34m(pos, boxsize, ngrids)\u001b[39m\n\u001b[32m     52\u001b[39m nthreads = nparticle \u001b[38;5;28;01mif\u001b[39;00m nparticle < \u001b[32m1024\u001b[39m \u001b[38;5;28;01melse\u001b[39;00m \u001b[32m1024\u001b[39m \n\u001b[32m     53\u001b[39m ngridx = nparticle // nthreads + \u001b[32m1\u001b[39m\n\u001b[32m---> \u001b[39m\u001b[32m55\u001b[39m field = \u001b[43mcp\u001b[49m\u001b[43m.\u001b[49m\u001b[43mzeros\u001b[49m\u001b[43m(\u001b[49m\u001b[43mngrids\u001b[49m\u001b[43m,\u001b[49m\u001b[43m \u001b[49m\u001b[43mdtype\u001b[49m\u001b[43m=\u001b[49m\u001b[43mcp\u001b[49m\u001b[43m.\u001b[49m\u001b[43mfloat32\u001b[49m\u001b[43m)\u001b[49m\n\u001b[32m     56\u001b[39m run_cic_core_kernel((ngridx, ), (nthreads, ), (pos, nparticle, field, boxsize, ngrids))\n\u001b[32m     58\u001b[39m \u001b[38;5;28;01mreturn\u001b[39;00m cp.asnumpy(field)\n",
      "\u001b[36mFile \u001b[39m\u001b[32m/software/miniconda3/envs/torch/lib/python3.12/site-packages/cupy/_creation/basic.py:250\u001b[39m, in \u001b[36mzeros\u001b[39m\u001b[34m(shape, dtype, order)\u001b[39m\n\u001b[32m    231\u001b[39m \u001b[38;5;28;01mdef\u001b[39;00m\u001b[38;5;250m \u001b[39m\u001b[34mzeros\u001b[39m(\n\u001b[32m    232\u001b[39m         shape: _ShapeLike,\n\u001b[32m    233\u001b[39m         dtype: DTypeLike = \u001b[38;5;28mfloat\u001b[39m,\n\u001b[32m    234\u001b[39m         order: _OrderCF = \u001b[33m'\u001b[39m\u001b[33mC\u001b[39m\u001b[33m'\u001b[39m,\n\u001b[32m    235\u001b[39m ) -> NDArray[Any]:\n\u001b[32m    236\u001b[39m \u001b[38;5;250m    \u001b[39m\u001b[33;03m\"\"\"Returns a new array of given shape and dtype, filled with zeros.\u001b[39;00m\n\u001b[32m    237\u001b[39m \n\u001b[32m    238\u001b[39m \u001b[33;03m    Args:\u001b[39;00m\n\u001b[32m   (...)\u001b[39m\u001b[32m    248\u001b[39m \n\u001b[32m    249\u001b[39m \u001b[33;03m    \"\"\"\u001b[39;00m\n\u001b[32m--> \u001b[39m\u001b[32m250\u001b[39m     a = \u001b[43mcupy\u001b[49m\u001b[43m.\u001b[49m\u001b[43mndarray\u001b[49m\u001b[43m(\u001b[49m\u001b[43mshape\u001b[49m\u001b[43m,\u001b[49m\u001b[43m \u001b[49m\u001b[43mdtype\u001b[49m\u001b[43m,\u001b[49m\u001b[43m \u001b[49m\u001b[43morder\u001b[49m\u001b[43m=\u001b[49m\u001b[43morder\u001b[49m\u001b[43m)\u001b[49m\n\u001b[32m    251\u001b[39m     a.data.memset_async(\u001b[32m0\u001b[39m, a.nbytes)\n\u001b[32m    252\u001b[39m     \u001b[38;5;28;01mreturn\u001b[39;00m a\n",
      "\u001b[36mFile \u001b[39m\u001b[32mcupy/_core/core.pyx:151\u001b[39m, in \u001b[36mcupy._core.core.ndarray.__new__\u001b[39m\u001b[34m()\u001b[39m\n",
      "\u001b[36mFile \u001b[39m\u001b[32mcupy/_core/core.pyx:216\u001b[39m, in \u001b[36mcupy._core.core._ndarray_base._init\u001b[39m\u001b[34m()\u001b[39m\n",
      "\u001b[31mTypeError\u001b[39m: 'ndarray' object cannot be interpreted as an integer"
     ]
    }
   ],
   "source": [
    "Nmesh = 256\n",
    "real_field_numba = np.zeros((Nmesh, Nmesh, Nmesh), dtype=np.float32)\n",
    "real_field = run_cic_from_cuda(cp.asarray(pos), cp.array([2500.0] * 3), cp.array([Nmesh]*3, dtype=cp.int64))"
   ]
  },
  {
   "cell_type": "code",
   "execution_count": 5,
   "id": "36d4db65",
   "metadata": {},
   "outputs": [],
   "source": [
    "test = cp.array(cp.array([Nmesh]*3, dtype=cp.int64))"
   ]
  },
  {
   "cell_type": "code",
   "execution_count": 9,
   "id": "2b2b0a56",
   "metadata": {},
   "outputs": [
    {
     "data": {
      "text/plain": [
       "array([[0., 0., 0., 0., 0.],\n",
       "       [0., 0., 0., 0., 0.],\n",
       "       [0., 0., 0., 0., 0.],\n",
       "       [0., 0., 0., 0., 0.],\n",
       "       [0., 0., 0., 0., 0.]], dtype=float32)"
      ]
     },
     "execution_count": 9,
     "metadata": {},
     "output_type": "execute_result"
    }
   ],
   "source": [
    "cp.zeros((5,5), dtype=cp.float32)"
   ]
  },
  {
   "cell_type": "code",
   "execution_count": null,
   "id": "e80b16cf",
   "metadata": {},
   "outputs": [],
   "source": []
  }
 ],
 "metadata": {
  "kernelspec": {
   "display_name": "xiaoliang",
   "language": "python",
   "name": "python3"
  },
  "language_info": {
   "codemirror_mode": {
    "name": "ipython",
    "version": 3
   },
   "file_extension": ".py",
   "mimetype": "text/x-python",
   "name": "python",
   "nbconvert_exporter": "python",
   "pygments_lexer": "ipython3",
   "version": "3.10.0"
  }
 },
 "nbformat": 4,
 "nbformat_minor": 5
}
