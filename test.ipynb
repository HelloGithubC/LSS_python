{
 "cells": [
  {
   "cell_type": "markdown",
   "id": "e42455d4",
   "metadata": {},
   "source": [
    "### 测试CUTE和Corrfunc差异"
   ]
  },
  {
   "cell_type": "code",
   "execution_count": 1,
   "id": "c2affecc",
   "metadata": {},
   "outputs": [],
   "source": [
    "import numpy as np \n",
    "import joblib "
   ]
  },
  {
   "cell_type": "code",
   "execution_count": 2,
   "id": "b49cb299",
   "metadata": {},
   "outputs": [],
   "source": [
    "root_path = \"/Raid6/1/xiaoliang/simulation/BIGMDPL/data/\""
   ]
  },
  {
   "cell_type": "code",
   "execution_count": 3,
   "id": "043f12f6",
   "metadata": {},
   "outputs": [],
   "source": [
    "tpcf_corr = joblib.load(root_path + \"tpCF-11_nbar1e-3.shiftz-nbar1e-3.x8ran0-150s0to150_120mu.pkl\")"
   ]
  },
  {
   "cell_type": "code",
   "execution_count": 8,
   "id": "dab3c7ae",
   "metadata": {},
   "outputs": [
    {
     "data": {
      "text/plain": [
       "array([0.        , 0.00833333, 0.01666667, 0.025     , 0.03333333,\n",
       "       0.04166667, 0.05      , 0.05833333, 0.06666667, 0.075     ,\n",
       "       0.08333333, 0.09166667, 0.1       , 0.10833333, 0.11666667,\n",
       "       0.125     , 0.13333333, 0.14166667, 0.15      , 0.15833333,\n",
       "       0.16666667, 0.175     , 0.18333333, 0.19166667, 0.2       ,\n",
       "       0.20833333, 0.21666667, 0.225     , 0.23333333, 0.24166667,\n",
       "       0.25      , 0.25833333, 0.26666667, 0.275     , 0.28333333,\n",
       "       0.29166667, 0.3       , 0.30833333, 0.31666667, 0.325     ,\n",
       "       0.33333333, 0.34166667, 0.35      , 0.35833333, 0.36666667,\n",
       "       0.375     , 0.38333333, 0.39166667, 0.4       , 0.40833333,\n",
       "       0.41666667, 0.425     , 0.43333333, 0.44166667, 0.45      ,\n",
       "       0.45833333, 0.46666667, 0.475     , 0.48333333, 0.49166667,\n",
       "       0.5       , 0.50833333, 0.51666667, 0.525     , 0.53333333,\n",
       "       0.54166667, 0.55      , 0.55833333, 0.56666667, 0.575     ,\n",
       "       0.58333333, 0.59166667, 0.6       , 0.60833333, 0.61666667,\n",
       "       0.625     , 0.63333333, 0.64166667, 0.65      , 0.65833333,\n",
       "       0.66666667, 0.675     , 0.68333333, 0.69166667, 0.7       ,\n",
       "       0.70833333, 0.71666667, 0.725     , 0.73333333, 0.74166667,\n",
       "       0.75      , 0.75833333, 0.76666667, 0.775     , 0.78333333,\n",
       "       0.79166667, 0.8       , 0.80833333, 0.81666667, 0.825     ,\n",
       "       0.83333333, 0.84166667, 0.85      , 0.85833333, 0.86666667,\n",
       "       0.875     , 0.88333333, 0.89166667, 0.9       , 0.90833333,\n",
       "       0.91666667, 0.925     , 0.93333333, 0.94166667, 0.95      ,\n",
       "       0.95833333, 0.96666667, 0.975     , 0.98333333, 0.99166667,\n",
       "       1.        ])"
      ]
     },
     "execution_count": 8,
     "metadata": {},
     "output_type": "execute_result"
    }
   ],
   "source": [
    "tpcf_corr[\"muedges\"]"
   ]
  },
  {
   "cell_type": "markdown",
   "id": "3e462124",
   "metadata": {},
   "source": [
    "### 测试宇宙学转换函数核心速度"
   ]
  },
  {
   "cell_type": "code",
   "execution_count": 1,
   "id": "a4c2335d",
   "metadata": {},
   "outputs": [],
   "source": [
    "import numpy as np \n",
    "import math\n",
    "from LSS_python.base import DA_jit, Hz_jit\n",
    "from numba import njit "
   ]
  },
  {
   "cell_type": "code",
   "execution_count": 2,
   "id": "171e1356",
   "metadata": {},
   "outputs": [],
   "source": [
    "@njit\n",
    "def smu_cosmo_convert(s_f, mu_f, DA_f, DA_t, H_f, H_t):\n",
    "    \"\"\"s1: angular direction; s2: LOS direction\n",
    "    f: fiducial; t: task\n",
    "    \"\"\"\n",
    "    s2 = s_f * mu_f\n",
    "    s1 = s_f * np.sqrt(1 - mu_f**2)\n",
    "    alpha1 = DA_t / DA_f\n",
    "    alpha2 = H_f / H_t\n",
    "    s_t = np.sqrt((alpha1 * s1) ** 2 + (alpha2 * s2) ** 2)\n",
    "    mu_t = alpha2 * s2 / (s_t + 1e-15)\n",
    "    return s_t, mu_t\n",
    "\n",
    "@njit\n",
    "def smu_cosmo_convert_math(s_f, mu_f, DA_f, DA_t, H_f, H_t):\n",
    "    \"\"\"s1: angular direction; s2: LOS direction\n",
    "    f: fiducial; t: task\n",
    "    \"\"\"\n",
    "    s2 = s_f * mu_f\n",
    "    s1 = s_f * math.sqrt(1 - mu_f**2)\n",
    "    alpha1 = DA_t / DA_f\n",
    "    alpha2 = H_f / H_t\n",
    "    s_t = math.sqrt((alpha1 * s1) ** 2 + (alpha2 * s2) ** 2)\n",
    "    mu_t = alpha2 * s2 / (s_t + 1e-15)\n",
    "    return s_t, mu_t"
   ]
  },
  {
   "cell_type": "code",
   "execution_count": 3,
   "id": "603d9ee5",
   "metadata": {},
   "outputs": [],
   "source": [
    "DA_f = DA_jit(0.6, 0.3071, -1.0)\n",
    "DA_t = DA_jit(0.6, 0.4071, -0.8)\n",
    "\n",
    "Hz_f = Hz_jit(0.6, 0.3071, -1.0)\n",
    "Hz_t = Hz_jit(0.6, 0.4071, -0.8)"
   ]
  },
  {
   "cell_type": "code",
   "execution_count": 4,
   "id": "5ac25379",
   "metadata": {},
   "outputs": [],
   "source": [
    "s_f, mu_f = 10.0, 0.4\n",
    "s_t1, mu_t1 = smu_cosmo_convert(s_f, mu_f, DA_f, DA_t, Hz_f, Hz_t)\n",
    "s_t2, mu_t2 = smu_cosmo_convert_math(s_f, mu_f, DA_f, DA_t, Hz_f, Hz_t)"
   ]
  },
  {
   "cell_type": "code",
   "execution_count": 9,
   "id": "ea893841",
   "metadata": {},
   "outputs": [],
   "source": [
    "number = 50000 * 100\n",
    "\n",
    "s_f_array = np.ones(number) * s_f\n",
    "mu_f_array = np.ones(number) * mu_f\n",
    "DA_f_array = np.ones(number) * DA_f\n",
    "Hz_f_array = np.ones(number) * Hz_f\n",
    "Hz_t_array = np.ones(number) * Hz_t\n",
    "DA_t_array = np.ones(number) * DA_t\n",
    "\n",
    "s_t_array, mu_t_array = smu_cosmo_convert(s_f_array, mu_f_array, DA_f_array, DA_t_array, Hz_f_array, Hz_t_array)"
   ]
  },
  {
   "cell_type": "code",
   "execution_count": 10,
   "id": "566b31a1",
   "metadata": {},
   "outputs": [
    {
     "name": "stdout",
     "output_type": "stream",
     "text": [
      "181 ms ± 4.96 ms per loop (mean ± std. dev. of 5 runs, 3 loops each)\n"
     ]
    }
   ],
   "source": [
    "%%timeit -n 3 -r 5\n",
    "s_t_array, mu_t_array = smu_cosmo_convert(s_f_array, mu_f_array, DA_f_array, DA_t_array, Hz_f_array, Hz_t_array)"
   ]
  },
  {
   "cell_type": "code",
   "execution_count": 21,
   "id": "e788436d",
   "metadata": {},
   "outputs": [
    {
     "name": "stdout",
     "output_type": "stream",
     "text": [
      "1.67 μs ± 102 ns per loop (mean ± std. dev. of 5 runs, 100 loops each)\n"
     ]
    }
   ],
   "source": [
    "%%timeit -n 100 -r 5\n",
    "s_t1, mu_t1 = smu_cosmo_convert(s_f, mu_f, DA_f, DA_t, Hz_f, Hz_t)"
   ]
  },
  {
   "cell_type": "code",
   "execution_count": 22,
   "id": "c9b341fe",
   "metadata": {},
   "outputs": [
    {
     "name": "stdout",
     "output_type": "stream",
     "text": [
      "1.62 μs ± 89 ns per loop (mean ± std. dev. of 5 runs, 100 loops each)\n"
     ]
    }
   ],
   "source": [
    "%%timeit -n 100 -r 5\n",
    "s_t2, mu_t2 = smu_cosmo_convert_math(s_f, mu_f, DA_f, DA_t, Hz_f, Hz_t)"
   ]
  },
  {
   "cell_type": "markdown",
   "id": "907fda33",
   "metadata": {},
   "source": [
    "### 测试：积分函数"
   ]
  },
  {
   "cell_type": "code",
   "execution_count": 1,
   "id": "634928e6",
   "metadata": {},
   "outputs": [],
   "source": [
    "import numpy as np \n",
    "from LSS_python.base import traz "
   ]
  },
  {
   "cell_type": "code",
   "execution_count": 2,
   "id": "d7534fbc",
   "metadata": {},
   "outputs": [
    {
     "name": "stdout",
     "output_type": "stream",
     "text": [
      "1.9998321638939927\n"
     ]
    }
   ],
   "source": [
    "x_array = np.linspace(0.0, 1*np.pi, 100)\n",
    "V_array = np.sin(x_array)\n",
    "print(traz(V_array, x_array))"
   ]
  },
  {
   "cell_type": "code",
   "execution_count": 8,
   "id": "041f3b16",
   "metadata": {},
   "outputs": [
    {
     "name": "stdout",
     "output_type": "stream",
     "text": [
      "3.0\n"
     ]
    }
   ],
   "source": [
    "x_array = np.linspace(0, 2, 10)\n",
    "y_array = np.linspace(0, 1, 10)\n",
    "X_mesh, Y_mesh = np.meshgrid(x_array, y_array, indexing=\"ij\")\n",
    "V_array = X_mesh + Y_mesh\n",
    "print(traz(V_array, x_array, y_array))"
   ]
  },
  {
   "cell_type": "markdown",
   "id": "77dd09b9",
   "metadata": {},
   "source": [
    "### 测试：二维结果获取函数测试 "
   ]
  },
  {
   "cell_type": "code",
   "execution_count": null,
   "id": "d58a3643",
   "metadata": {},
   "outputs": [],
   "source": [
    "import numpy as np \n",
    "from LSS_python.tpcf import xismu \n",
    "from xitools import xismu as xismu_old "
   ]
  },
  {
   "cell_type": "code",
   "execution_count": null,
   "id": "11bbbacc",
   "metadata": {},
   "outputs": [],
   "source": []
  }
 ],
 "metadata": {
  "kernelspec": {
   "display_name": "xiaoliang",
   "language": "python",
   "name": "python3"
  },
  "language_info": {
   "codemirror_mode": {
    "name": "ipython",
    "version": 3
   },
   "file_extension": ".py",
   "mimetype": "text/x-python",
   "name": "python",
   "nbconvert_exporter": "python",
   "pygments_lexer": "ipython3",
   "version": "3.10.0"
  }
 },
 "nbformat": 4,
 "nbformat_minor": 5
}
