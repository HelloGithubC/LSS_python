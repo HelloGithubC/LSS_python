{
 "cells": [
  {
   "cell_type": "markdown",
   "id": "e42455d4",
   "metadata": {},
   "source": [
    "### 测试CUTE和Corrfunc差异"
   ]
  },
  {
   "cell_type": "code",
   "execution_count": 1,
   "id": "c2affecc",
   "metadata": {},
   "outputs": [],
   "source": [
    "import numpy as np \n",
    "import joblib "
   ]
  },
  {
   "cell_type": "code",
   "execution_count": 2,
   "id": "b49cb299",
   "metadata": {},
   "outputs": [],
   "source": [
    "root_path = \"/Raid6/1/xiaoliang/simulation/BIGMDPL/data/\""
   ]
  },
  {
   "cell_type": "code",
   "execution_count": 3,
   "id": "043f12f6",
   "metadata": {},
   "outputs": [],
   "source": [
    "tpcf_corr = joblib.load(root_path + \"tpCF-11_nbar1e-3.shiftz-nbar1e-3.x8ran0-150s0to150_120mu.pkl\")"
   ]
  },
  {
   "cell_type": "code",
   "execution_count": 8,
   "id": "dab3c7ae",
   "metadata": {},
   "outputs": [
    {
     "data": {
      "text/plain": [
       "array([0.        , 0.00833333, 0.01666667, 0.025     , 0.03333333,\n",
       "       0.04166667, 0.05      , 0.05833333, 0.06666667, 0.075     ,\n",
       "       0.08333333, 0.09166667, 0.1       , 0.10833333, 0.11666667,\n",
       "       0.125     , 0.13333333, 0.14166667, 0.15      , 0.15833333,\n",
       "       0.16666667, 0.175     , 0.18333333, 0.19166667, 0.2       ,\n",
       "       0.20833333, 0.21666667, 0.225     , 0.23333333, 0.24166667,\n",
       "       0.25      , 0.25833333, 0.26666667, 0.275     , 0.28333333,\n",
       "       0.29166667, 0.3       , 0.30833333, 0.31666667, 0.325     ,\n",
       "       0.33333333, 0.34166667, 0.35      , 0.35833333, 0.36666667,\n",
       "       0.375     , 0.38333333, 0.39166667, 0.4       , 0.40833333,\n",
       "       0.41666667, 0.425     , 0.43333333, 0.44166667, 0.45      ,\n",
       "       0.45833333, 0.46666667, 0.475     , 0.48333333, 0.49166667,\n",
       "       0.5       , 0.50833333, 0.51666667, 0.525     , 0.53333333,\n",
       "       0.54166667, 0.55      , 0.55833333, 0.56666667, 0.575     ,\n",
       "       0.58333333, 0.59166667, 0.6       , 0.60833333, 0.61666667,\n",
       "       0.625     , 0.63333333, 0.64166667, 0.65      , 0.65833333,\n",
       "       0.66666667, 0.675     , 0.68333333, 0.69166667, 0.7       ,\n",
       "       0.70833333, 0.71666667, 0.725     , 0.73333333, 0.74166667,\n",
       "       0.75      , 0.75833333, 0.76666667, 0.775     , 0.78333333,\n",
       "       0.79166667, 0.8       , 0.80833333, 0.81666667, 0.825     ,\n",
       "       0.83333333, 0.84166667, 0.85      , 0.85833333, 0.86666667,\n",
       "       0.875     , 0.88333333, 0.89166667, 0.9       , 0.90833333,\n",
       "       0.91666667, 0.925     , 0.93333333, 0.94166667, 0.95      ,\n",
       "       0.95833333, 0.96666667, 0.975     , 0.98333333, 0.99166667,\n",
       "       1.        ])"
      ]
     },
     "execution_count": 8,
     "metadata": {},
     "output_type": "execute_result"
    }
   ],
   "source": [
    "tpcf_corr[\"muedges\"]"
   ]
  },
  {
   "cell_type": "markdown",
   "id": "3e462124",
   "metadata": {},
   "source": [
    "### 测试宇宙学转换函数核心速度"
   ]
  },
  {
   "cell_type": "code",
   "execution_count": 1,
   "id": "a4c2335d",
   "metadata": {},
   "outputs": [],
   "source": [
    "import numpy as np \n",
    "import math\n",
    "from LSS_python.base import DA_jit, Hz_jit\n",
    "from numba import njit "
   ]
  },
  {
   "cell_type": "code",
   "execution_count": 2,
   "id": "171e1356",
   "metadata": {},
   "outputs": [],
   "source": [
    "@njit\n",
    "def smu_cosmo_convert(s_f, mu_f, DA_f, DA_t, H_f, H_t):\n",
    "    \"\"\"s1: angular direction; s2: LOS direction\n",
    "    f: fiducial; t: task\n",
    "    \"\"\"\n",
    "    s2 = s_f * mu_f\n",
    "    s1 = s_f * np.sqrt(1 - mu_f**2)\n",
    "    alpha1 = DA_t / DA_f\n",
    "    alpha2 = H_f / H_t\n",
    "    s_t = np.sqrt((alpha1 * s1) ** 2 + (alpha2 * s2) ** 2)\n",
    "    mu_t = alpha2 * s2 / (s_t + 1e-15)\n",
    "    return s_t, mu_t\n",
    "\n",
    "@njit\n",
    "def smu_cosmo_convert_math(s_f, mu_f, DA_f, DA_t, H_f, H_t):\n",
    "    \"\"\"s1: angular direction; s2: LOS direction\n",
    "    f: fiducial; t: task\n",
    "    \"\"\"\n",
    "    s2 = s_f * mu_f\n",
    "    s1 = s_f * math.sqrt(1 - mu_f**2)\n",
    "    alpha1 = DA_t / DA_f\n",
    "    alpha2 = H_f / H_t\n",
    "    s_t = math.sqrt((alpha1 * s1) ** 2 + (alpha2 * s2) ** 2)\n",
    "    mu_t = alpha2 * s2 / (s_t + 1e-15)\n",
    "    return s_t, mu_t"
   ]
  },
  {
   "cell_type": "code",
   "execution_count": 3,
   "id": "603d9ee5",
   "metadata": {},
   "outputs": [],
   "source": [
    "DA_f = DA_jit(0.6, 0.3071, -1.0)\n",
    "DA_t = DA_jit(0.6, 0.4071, -0.8)\n",
    "\n",
    "Hz_f = Hz_jit(0.6, 0.3071, -1.0)\n",
    "Hz_t = Hz_jit(0.6, 0.4071, -0.8)"
   ]
  },
  {
   "cell_type": "code",
   "execution_count": 4,
   "id": "5ac25379",
   "metadata": {},
   "outputs": [],
   "source": [
    "s_f, mu_f = 10.0, 0.4\n",
    "s_t1, mu_t1 = smu_cosmo_convert(s_f, mu_f, DA_f, DA_t, Hz_f, Hz_t)\n",
    "s_t2, mu_t2 = smu_cosmo_convert_math(s_f, mu_f, DA_f, DA_t, Hz_f, Hz_t)"
   ]
  },
  {
   "cell_type": "code",
   "execution_count": 9,
   "id": "ea893841",
   "metadata": {},
   "outputs": [],
   "source": [
    "number = 50000 * 100\n",
    "\n",
    "s_f_array = np.ones(number) * s_f\n",
    "mu_f_array = np.ones(number) * mu_f\n",
    "DA_f_array = np.ones(number) * DA_f\n",
    "Hz_f_array = np.ones(number) * Hz_f\n",
    "Hz_t_array = np.ones(number) * Hz_t\n",
    "DA_t_array = np.ones(number) * DA_t\n",
    "\n",
    "s_t_array, mu_t_array = smu_cosmo_convert(s_f_array, mu_f_array, DA_f_array, DA_t_array, Hz_f_array, Hz_t_array)"
   ]
  },
  {
   "cell_type": "code",
   "execution_count": 10,
   "id": "566b31a1",
   "metadata": {},
   "outputs": [
    {
     "name": "stdout",
     "output_type": "stream",
     "text": [
      "181 ms ± 4.96 ms per loop (mean ± std. dev. of 5 runs, 3 loops each)\n"
     ]
    }
   ],
   "source": [
    "%%timeit -n 3 -r 5\n",
    "s_t_array, mu_t_array = smu_cosmo_convert(s_f_array, mu_f_array, DA_f_array, DA_t_array, Hz_f_array, Hz_t_array)"
   ]
  },
  {
   "cell_type": "code",
   "execution_count": 21,
   "id": "e788436d",
   "metadata": {},
   "outputs": [
    {
     "name": "stdout",
     "output_type": "stream",
     "text": [
      "1.67 μs ± 102 ns per loop (mean ± std. dev. of 5 runs, 100 loops each)\n"
     ]
    }
   ],
   "source": [
    "%%timeit -n 100 -r 5\n",
    "s_t1, mu_t1 = smu_cosmo_convert(s_f, mu_f, DA_f, DA_t, Hz_f, Hz_t)"
   ]
  },
  {
   "cell_type": "code",
   "execution_count": 22,
   "id": "c9b341fe",
   "metadata": {},
   "outputs": [
    {
     "name": "stdout",
     "output_type": "stream",
     "text": [
      "1.62 μs ± 89 ns per loop (mean ± std. dev. of 5 runs, 100 loops each)\n"
     ]
    }
   ],
   "source": [
    "%%timeit -n 100 -r 5\n",
    "s_t2, mu_t2 = smu_cosmo_convert_math(s_f, mu_f, DA_f, DA_t, Hz_f, Hz_t)"
   ]
  },
  {
   "cell_type": "markdown",
   "id": "907fda33",
   "metadata": {},
   "source": [
    "### 测试：积分函数"
   ]
  },
  {
   "cell_type": "code",
   "execution_count": 1,
   "id": "634928e6",
   "metadata": {},
   "outputs": [],
   "source": [
    "import numpy as np \n",
    "from LSS_python.base import traz "
   ]
  },
  {
   "cell_type": "code",
   "execution_count": 2,
   "id": "d7534fbc",
   "metadata": {},
   "outputs": [
    {
     "name": "stdout",
     "output_type": "stream",
     "text": [
      "1.9998321638939927\n"
     ]
    }
   ],
   "source": [
    "x_array = np.linspace(0.0, 1*np.pi, 100)\n",
    "V_array = np.sin(x_array)\n",
    "print(traz(V_array, x_array))"
   ]
  },
  {
   "cell_type": "code",
   "execution_count": 8,
   "id": "041f3b16",
   "metadata": {},
   "outputs": [
    {
     "name": "stdout",
     "output_type": "stream",
     "text": [
      "3.0\n"
     ]
    }
   ],
   "source": [
    "x_array = np.linspace(0, 2, 10)\n",
    "y_array = np.linspace(0, 1, 10)\n",
    "X_mesh, Y_mesh = np.meshgrid(x_array, y_array, indexing=\"ij\")\n",
    "V_array = X_mesh + Y_mesh\n",
    "print(traz(V_array, x_array, y_array))"
   ]
  },
  {
   "cell_type": "markdown",
   "id": "77dd09b9",
   "metadata": {},
   "source": [
    "### 测试：寻找邻居构建MCF"
   ]
  },
  {
   "cell_type": "code",
   "execution_count": 1,
   "id": "be4437aa",
   "metadata": {},
   "outputs": [],
   "source": [
    "%reload_ext autoreload\n",
    "%autoreload 2"
   ]
  },
  {
   "cell_type": "code",
   "execution_count": 2,
   "id": "d58a3643",
   "metadata": {},
   "outputs": [],
   "source": [
    "import numpy as np \n",
    "from scipy.spatial import KDTree\n",
    "from sklearn.neighbors import NearestNeighbors\n",
    "from MCF import cal_rho_array, cal_rho, w_kernel"
   ]
  },
  {
   "cell_type": "code",
   "execution_count": 3,
   "id": "10e3938c",
   "metadata": {},
   "outputs": [],
   "source": [
    "data = np.load(\"/Raid6/1b/xiaoliang/simulation/COLA/tpCF/LCDM_plank13_box1000_npar1024/halo_2_shiftz.npy\")"
   ]
  },
  {
   "cell_type": "code",
   "execution_count": 4,
   "id": "3a6a9d58",
   "metadata": {},
   "outputs": [],
   "source": [
    "boxsize = 1000.0\n",
    "kdtree = KDTree(data, boxsize=None)\n",
    "kdtree_result = kdtree.query(data, k=31, distance_upper_bound=30)"
   ]
  },
  {
   "cell_type": "code",
   "execution_count": 4,
   "id": "a69c55b1",
   "metadata": {},
   "outputs": [
    {
     "data": {
      "text/plain": [
       "array([[ 0.        , 11.0385601 , 12.44208462, ...,         inf,\n",
       "                inf,         inf],\n",
       "       [ 0.        ,  1.27633405,  2.44308663, ...,         inf,\n",
       "                inf,         inf],\n",
       "       [ 0.        ,  1.20811361,  1.27633405, ...,         inf,\n",
       "                inf,         inf],\n",
       "       ...,\n",
       "       [ 0.        ,  2.32409592,  5.57591046, ..., 22.79207145,\n",
       "        22.98082245, 23.09866202],\n",
       "       [ 0.        ,  1.25566053,  7.13560577, ..., 15.47875454,\n",
       "        15.74954147, 16.18373074],\n",
       "       [ 0.        ,  1.25566053,  8.35197004, ..., 16.2688897 ,\n",
       "        16.5664349 , 16.59623687]])"
      ]
     },
     "execution_count": 4,
     "metadata": {},
     "output_type": "execute_result"
    }
   ],
   "source": [
    "kdtree_result[0]"
   ]
  },
  {
   "cell_type": "code",
   "execution_count": 5,
   "id": "5cc25c0e",
   "metadata": {},
   "outputs": [],
   "source": [
    "rho_array_1 = cal_rho_array(kdtree_result[0], 15.0)"
   ]
  },
  {
   "cell_type": "code",
   "execution_count": 5,
   "id": "c0e4e87a",
   "metadata": {},
   "outputs": [],
   "source": [
    "new_result = np.copy(kdtree_result[0])\n",
    "new_result[np.isinf(new_result)] = 0.0"
   ]
  },
  {
   "cell_type": "code",
   "execution_count": 6,
   "id": "0cc46cef",
   "metadata": {},
   "outputs": [],
   "source": [
    "rho_array_2 = cal_rho_array(new_result, h=None, use_max_distance_as_h=True)"
   ]
  },
  {
   "cell_type": "code",
   "execution_count": 8,
   "id": "542e61d1",
   "metadata": {},
   "outputs": [
    {
     "data": {
      "text/plain": [
       "0.002806452408888902"
      ]
     },
     "execution_count": 8,
     "metadata": {},
     "output_type": "execute_result"
    }
   ],
   "source": [
    "np.max(rho_array_1)"
   ]
  },
  {
   "cell_type": "code",
   "execution_count": 7,
   "id": "78c27e0f",
   "metadata": {},
   "outputs": [
    {
     "data": {
      "text/plain": [
       "3.2178659891309183"
      ]
     },
     "execution_count": 7,
     "metadata": {},
     "output_type": "execute_result"
    }
   ],
   "source": [
    "np.max(rho_array_2)"
   ]
  },
  {
   "cell_type": "code",
   "execution_count": 8,
   "id": "d198e964",
   "metadata": {},
   "outputs": [
    {
     "data": {
      "text/plain": [
       "527616"
      ]
     },
     "execution_count": 8,
     "metadata": {},
     "output_type": "execute_result"
    }
   ],
   "source": [
    "np.argmax(rho_array_2)"
   ]
  },
  {
   "cell_type": "code",
   "execution_count": 9,
   "id": "8a0650bc",
   "metadata": {},
   "outputs": [
    {
     "name": "stdout",
     "output_type": "stream",
     "text": [
      "0.0\n",
      "0.3386353950755209\n",
      "0.3276987994066367\n",
      "0.30465644441320033\n",
      "0.27292384163002437\n",
      "0.22617299132301488\n",
      "0.22005924137780372\n",
      "0.2028193195489765\n",
      "0.1987792646181191\n",
      "0.1799662197018824\n",
      "0.15286360534886936\n",
      "0.13533156064922777\n",
      "0.1254683527341903\n",
      "0.12380026309021663\n",
      "0.10296749511496255\n",
      "0.0999797277384586\n",
      "0.0697083485773174\n",
      "0.05876485568716877\n",
      "0.04682078416170166\n",
      "0.010457570083572053\n",
      "0.00575565456838483\n",
      "0.004941321217487585\n",
      "0.004801925395647695\n",
      "0.0026567149879603274\n",
      "0.0006907715979496981\n",
      "0.0005856160990220412\n",
      "0.0005515034918893084\n",
      "4.022925496806105e-06\n",
      "3.005811867078159e-06\n",
      "1.3727543482606666e-06\n",
      "0.0\n"
     ]
    }
   ],
   "source": [
    "test_array = new_result[527616]\n",
    "h = np.max(test_array) / 2.0\n",
    "for item in test_array:\n",
    "    print(w_kernel(item, h))"
   ]
  },
  {
   "cell_type": "code",
   "execution_count": 10,
   "id": "c31a9ec6",
   "metadata": {},
   "outputs": [
    {
     "data": {
      "text/plain": [
       "array([0.        , 0.49785289, 0.51504562, 0.55103379, 0.60054181,\n",
       "       0.674938  , 0.68492568, 0.71357819, 0.72041416, 0.75300284,\n",
       "       0.8028623 , 0.83777844, 0.85871537, 0.86236371, 0.91096991,\n",
       "       0.91846471, 1.00453267, 1.04181623, 1.08824296, 1.32029562,\n",
       "       1.38491271, 1.39945881, 1.40210598, 1.45156323, 1.53358566,\n",
       "       1.54133697, 1.54404988, 1.65226881, 1.65467946, 1.66011142,\n",
       "       1.67830634])"
      ]
     },
     "execution_count": 10,
     "metadata": {},
     "output_type": "execute_result"
    }
   ],
   "source": [
    "new_result[527616]"
   ]
  },
  {
   "cell_type": "markdown",
   "id": "23f97bb8",
   "metadata": {},
   "source": [
    "### 测试：B样条插值函数性质"
   ]
  },
  {
   "cell_type": "code",
   "execution_count": 11,
   "id": "6045617f",
   "metadata": {},
   "outputs": [],
   "source": [
    "from MCF import w_kernel\n",
    "from base import traz\n",
    "import numpy as np\n",
    "import matplotlib.pyplot as plt"
   ]
  },
  {
   "cell_type": "code",
   "execution_count": 12,
   "id": "41337636",
   "metadata": {},
   "outputs": [],
   "source": [
    "x = np.linspace(0,10,1000)\n",
    "y = np.zeros(1000)\n",
    "\n",
    "for i in range(1000):\n",
    "    y[i] = w_kernel(x[i], 5.0)"
   ]
  },
  {
   "cell_type": "code",
   "execution_count": 36,
   "id": "74781439",
   "metadata": {},
   "outputs": [
    {
     "data": {
      "image/png": "[encoded data removed]",
      "text/plain": [
       "<Figure size 1000x400 with 1 Axes>"
      ]
     },
     "metadata": {},
     "output_type": "display_data"
    }
   ],
   "source": [
    "fig = plt.figure(dpi=100, figsize=(10,4))\n",
    "plt.plot(x,y*4*np.pi*x**2)\n",
    "plt.show()"
   ]
  },
  {
   "cell_type": "code",
   "execution_count": 9,
   "id": "2d9a3936",
   "metadata": {},
   "outputs": [
    {
     "data": {
      "text/plain": [
       "1.000000000001004"
      ]
     },
     "execution_count": 9,
     "metadata": {},
     "output_type": "execute_result"
    }
   ],
   "source": [
    "traz(y * 4 * np.pi * x**2, x)"
   ]
  },
  {
   "cell_type": "code",
   "execution_count": 2,
   "id": "cfb95828",
   "metadata": {},
   "outputs": [],
   "source": [
    "from MCF import cal_rho_array\n",
    "import numpy as np "
   ]
  },
  {
   "cell_type": "code",
   "execution_count": 15,
   "id": "97c24125",
   "metadata": {},
   "outputs": [],
   "source": [
    "distance_array = np.array([[1.0, 2.0, 4.0, 6.0, 10.0, 15.0, 25.0]*3, \n",
    "                            [0.1, 0.2, 3.0, 5.0, 8.0, 10.0, 25.0]*3])"
   ]
  },
  {
   "cell_type": "code",
   "execution_count": 16,
   "id": "7d1acdd3",
   "metadata": {},
   "outputs": [
    {
     "name": "stdout",
     "output_type": "stream",
     "text": [
      "[0.00127297 0.00143132]\n",
      "0.8893652448971467\n"
     ]
    }
   ],
   "source": [
    "test1 = cal_rho_array(distance_array, 15.0)\n",
    "print(test1)\n",
    "print(test1[0] / test1[1])"
   ]
  },
  {
   "cell_type": "code",
   "execution_count": 17,
   "id": "1c6229e0",
   "metadata": {},
   "outputs": [
    {
     "name": "stdout",
     "output_type": "stream",
     "text": [
      "[0.0020123  0.00231637]\n",
      "0.8687288077734915\n"
     ]
    }
   ],
   "source": [
    "test2 = cal_rho_array(distance_array, 15.0, True)\n",
    "print(test2)\n",
    "print(test2[0] / test2[1])"
   ]
  },
  {
   "cell_type": "markdown",
   "id": "c95ee1cd",
   "metadata": {},
   "source": [
    "### 测试：和霄栋程序比对"
   ]
  },
  {
   "cell_type": "code",
   "execution_count": 1,
   "id": "4fb07dd9",
   "metadata": {},
   "outputs": [],
   "source": [
    "import numpy as np \n",
    "import matplotlib.pyplot as plt \n",
    "from scipy.spatial import KDTree\n",
    "from MCF import cal_rho_array"
   ]
  },
  {
   "cell_type": "code",
   "execution_count": 2,
   "id": "ca060538",
   "metadata": {},
   "outputs": [],
   "source": [
    "data = np.loadtxt(\"/Raid6/1/xiaoliang/AP_SysTest/no_error/11/11_nbar1e-3.shiftz.numNB30.margin30.00.boxsize2500.00\", usecols=(0,1,2,3, 7), dtype=np.float32)"
   ]
  },
  {
   "cell_type": "code",
   "execution_count": 3,
   "id": "fac35658",
   "metadata": {},
   "outputs": [],
   "source": [
    "kdtree = KDTree(data[:,:3], boxsize=2500.00001)"
   ]
  },
  {
   "cell_type": "code",
   "execution_count": 4,
   "id": "8b0fe897",
   "metadata": {},
   "outputs": [],
   "source": [
    "result = kdtree.query(data[:,:3], k=30, workers=4)"
   ]
  },
  {
   "cell_type": "code",
   "execution_count": 24,
   "id": "4e843c62",
   "metadata": {},
   "outputs": [],
   "source": [
    "rho_array_1 = cal_rho_array(result[0], h=15.0)"
   ]
  },
  {
   "cell_type": "code",
   "execution_count": 5,
   "id": "67891c70",
   "metadata": {},
   "outputs": [],
   "source": [
    "rho_array_2 = cal_rho_array(result[0], h=None, use_max_distance_as_h=True)"
   ]
  },
  {
   "cell_type": "code",
   "execution_count": 11,
   "id": "0cdc6092",
   "metadata": {},
   "outputs": [],
   "source": [
    "rho_diff = np.abs(rho_array_2 - data[:,3]) / data[:,3]"
   ]
  },
  {
   "cell_type": "code",
   "execution_count": 14,
   "id": "0b25a2ce",
   "metadata": {},
   "outputs": [
    {
     "data": {
      "text/plain": [
       "(0.006944564999304728,\n",
       " array([1.649590e+03, 1.807200e+03, 1.036378e+03, 4.613864e-03,\n",
       "        1.708199e+01], dtype=float32))"
      ]
     },
     "execution_count": 14,
     "metadata": {},
     "output_type": "execute_result"
    }
   ],
   "source": [
    "rho_array_2[11635385], data[11635385]"
   ]
  },
  {
   "cell_type": "code",
   "execution_count": 16,
   "id": "0d85f6ed",
   "metadata": {},
   "outputs": [
    {
     "data": {
      "text/plain": [
       "array([ 0.        ,  0.69110607,  1.48557591,  1.53849273,  3.72670703,\n",
       "        4.45531767,  5.54754204,  5.70324914,  6.3145058 ,  7.19396082,\n",
       "        7.3161547 ,  9.32262483,  9.3792178 ,  9.8703873 , 10.07878728,\n",
       "       10.1284821 , 10.1397247 , 10.23131817, 11.00803391, 11.23779393,\n",
       "       11.63617197, 11.90615272, 11.92339883, 12.33899976, 12.95179811,\n",
       "       13.19823147, 13.25885542, 13.35740821, 13.42721398, 13.68411764])"
      ]
     },
     "execution_count": 16,
     "metadata": {},
     "output_type": "execute_result"
    }
   ],
   "source": [
    "result[0][11635385]"
   ]
  },
  {
   "cell_type": "code",
   "execution_count": 18,
   "id": "c91abe79",
   "metadata": {},
   "outputs": [
    {
     "data": {
      "text/plain": [
       "array([11635385,  4842161, 12019953, 15117531,  1464956, 11026159,\n",
       "        5250874, 12717999, 12558578,  8339432,  2680504,  1763902,\n",
       "        1458581,  8707740,  5075076,  4442086,  4080292,  9986510,\n",
       "        3275667,  2031194,  9754804, 11956876,  1679109,  5352734,\n",
       "        1606091,  1615725,  3843949,  5636992, 10285211,   173500])"
      ]
     },
     "execution_count": 18,
     "metadata": {},
     "output_type": "execute_result"
    }
   ],
   "source": [
    "result[1][11635385]"
   ]
  },
  {
   "cell_type": "code",
   "execution_count": 25,
   "id": "1ecf5d51",
   "metadata": {},
   "outputs": [
    {
     "data": {
      "text/plain": [
       "array([ 0.        ,  0.99441016,  2.28165814,  3.98553596,  4.13906364,\n",
       "        4.51890682,  4.63917141,  5.60877648,  6.00639044,  6.21201024,\n",
       "        6.32884083,  6.72885667,  6.75337787,  6.8314492 ,  7.6610031 ,\n",
       "        8.10814599,  8.41088346,  8.48868327,  8.85338081,  9.1335584 ,\n",
       "        9.37975213,  9.81318022, 10.03043017, 10.27811091, 10.34872493,\n",
       "       10.36183734, 10.60363012, 10.6055239 , 10.88957277, 11.19794649])"
      ]
     },
     "execution_count": 25,
     "metadata": {},
     "output_type": "execute_result"
    }
   ],
   "source": [
    "result[0][6]"
   ]
  },
  {
   "cell_type": "code",
   "execution_count": 19,
   "id": "a052f0dd",
   "metadata": {},
   "outputs": [
    {
     "data": {
      "text/plain": [
       "array([       4, 14595535, 12952946,   912174,  7434422,  8754480,\n",
       "        7002900,  4879280,  1073795,  3511809, 14114663,  7726609,\n",
       "         886193,   383362,  3096251, 13622008,  3827284,  7766690,\n",
       "        6312866, 14836290,  6995536, 10764836, 11712761, 11919745,\n",
       "       12159220,  3809302,  9801393,  3012254,  5710999,  6415659])"
      ]
     },
     "execution_count": 19,
     "metadata": {},
     "output_type": "execute_result"
    }
   ],
   "source": [
    "result[1][4]"
   ]
  },
  {
   "cell_type": "code",
   "execution_count": 52,
   "id": "dfa8f2b1",
   "metadata": {},
   "outputs": [],
   "source": [
    "def cal_distance(data, index_array):\n",
    "    distance_array = np.zeros(index_array.shape, dtype=np.float32)\n",
    "    fuducial_pos = data[index_array[0]]\n",
    "    for i in range(index_array.shape[0]):\n",
    "        distance_temp = 0.0 \n",
    "        for j in range(3):\n",
    "            pos_diff = data[index_array[i]][j] - fuducial_pos[j]\n",
    "            distance_temp += pos_diff * pos_diff\n",
    "        distance_array[i] = np.sqrt(distance_temp)\n",
    "    return distance_array"
   ]
  },
  {
   "cell_type": "code",
   "execution_count": 53,
   "id": "3642a9b4",
   "metadata": {},
   "outputs": [
    {
     "data": {
      "text/plain": [
       "array([ 0.       ,  1.5781667,  2.3395114,  3.1305943,  3.525681 ,\n",
       "        3.7073488,  3.8607461,  4.4709334,  6.526491 ,  6.6373944,\n",
       "        6.830204 ,  7.0865097,  8.398026 ,  8.7853565,  9.939289 ,\n",
       "       10.367059 , 11.337845 , 11.499579 , 12.129817 , 12.201879 ,\n",
       "       12.232749 , 12.393038 , 12.41142  , 13.00485  , 13.273669 ,\n",
       "       13.304365 , 13.345138 , 13.777317 , 13.835587 , 14.184428 ,\n",
       "       14.376134 ], dtype=float32)"
      ]
     },
     "execution_count": 53,
     "metadata": {},
     "output_type": "execute_result"
    }
   ],
   "source": [
    "cal_distance(data[:,:3], result[1][0])"
   ]
  },
  {
   "cell_type": "markdown",
   "id": "b51042a1",
   "metadata": {},
   "source": [
    "### 测试：加权关联函数对比"
   ]
  },
  {
   "cell_type": "code",
   "execution_count": 1,
   "id": "286531c9",
   "metadata": {},
   "outputs": [],
   "source": [
    "import numpy as np \n",
    "import matplotlib.pyplot as plt \n",
    "from LSS_python.tpcf import xismu "
   ]
  },
  {
   "cell_type": "code",
   "execution_count": 2,
   "id": "6b8658d1",
   "metadata": {},
   "outputs": [],
   "source": [
    "root_path = \"/Raid6/1/xiaoliang/AP_SysTest/no_error/\"\n",
    "tpcf_CUTE_filenames = [root_path + \"11/11_nbar1e-3.shiftz.numNB30.margin30.00.boxsize2500.00-zplus1000000-weipow1-150s0to150-120mu.2pcf\", root_path + \"26/26_nbar1e-3.shiftz.numNB30.margin30.00.boxsize2500.00-zplus1000000-weipow1-150s0to150-120mu.2pcf\"]\n",
    "tpcf_pkl_filename = [root_path + \"11/tpCF-11_nbar1e-3.shiftz.numNB30-weipow1-150s0to150-120mu.pkl\", root_path + \"26/tpCF-26_nbar1e-3.shiftz.numNB30-weipow1-150s0to150-120mu.pkl\"]\n",
    "tpcf_CUTE_list = [xismu.load(tpcf_CUTE_filenames[i]) for i in range(2)]\n",
    "tpcf_pkl_list = [xismu.load(tpcf_pkl_filename[i], data_type=\"BINARY\") for i in range(2)]"
   ]
  },
  {
   "cell_type": "code",
   "execution_count": 4,
   "id": "b127c6eb",
   "metadata": {},
   "outputs": [
    {
     "data": {
      "image/png": "[encoded data removed]",
      "text/plain": [
       "<Figure size 1000x600 with 2 Axes>"
      ]
     },
     "metadata": {},
     "output_type": "display_data"
    }
   ],
   "source": [
    "fig = plt.figure(dpi=100, figsize=(10, 6))\n",
    "ax1 = fig.add_subplot(121)\n",
    "ax2 = fig.add_subplot(122)\n",
    "axes = [ax1, ax2]\n",
    "colors = [\"blue\", \"red\"]\n",
    "for i in range(2):\n",
    "    s_CUTE, xis_s_CUTE = tpcf_CUTE_list[i].integrate_tpcf(smin=0.0, smax=150.0, s_xis=True, intximu=False, quick_return=True)\n",
    "    s_pkl, xis_s_pkl = tpcf_pkl_list[i].integrate_tpcf(smin=0.0, smax=150.0, s_xis=True, intximu=False, quick_return=True)\n",
    "    axes[i].plot(s_CUTE, xis_s_CUTE, color=colors[i])\n",
    "    axes[i].plot(s_pkl, xis_s_pkl, color=colors[i], ls=\"--\")\n",
    "plt.show()"
   ]
  },
  {
   "cell_type": "code",
   "execution_count": 13,
   "id": "681ca2a7",
   "metadata": {},
   "outputs": [
    {
     "data": {
      "text/plain": [
       "array([[  0.5,   0.5,   0.5, ...,   0.5,   0.5,   0.5],\n",
       "       [  1.5,   1.5,   1.5, ...,   1.5,   1.5,   1.5],\n",
       "       [  2.5,   2.5,   2.5, ...,   2.5,   2.5,   2.5],\n",
       "       ...,\n",
       "       [147.5, 147.5, 147.5, ..., 147.5, 147.5, 147.5],\n",
       "       [148.5, 148.5, 148.5, ..., 148.5, 148.5, 148.5],\n",
       "       [149.5, 149.5, 149.5, ..., 149.5, 149.5, 149.5]])"
      ]
     },
     "execution_count": 13,
     "metadata": {},
     "output_type": "execute_result"
    }
   ],
   "source": [
    "tpcf_pkl_list[0].S"
   ]
  },
  {
   "cell_type": "code",
   "execution_count": 6,
   "id": "e953bbf1",
   "metadata": {},
   "outputs": [
    {
     "data": {
      "image/png": "[encoded data removed]",
      "text/plain": [
       "<Figure size 1400x600 with 2 Axes>"
      ]
     },
     "metadata": {},
     "output_type": "display_data"
    }
   ],
   "source": [
    "fig = plt.figure(dpi=100, figsize=(14, 6))\n",
    "ax1 = fig.add_subplot(121)\n",
    "ax2 = fig.add_subplot(122)\n",
    "axes = [ax1, ax2]\n",
    "colors = [\"blue\", \"red\"]\n",
    "for i in range(2):\n",
    "    mu_CUTE, xis_mu_CUTE = tpcf_CUTE_list[i].integrate_tpcf(mupack=6, is_norm=True, quick_return=True)\n",
    "    mu_pkl, xis_mu_pkl = tpcf_pkl_list[i].integrate_tpcf(mupack=6, is_norm=True, quick_return=True)\n",
    "    axes[i].plot(mu_CUTE, xis_mu_CUTE, color=colors[i])\n",
    "    axes[i].plot(mu_pkl, xis_mu_pkl, color=colors[i], ls=\"--\")\n",
    "plt.show()"
   ]
  },
  {
   "cell_type": "code",
   "execution_count": 7,
   "id": "3d3ea4d4",
   "metadata": {},
   "outputs": [
    {
     "data": {
      "image/png": "[encoded data removed]",
      "text/plain": [
       "<Figure size 1000x600 with 1 Axes>"
      ]
     },
     "metadata": {},
     "output_type": "display_data"
    }
   ],
   "source": [
    "fig = plt.figure(dpi=100, figsize=(10, 6))\n",
    "ax = fig.add_subplot(111)\n",
    "axes = [ax1, ax2]\n",
    "colors = [\"blue\", \"red\"]\n",
    "xis_mu_CUTE_list = []\n",
    "xis_mu_pkl_list = []\n",
    "for i in range(2):\n",
    "    mu_CUTE, xis_mu_CUTE = tpcf_CUTE_list[i].integrate_tpcf(mupack=6, is_norm=True, quick_return=True)\n",
    "    mu_pkl, xis_mu_pkl = tpcf_pkl_list[i].integrate_tpcf(mupack=6, is_norm=True, quick_return=True)\n",
    "    xis_mu_CUTE_list.append(xis_mu_CUTE)\n",
    "    xis_mu_pkl_list.append(xis_mu_pkl)\n",
    "ax.plot(mu_CUTE, xis_mu_CUTE_list[0] - xis_mu_CUTE_list[1], color=colors[0])\n",
    "ax.plot(mu_pkl, xis_mu_pkl_list[0] - xis_mu_pkl_list[1], color=colors[1])\n",
    "plt.show()"
   ]
  },
  {
   "cell_type": "markdown",
   "id": "b306dc20",
   "metadata": {},
   "source": [
    "### 测试：numba的FFTPower "
   ]
  },
  {
   "cell_type": "code",
   "execution_count": 1,
   "id": "829f603a",
   "metadata": {},
   "outputs": [],
   "source": [
    "import numpy as np \n",
    "\n",
    "from my_fft import FFTPower as FFTPower_old\n",
    "from LSS_python.fftpower import FFTPower, deal_ps_3d"
   ]
  },
  {
   "cell_type": "code",
   "execution_count": 2,
   "id": "aecc33af",
   "metadata": {},
   "outputs": [],
   "source": [
    "complex_field = np.load(\"/Raid6/1/xiaoliang/simulation/ska/data/snap100_myfft/mesh1024/mass_fftpower_mesh1024_all_complex/complex_field.npy\")\n",
    "kernel_field = np.load(\"/Raid6/1/xiaoliang/simulation/ska/data/mesh1024_all_complex_kernel1/complex_field.npy\")\n",
    "Nmesh = 1024 \n",
    "boxsize = 1000.0 "
   ]
  },
  {
   "cell_type": "code",
   "execution_count": 7,
   "id": "c30b27ea",
   "metadata": {},
   "outputs": [],
   "source": [
    "complex_field_temp = np.copy(complex_field)\n",
    "ps_3d = np.copy(complex_field)"
   ]
  },
  {
   "cell_type": "code",
   "execution_count": 4,
   "id": "db45df8b",
   "metadata": {},
   "outputs": [],
   "source": [
    "complex_field_temp_kernel = complex_field_temp * kernel_field\n",
    "fftpower_old = FFTPower_old(Nmesh, boxsize, shotnoise=0.0)\n",
    "complex_field_temp_kernel = complex_field_temp_kernel * np.conj(complex_field_temp_kernel) * np.prod(fftpower_old.attrs[\"BoxSize\"])\n",
    "fftpower_old.is_run_ps_3d = True\n",
    "_ = fftpower_old.run(complex_field_temp_kernel, 0.1, 3.1, 0.01, 50, mode=\"2d\", run_ps_3d=False, nthreads=10)"
   ]
  },
  {
   "cell_type": "code",
   "execution_count": 8,
   "id": "f3c047aa",
   "metadata": {},
   "outputs": [],
   "source": [
    "fftpower_new = FFTPower(Nmesh, boxsize, shotnoise=0.0)\n",
    "deal_ps_3d(ps_3d, ps_3d_kernel=kernel_field, ps_3d_factor=np.prod(fftpower_new.attrs[\"BoxSize\"]), shotnoise=fftpower_new.attrs[\"shotnoise\"], nthreads=10)\n",
    "_ = fftpower_new.run(ps_3d, 0.1, 3.1, 0.01, 50, mode=\"2d\", nthreads=10)"
   ]
  },
  {
   "cell_type": "code",
   "execution_count": 6,
   "id": "55e83313",
   "metadata": {},
   "outputs": [
    {
     "data": {
      "text/plain": [
       "np.float64(4.057218621356175e-06)"
      ]
     },
     "execution_count": 6,
     "metadata": {},
     "output_type": "execute_result"
    }
   ],
   "source": [
    "np.nansum(np.abs(fftpower_old.power[\"Pkmu\"] - fftpower_new.power[\"Pkmu\"]))"
   ]
  },
  {
   "cell_type": "markdown",
   "id": "c8fb8c91",
   "metadata": {},
   "source": [
    "### 测试：numba和cuda版本的FFTPower "
   ]
  },
  {
   "cell_type": "code",
   "execution_count": 1,
   "id": "fb76b08b",
   "metadata": {},
   "outputs": [],
   "source": [
    "%reload_ext autoreload\n",
    "%autoreload 2"
   ]
  },
  {
   "cell_type": "code",
   "execution_count": 2,
   "id": "ff385420",
   "metadata": {},
   "outputs": [],
   "source": [
    "import numpy as np \n",
    "import cupy as cp \n",
    "\n",
    "from LSS_python.fftpower import FFTPower, deal_ps_3d\n",
    "from LSS_python.cuda.fftpower import get_deal_ps_core_kernel, get_run_fftpower_core_kernel"
   ]
  },
  {
   "cell_type": "code",
   "execution_count": 3,
   "id": "17b37fe0",
   "metadata": {},
   "outputs": [],
   "source": [
    "complex_field = np.load(\"/Raid6/1/xiaoliang/simulation/ska/data/snap100_myfft/mesh1024/mass_fftpower_mesh1024_all_complex/complex_field.npy\")\n",
    "ps_3d_cpu = np.copy(complex_field)\n",
    "ps_3d_gpu = cp.asarray(ps_3d_cpu)"
   ]
  },
  {
   "cell_type": "code",
   "execution_count": 4,
   "id": "074617fd",
   "metadata": {},
   "outputs": [],
   "source": [
    "fftpower_cpu = FFTPower(1024, 1000.0, 0.0)\n",
    "deal_ps_3d(ps_3d_cpu, None, 1000.0**3, 0.0, nthreads=10)"
   ]
  },
  {
   "cell_type": "code",
   "execution_count": 5,
   "id": "fa57b0ac",
   "metadata": {},
   "outputs": [],
   "source": [
    "_ = fftpower_cpu.run(\n",
    "    ps_3d_cpu, 0.1, 3.1, 0.01, Nmu=50, mode=\"2d\", linear=True, nthreads=10\n",
    ")"
   ]
  },
  {
   "cell_type": "code",
   "execution_count": 6,
   "id": "77a5ea9e",
   "metadata": {},
   "outputs": [
    {
     "name": "stdout",
     "output_type": "stream",
     "text": [
      "1.29 s ± 8.87 ms per loop (mean ± std. dev. of 5 runs, 5 loops each)\n"
     ]
    }
   ],
   "source": [
    "%%timeit -n 5 -r 5 \n",
    "_ = fftpower_cpu.run(\n",
    "    ps_3d_cpu, 0.1, 3.1, 0.01, Nmu=50, mode=\"2d\", linear=True, nthreads=10\n",
    ")"
   ]
  },
  {
   "cell_type": "code",
   "execution_count": 6,
   "id": "9186fe9a",
   "metadata": {},
   "outputs": [],
   "source": [
    "deal_ps_core_kernel = get_deal_ps_core_kernel()\n",
    "deal_ps_core_kernel.compile()\n",
    "run_fftpower_core_kernel = get_run_fftpower_core_kernel()\n",
    "run_fftpower_core_kernel.compile()"
   ]
  },
  {
   "cell_type": "code",
   "execution_count": 7,
   "id": "dc4304b2",
   "metadata": {},
   "outputs": [],
   "source": [
    "fftpower_gpu = FFTPower(1024, 1000.0, 0.0)\n",
    "nx, ny, nz = ps_3d_gpu.shape\n",
    "ps_3d_kernel_gpu = cp.array([0], dtype=cp.complex64)\n",
    "deal_ps_core_kernel((nx,ny), (nz,), (ps_3d_gpu, ps_3d_kernel_gpu, nx, ny, nz, 1000.0**3, 0.0, False))\n",
    "fftpower_gpu.run_from_cuda(\n",
    "    run_fftpower_core_kernel,\n",
    "    ps_3d_gpu,\n",
    "    0.1, 3.1, 0.01, Nmu=50, mode=\"2d\"\n",
    ")\n",
    "cp.cuda.Stream.null.synchronize()"
   ]
  },
  {
   "cell_type": "code",
   "execution_count": 15,
   "id": "3aa7516e",
   "metadata": {},
   "outputs": [
    {
     "name": "stdout",
     "output_type": "stream",
     "text": [
      "count = 3758096392, 2\n",
      "count = 3758096392, 2\n",
      "count = 3758096392, 2\n",
      "count = 3758096392, 2\n",
      "count = 3758096392, 2\n",
      "count = 3758096392, 2\n",
      "count = 3758096392, 2\n",
      "count = 3758096392, 2\n",
      "count = 3758096392, 2\n",
      "count = 3758096392, 2\n",
      "count = 3758096392, 2\n",
      "count = 3758096392, 2\n",
      "count = 3758096392, 2\n",
      "count = 3758096392, 2\n",
      "count = 3758096392, 2\n",
      "count = 3758096392, 2\n",
      "count = 3758096392, 2\n",
      "count = 3758096392, 2\n",
      "count = 3758096392, 2\n",
      "count = 3758096392, 2\n",
      "count = 3758096392, 2\n",
      "count = 3758096392, 2\n",
      "count = 3758096392, 2\n",
      "count = 3758096392, 2\n",
      "count = 3758096392, 2\n",
      "114 ms ± 42.7 μs per loop (mean ± std. dev. of 5 runs, 5 loops each)\n"
     ]
    }
   ],
   "source": [
    "%%timeit -n 5 -r 5 \n",
    "fftpower_gpu.run_from_cuda(\n",
    "    run_fftpower_core_kernel,\n",
    "    ps_3d_gpu,\n",
    "    0.1, 3.1, 0.01, Nmu=50, mode=\"2d\"\n",
    ")"
   ]
  },
  {
   "cell_type": "code",
   "execution_count": 12,
   "id": "d00f5142",
   "metadata": {},
   "outputs": [
    {
     "data": {
      "text/plain": [
       "np.int64(116)"
      ]
     },
     "execution_count": 12,
     "metadata": {},
     "output_type": "execute_result"
    }
   ],
   "source": [
    "np.nanargmax(np.abs(fftpower_cpu.power[\"Pkmu\"] - fftpower_gpu.power[\"Pkmu\"]))"
   ]
  },
  {
   "cell_type": "code",
   "execution_count": 16,
   "id": "1819e622",
   "metadata": {},
   "outputs": [
    {
     "data": {
      "text/plain": [
       "np.uint64(20)"
      ]
     },
     "execution_count": 16,
     "metadata": {},
     "output_type": "execute_result"
    }
   ],
   "source": [
    "fftpower_cpu.power[\"modes\"][2, 16]"
   ]
  },
  {
   "cell_type": "code",
   "execution_count": 15,
   "id": "ded5160d",
   "metadata": {},
   "outputs": [
    {
     "data": {
      "text/plain": [
       "np.uint32(32)"
      ]
     },
     "execution_count": 15,
     "metadata": {},
     "output_type": "execute_result"
    }
   ],
   "source": [
    "fftpower_gpu.power[\"modes\"][2, 16]"
   ]
  },
  {
   "cell_type": "code",
   "execution_count": 6,
   "id": "800a7ef6",
   "metadata": {},
   "outputs": [
    {
     "data": {
      "text/plain": [
       "array([216,   0, 432,   0, 184, 224,   0, 408,   0, 208, 216,   0, 360,\n",
       "        32, 184, 192,  32, 288, 104, 176, 200,  72, 216, 128, 184, 192,\n",
       "       128, 208, 136, 176, 144, 176, 160, 168, 160, 128, 216, 152, 208,\n",
       "       168, 104, 216,  96, 208, 144, 112, 232, 112, 184, 170],\n",
       "      dtype=uint64)"
      ]
     },
     "execution_count": 6,
     "metadata": {},
     "output_type": "execute_result"
    }
   ],
   "source": [
    "fftpower_cpu.power[\"modes\"][2]"
   ]
  },
  {
   "cell_type": "code",
   "execution_count": 9,
   "id": "24812533",
   "metadata": {},
   "outputs": [
    {
     "data": {
      "text/plain": [
       "array([216,   0, 432,   0, 184, 224,   0, 408,   0, 208, 216,   0, 360,\n",
       "        32, 184, 192,  32, 288, 104, 176, 200,  72, 216, 128, 184, 192,\n",
       "       128, 208, 136, 176, 144, 176, 160, 168, 160, 128, 216, 152, 208,\n",
       "       168, 104, 216,  96, 208, 144, 112, 232, 112, 184, 170],\n",
       "      dtype=uint32)"
      ]
     },
     "execution_count": 9,
     "metadata": {},
     "output_type": "execute_result"
    }
   ],
   "source": [
    "fftpower_gpu.power[\"modes\"][2]"
   ]
  },
  {
   "cell_type": "code",
   "execution_count": 19,
   "id": "40da10b2",
   "metadata": {},
   "outputs": [
    {
     "data": {
      "text/plain": [
       "array([133,   0, 266,   0, 278,   0, 144, 142,   0, 234,   0, 246,  28,\n",
       "       162, 112,  64, 194,   0, 304, 128, 208, 216, 120, 256, 112, 208,\n",
       "       120, 224, 208, 168, 192, 224, 184, 168, 160, 168, 216, 144, 224,\n",
       "       168, 240, 152, 168, 184, 144, 232, 112, 232, 160, 196],\n",
       "      dtype=uint64)"
      ]
     },
     "execution_count": 19,
     "metadata": {},
     "output_type": "execute_result"
    }
   ],
   "source": [
    "fftpower_cpu.power[\"modes\"][3]"
   ]
  },
  {
   "cell_type": "code",
   "execution_count": 20,
   "id": "cb2229cb",
   "metadata": {},
   "outputs": [
    {
     "data": {
      "text/plain": [
       "array([212,   0, 424,   0, 440,   0, 216, 224,   0, 368,   0, 384,  48,\n",
       "       256, 184, 104, 304,   0, 304, 128, 208, 216, 120, 256, 112, 208,\n",
       "       120, 224, 208, 168, 192, 224, 184, 168, 160, 168, 216, 144, 224,\n",
       "       168, 240, 152, 168, 184, 144, 232, 112, 232, 160, 196],\n",
       "      dtype=uint32)"
      ]
     },
     "execution_count": 20,
     "metadata": {},
     "output_type": "execute_result"
    }
   ],
   "source": [
    "fftpower_gpu.power[\"modes\"][3]"
   ]
  },
  {
   "cell_type": "markdown",
   "id": "7833f366",
   "metadata": {},
   "source": [
    "### 测试：ps_convert_main的CPU和GPU功能"
   ]
  },
  {
   "cell_type": "code",
   "execution_count": 1,
   "id": "50d40a84",
   "metadata": {},
   "outputs": [],
   "source": [
    "%reload_ext autoreload\n",
    "%autoreload 2"
   ]
  },
  {
   "cell_type": "code",
   "execution_count": 1,
   "id": "297f6d27",
   "metadata": {},
   "outputs": [],
   "source": [
    "import numpy as np\n",
    "import cupy as cp \n",
    "\n",
    "from LSS_python.AP import ps_convert_main\n",
    "from LSS_python.fftpower import deal_ps_3d"
   ]
  },
  {
   "cell_type": "code",
   "execution_count": 2,
   "id": "20be7c33",
   "metadata": {},
   "outputs": [],
   "source": [
    "device_id = 1\n",
    "use_kernel = False \n",
    "complex_field = np.load(\"/Raid6/1/xiaoliang/simulation/ska/data/snap100_myfft/mesh1024/mass_fftpower_mesh1024_all_complex/complex_field.npy\")\n",
    "# kernel_field = np.load(\"/Raid6/1/xiaoliang/simulation/ska/data/mesh1024_all_complex_kernel1/complex_field.npy\")\n",
    "ps_3d_cpu = np.copy(complex_field)\n",
    "# ps_kernel_3d_cpu = np.copy(kernel_field)\n",
    "with cp.cuda.Device(device_id):\n",
    "    ps_3d_gpu = cp.asarray(ps_3d_cpu, dtype=cp.complex64)\n",
    "    # ps_kernel_3d_gpu = cp.asarray(ps_kernel_3d_cpu)\n",
    "if not use_kernel:\n",
    "    ps_kernel_3d_cpu = None \n",
    "    ps_kernel_3d_gpu = None"
   ]
  },
  {
   "cell_type": "code",
   "execution_count": 7,
   "id": "eb233b93",
   "metadata": {},
   "outputs": [],
   "source": [
    "deal_ps_3d(ps_3d_cpu, ps_kernel_3d_cpu, 1000.0**3, 0.0, nthreads=10)\n",
    "fftpower_cpu = ps_convert_main(ps_3d_cpu, 0.3111, -1.0, 0.25, -1.4, 0.5, boxsize=1000.0, Nmesh=1024, k_min=0.1, k_max = 3.1, dk = 0.01, Nmu = 50, mode=\"2d\", nthreads=10)"
   ]
  },
  {
   "cell_type": "code",
   "execution_count": 3,
   "id": "a5057e6e",
   "metadata": {},
   "outputs": [
    {
     "name": "stdout",
     "output_type": "stream",
     "text": [
      "299 50\n",
      "k = 0.392, mu = 0.556, mode = 2; ps_3d[iz + iy * nz + ix * nz * ny].x = 0.281, ps_3d[iz + iy * nz + ix * nz * ny].y = 0.000; Pkmu[mu_i + k_i * nmu].x = 98.943, Pkmu[mu_i + k_i * nmu].y = 0.000\n"
     ]
    }
   ],
   "source": [
    "deal_ps_3d(ps_3d_gpu, ps_kernel_3d_gpu, 1000.0**3, 0.0, device_id=device_id)\n",
    "\n",
    "fftpower_gpu = ps_convert_main(ps_3d_gpu, 0.3111, -1.0, 0.25, -1.4, 0.5, boxsize=1000.0, Nmesh=1024, k_min=0.1, k_max = 3.1, dk = 0.01, Nmu = 50, mode=\"2d\", device_id=device_id)\n",
    "\n",
    "cp.cuda.Stream.null.synchronize()"
   ]
  },
  {
   "cell_type": "code",
   "execution_count": 4,
   "id": "bd8867a8",
   "metadata": {},
   "outputs": [
    {
     "data": {
      "text/plain": [
       "array([[ 944.9220058  +0.j,           nan+nanj, 1016.7768586  +0.j, ...,\n",
       "        1982.19011966 +0.j, 1720.64753705 +0.j, 1829.79529282 +0.j],\n",
       "       [ 758.7239509  +0.j,           nan+nanj,  970.50792041 +0.j, ...,\n",
       "        2084.9974712  +0.j, 1906.20202508 +0.j, 1530.60508345 +0.j],\n",
       "       [ 697.67026708 +0.j,           nan+nanj,  754.75024028 +0.j, ...,\n",
       "        1551.873876   +0.j, 1518.94855729 +0.j, 1830.73136424 +0.j],\n",
       "       ...,\n",
       "       [  11.77361042 +0.j,   10.93306062 +0.j,    9.71417655 +0.j, ...,\n",
       "                  nan+nanj,           nan+nanj,           nan+nanj],\n",
       "       [  11.70952303 +0.j,   10.79973882 +0.j,    9.66516551 +0.j, ...,\n",
       "                  nan+nanj,           nan+nanj,           nan+nanj],\n",
       "       [  11.75955145 +0.j,   10.77957275 +0.j,    9.67122997 +0.j, ...,\n",
       "                  nan+nanj,           nan+nanj,           nan+nanj]])"
      ]
     },
     "execution_count": 4,
     "metadata": {},
     "output_type": "execute_result"
    }
   ],
   "source": [
    "fftpower_gpu.power[\"Pkmu\"]"
   ]
  },
  {
   "cell_type": "code",
   "execution_count": 5,
   "id": "0489c1dc",
   "metadata": {},
   "outputs": [
    {
     "data": {
      "text/plain": [
       "array([4.8648653e+05+0.j, 5.2095341e+01+0.j, 3.6637869e+00+0.j,\n",
       "       2.7736778e+00+0.j, 2.3418751e+00+0.j, 4.9966927e+01+0.j,\n",
       "       1.0812568e+01+0.j, 3.3131866e+01+0.j, 6.9260559e+00+0.j,\n",
       "       7.7926393e+00+0.j], dtype=complex64)"
      ]
     },
     "execution_count": 5,
     "metadata": {},
     "output_type": "execute_result"
    }
   ],
   "source": [
    "ps_3d_gpu[0,0,:10]"
   ]
  },
  {
   "cell_type": "code",
   "execution_count": 8,
   "id": "58b9c523",
   "metadata": {},
   "outputs": [
    {
     "data": {
      "text/plain": [
       "array([4.8648653e+05+0.j, 5.2095341e+01+0.j, 3.6637866e+00+0.j,\n",
       "       2.7736778e+00+0.j, 2.3418751e+00+0.j, 4.9966923e+01+0.j,\n",
       "       1.0812567e+01+0.j, 3.3131870e+01+0.j, 6.9260559e+00+0.j,\n",
       "       7.7926393e+00+0.j], dtype=complex64)"
      ]
     },
     "execution_count": 8,
     "metadata": {},
     "output_type": "execute_result"
    }
   ],
   "source": [
    "ps_3d_cpu[0,0,:10]"
   ]
  },
  {
   "cell_type": "code",
   "execution_count": 12,
   "id": "6e493664",
   "metadata": {},
   "outputs": [
    {
     "data": {
      "text/plain": [
       "array([nan+nanj, nan+nanj, nan+nanj, ..., nan+nanj, nan+nanj, nan+nanj])"
      ]
     },
     "execution_count": 12,
     "metadata": {},
     "output_type": "execute_result"
    }
   ],
   "source": [
    "power_modes = fftpower_gpu.power[\"modes\"]\n",
    "need_index = np.logical_not(power_modes == 0)\n",
    "fftpower_gpu.power[\"Pkmu\"][need_index]"
   ]
  },
  {
   "cell_type": "code",
   "execution_count": 13,
   "id": "a102a905",
   "metadata": {},
   "outputs": [
    {
     "data": {
      "text/plain": [
       "array([[nan+nanj, nan+nanj, nan+nanj, ..., nan+nanj, nan+nanj, nan+nanj],\n",
       "       [nan+nanj, nan+nanj, nan+nanj, ..., nan+nanj, nan+nanj, nan+nanj],\n",
       "       [nan+nanj, nan+nanj, nan+nanj, ..., nan+nanj, nan+nanj, nan+nanj],\n",
       "       ...,\n",
       "       [nan+nanj, nan+nanj, nan+nanj, ..., nan+nanj, nan+nanj, nan+nanj],\n",
       "       [nan+nanj, nan+nanj, nan+nanj, ..., nan+nanj, nan+nanj, nan+nanj],\n",
       "       [nan+nanj, nan+nanj, nan+nanj, ..., nan+nanj, nan+nanj, nan+nanj]])"
      ]
     },
     "execution_count": 13,
     "metadata": {},
     "output_type": "execute_result"
    }
   ],
   "source": [
    "fftpower_gpu.power[\"Pkmu\"]"
   ]
  },
  {
   "cell_type": "code",
   "execution_count": 10,
   "id": "12c0f244",
   "metadata": {},
   "outputs": [
    {
     "data": {
      "text/plain": [
       "array([ 98140,  96344,  97640,  98656,  99944, 102352, 105072, 108888,\n",
       "       116480, 124588, 125120, 125176, 125480, 124968, 124672, 125224,\n",
       "       125552, 124960, 125312, 125544, 125512, 125080, 125320, 124904,\n",
       "       125064, 125336, 125240, 124984, 124992, 125304, 125176, 125048,\n",
       "       125504, 124648, 125216, 125448, 125120, 125072, 125192, 124992,\n",
       "       124888, 125656, 124928, 125112, 125064, 125400,  60224,      0,\n",
       "            0,      0], dtype=uint64)"
      ]
     },
     "execution_count": 10,
     "metadata": {},
     "output_type": "execute_result"
    }
   ],
   "source": [
    "fftpower_cpu.power[\"modes\"][-10]"
   ]
  },
  {
   "cell_type": "code",
   "execution_count": 5,
   "id": "bf829bb1",
   "metadata": {},
   "outputs": [
    {
     "data": {
      "text/plain": [
       "np.uint64(0)"
      ]
     },
     "execution_count": 5,
     "metadata": {},
     "output_type": "execute_result"
    }
   ],
   "source": [
    "np.nansum(np.abs(fftpower_cpu.power[\"modes\"] - cp.asnumpy(fftpower_gpu.power[\"modes\"])))"
   ]
  },
  {
   "cell_type": "markdown",
   "id": "09309d85",
   "metadata": {},
   "source": [
    "### 测试：numba版本的run_cic函数"
   ]
  },
  {
   "cell_type": "code",
   "execution_count": 1,
   "id": "4c5591a1",
   "metadata": {},
   "outputs": [],
   "source": [
    "import numpy as np \n",
    "from numba import njit \n",
    "from LSS_python.mesh import run_cic\n",
    "\n",
    "from my_fft import Mesh "
   ]
  },
  {
   "cell_type": "code",
   "execution_count": 2,
   "id": "a4015859",
   "metadata": {},
   "outputs": [],
   "source": [
    "pos = np.load(\"/Raid6/1/xiaoliang/AP_SysTest/data/11_nbar1e-3.shiftz.numNB30.npy\")[:,:3]\n",
    "struct_pos = np.empty(pos.shape[0], dtype=np.dtype([(\"Position\", \"float32\", 3)]))\n",
    "struct_pos[\"Position\"] = pos"
   ]
  },
  {
   "cell_type": "code",
   "execution_count": 8,
   "id": "40788d99",
   "metadata": {},
   "outputs": [],
   "source": [
    "mesh = Mesh(256, 2500.0)\n",
    "real_field = mesh.run_cic(struct_pos, field_dtype=np.float32, nthreads=10)"
   ]
  },
  {
   "cell_type": "code",
   "execution_count": 9,
   "id": "8c2f09fe",
   "metadata": {},
   "outputs": [],
   "source": [
    "real_field_numba = np.zeros((256, 256, 256), dtype=np.float32)\n",
    "run_cic(pos, real_field_numba, np.array([2500.0] * 3), np.array([256]*3, dtype=np.int64))"
   ]
  },
  {
   "cell_type": "code",
   "execution_count": 5,
   "id": "eb935d3d",
   "metadata": {},
   "outputs": [
    {
     "data": {
      "text/plain": [
       "array([126.94786 , 129.86403 , 150.2515  , 190.74274 , 143.54372 ,\n",
       "       115.67989 ,  70.903656,  81.55252 ,  96.41311 ,  59.35935 ,\n",
       "        60.87677 , 188.61066 , 107.72917 ,  86.72349 , 106.56098 ,\n",
       "       172.04427 , 239.21622 , 173.68716 ,  83.22322 , 138.33684 ,\n",
       "       138.63982 , 118.98805 , 123.8032  , 110.22647 , 145.77559 ,\n",
       "       164.63188 ,  85.77486 , 109.25189 , 144.78152 , 131.37888 ,\n",
       "       128.7141  , 110.37267 ,  79.21247 ,  69.26166 ,  93.65241 ,\n",
       "        75.967575, 126.4091  , 215.97528 , 250.51453 , 196.19948 ,\n",
       "        88.78135 , 101.352585, 129.88208 , 160.151   ,  73.57452 ,\n",
       "        88.40904 , 135.4199  ,  87.44953 , 108.483505, 120.393265],\n",
       "      dtype=float32)"
      ]
     },
     "execution_count": 5,
     "metadata": {},
     "output_type": "execute_result"
    }
   ],
   "source": [
    "real_field_numba[0,0]"
   ]
  },
  {
   "cell_type": "code",
   "execution_count": 10,
   "id": "995040af",
   "metadata": {},
   "outputs": [
    {
     "data": {
      "text/plain": [
       "np.float32(3.7665975e-06)"
      ]
     },
     "execution_count": 10,
     "metadata": {},
     "output_type": "execute_result"
    }
   ],
   "source": [
    "np.mean(np.abs(real_field - real_field_numba))"
   ]
  },
  {
   "cell_type": "markdown",
   "id": "fd36dbbe",
   "metadata": {},
   "source": [
    "### 测试：cuda版本的CIC"
   ]
  },
  {
   "cell_type": "code",
   "execution_count": 1,
   "id": "ff004fc3",
   "metadata": {},
   "outputs": [],
   "source": [
    "%reload_ext autoreload\n",
    "%autoreload 2"
   ]
  },
  {
   "cell_type": "code",
   "execution_count": 1,
   "id": "7cf9abed",
   "metadata": {},
   "outputs": [],
   "source": [
    "import numpy as np \n",
    "import cupy as cp \n",
    "from LSS_python.mesh import run_cic, run_cic_from_cuda"
   ]
  },
  {
   "cell_type": "code",
   "execution_count": 2,
   "id": "3a19d790",
   "metadata": {},
   "outputs": [],
   "source": [
    "pos = np.load(\"/Raid6/1/xiaoliang/AP_SysTest/data/11_nbar1e-3.shiftz.numNB30.npy\")[:,:3].astype(np.float32)"
   ]
  },
  {
   "cell_type": "code",
   "execution_count": 5,
   "id": "07f83965",
   "metadata": {},
   "outputs": [],
   "source": [
    "Nmesh = 256\n",
    "real_field_numba = np.zeros((Nmesh, Nmesh, Nmesh), dtype=np.float32)\n",
    "run_cic(pos, real_field_numba, np.array([2500.0] * 3), np.array([Nmesh]*3, dtype=np.int64))"
   ]
  },
  {
   "cell_type": "code",
   "execution_count": 3,
   "id": "7943d80f",
   "metadata": {},
   "outputs": [],
   "source": [
    "Nmesh = 256\n",
    "real_field = run_cic_from_cuda(cp.asarray(pos, dtype=cp.float32), cp.array([2500.0] * 3, dtype=cp.float64), cp.array([Nmesh]*3, dtype=cp.int32))\n",
    "cp.cuda.Device().synchronize()"
   ]
  },
  {
   "cell_type": "code",
   "execution_count": 7,
   "id": "36d4db65",
   "metadata": {},
   "outputs": [
    {
     "data": {
      "text/plain": [
       "np.int64(782174)"
      ]
     },
     "execution_count": 7,
     "metadata": {},
     "output_type": "execute_result"
    }
   ],
   "source": [
    "np.argmax(np.abs(cp.asnumpy(real_field) - real_field_numba))"
   ]
  },
  {
   "cell_type": "code",
   "execution_count": 8,
   "id": "e80b16cf",
   "metadata": {},
   "outputs": [
    {
     "name": "stdout",
     "output_type": "stream",
     "text": [
      "15.556963\n",
      "15.556966\n"
     ]
    }
   ],
   "source": [
    "need_index = np.unravel_index(782174, shape=real_field.shape) \n",
    "print(real_field[need_index])\n",
    "print(real_field_numba[need_index])"
   ]
  },
  {
   "cell_type": "code",
   "execution_count": 5,
   "id": "136d221e",
   "metadata": {},
   "outputs": [
    {
     "data": {
      "text/plain": [
       "dtype('float64')"
      ]
     },
     "execution_count": 5,
     "metadata": {},
     "output_type": "execute_result"
    }
   ],
   "source": [
    "pos.dtype"
   ]
  },
  {
   "cell_type": "markdown",
   "id": "f466d2be",
   "metadata": {},
   "source": [
    "### 测试：CIC多线程版本"
   ]
  },
  {
   "cell_type": "code",
   "execution_count": 3,
   "id": "d46e823f",
   "metadata": {},
   "outputs": [],
   "source": [
    "import numpy as np \n",
    "from LSS_python.mesh import run_cic_single\n",
    "import cupy as cp "
   ]
  },
  {
   "cell_type": "code",
   "execution_count": 4,
   "id": "7d4107d2",
   "metadata": {},
   "outputs": [],
   "source": [
    "pos = np.copy(np.load(\"/DataGpu01/xiaoliang/snap100_shiftz.npy\", mmap_mode=\"r\")[\"Position\"].astype(np.float32))"
   ]
  },
  {
   "cell_type": "code",
   "execution_count": 6,
   "id": "0d6f089f",
   "metadata": {},
   "outputs": [
    {
     "data": {
      "text/plain": [
       "(519361057, 3)"
      ]
     },
     "execution_count": 6,
     "metadata": {},
     "output_type": "execute_result"
    }
   ],
   "source": [
    "pos.shape"
   ]
  },
  {
   "cell_type": "code",
   "execution_count": 7,
   "id": "dd908fb2",
   "metadata": {},
   "outputs": [
    {
     "data": {
      "text/plain": [
       "(12, 4)"
      ]
     },
     "execution_count": 7,
     "metadata": {},
     "output_type": "execute_result"
    }
   ],
   "source": [
    "pos.strides"
   ]
  },
  {
   "cell_type": "code",
   "execution_count": 5,
   "id": "169a1437",
   "metadata": {},
   "outputs": [],
   "source": [
    "Nmesh = 1024\n",
    "real_field_numba_single = np.zeros((Nmesh, Nmesh, Nmesh), dtype=np.float32)\n",
    "run_cic_single(pos, None, real_field_numba_single, np.array([2500.0] * 3), np.array([Nmesh]*3, dtype=np.int64))"
   ]
  },
  {
   "cell_type": "code",
   "execution_count": 4,
   "id": "ed9348c1",
   "metadata": {},
   "outputs": [],
   "source": [
    "Nmesh = 1024\n",
    "real_field_numba_multithreads = np.zeros((Nmesh, Nmesh, Nmesh), dtype=np.float32)\n",
    "run_cic_multithreads(pos, real_field_numba_multithreads, np.array([2500.0] * 3), np.array([Nmesh]*3, dtype=np.int64), nthreads=5)"
   ]
  },
  {
   "cell_type": "code",
   "execution_count": 3,
   "id": "6e69df1c",
   "metadata": {},
   "outputs": [],
   "source": [
    "Nmesh = 1024 \n",
    "real_field_cuda = cp.zeros((Nmesh, Nmesh, Nmesh), dtype=cp.float32)\n",
    "chuck_size = int(2e+7)\n",
    "chuck_items = pos.shape[0] // chuck_size + 1\n",
    "\n",
    "for i in range(chuck_items):\n",
    "    start = i * chuck_size\n",
    "    end = min(pos.shape[0], start + chuck_size)\n",
    "    run_cic_from_cuda(cp.asarray(pos[start:end], dtype=cp.float32), real_field_cuda, cp.array([2500.0] * 3, dtype=cp.float64), cp.array([Nmesh]*3, dtype=cp.int32))"
   ]
  },
  {
   "cell_type": "code",
   "execution_count": 18,
   "id": "5e49ce21",
   "metadata": {},
   "outputs": [
    {
     "data": {
      "text/plain": [
       "array([5.4258566e-02, 4.6190135e-03, 2.0381501e-03, 8.8480324e-01,\n",
       "       4.5497332e+00, 8.5852489e+00, 1.0047110e+01, 2.2590340e+01,\n",
       "       9.3456907e+00, 2.6121752e+00], dtype=float32)"
      ]
     },
     "execution_count": 18,
     "metadata": {},
     "output_type": "execute_result"
    }
   ],
   "source": [
    "real_field_numba_multithreads[0,:10,5]"
   ]
  },
  {
   "cell_type": "code",
   "execution_count": 19,
   "id": "7c7705c1",
   "metadata": {},
   "outputs": [
    {
     "data": {
      "text/plain": [
       "array([5.4258566e-02, 4.6190135e-03, 2.0381501e-03, 8.8480324e-01,\n",
       "       4.5497332e+00, 8.5852489e+00, 1.0047110e+01, 2.2590340e+01,\n",
       "       9.3456907e+00, 2.6121752e+00], dtype=float32)"
      ]
     },
     "execution_count": 19,
     "metadata": {},
     "output_type": "execute_result"
    }
   ],
   "source": [
    "real_field_numba_single[0,:10,5]"
   ]
  },
  {
   "cell_type": "code",
   "execution_count": null,
   "id": "d6a1d032",
   "metadata": {},
   "outputs": [
    {
     "data": {
      "text/plain": [
       "array([5.4258574e-02, 4.6190135e-03, 2.0381492e-03, 8.8480312e-01,\n",
       "       4.5497327e+00, 8.5852489e+00, 1.0047111e+01, 2.2590343e+01,\n",
       "       9.3456917e+00, 2.6121747e+00], dtype=float32)"
      ]
     },
     "execution_count": 10,
     "metadata": {},
     "output_type": "execute_result"
    }
   ],
   "source": [
    "real_field_cuda[0,:10,5]"
   ]
  },
  {
   "cell_type": "code",
   "execution_count": 5,
   "id": "7ea55821",
   "metadata": {},
   "outputs": [
    {
     "ename": "NameError",
     "evalue": "name 'real_field_numba_single' is not defined",
     "output_type": "error",
     "traceback": [
      "\u001b[31m---------------------------------------------------------------------------\u001b[39m",
      "\u001b[31mNameError\u001b[39m                                 Traceback (most recent call last)",
      "\u001b[36mCell\u001b[39m\u001b[36m \u001b[39m\u001b[32mIn[5]\u001b[39m\u001b[32m, line 1\u001b[39m\n\u001b[32m----> \u001b[39m\u001b[32m1\u001b[39m np.argmax(np.abs(\u001b[43mreal_field_numba_single\u001b[49m - cp.asnumpy(real_field_cuda)))\n",
      "\u001b[31mNameError\u001b[39m: name 'real_field_numba_single' is not defined"
     ]
    }
   ],
   "source": [
    "np.argmax(np.abs(real_field_numba_single - cp.asnumpy(real_field_cuda)))"
   ]
  },
  {
   "cell_type": "code",
   "execution_count": 21,
   "id": "153d9002",
   "metadata": {},
   "outputs": [
    {
     "name": "stdout",
     "output_type": "stream",
     "text": [
      "(np.int64(16), np.int64(139), np.int64(254)) 300.89203 300.89188\n"
     ]
    }
   ],
   "source": [
    "need_index = np.unravel_index(16919806, shape=real_field_numba_single.shape)\n",
    "print(need_index, real_field_numba_single[need_index], real_field_cuda[need_index])"
   ]
  },
  {
   "cell_type": "code",
   "execution_count": 4,
   "id": "edba7b6b",
   "metadata": {},
   "outputs": [
    {
     "data": {
      "text/plain": [
       "array(5.1936102e+08, dtype=float32)"
      ]
     },
     "execution_count": 4,
     "metadata": {},
     "output_type": "execute_result"
    }
   ],
   "source": [
    "cp.sum(real_field_cuda)"
   ]
  },
  {
   "cell_type": "code",
   "execution_count": 18,
   "id": "1834a85d",
   "metadata": {},
   "outputs": [
    {
     "data": {
      "text/plain": [
       "np.float32(519363000.0)"
      ]
     },
     "execution_count": 18,
     "metadata": {},
     "output_type": "execute_result"
    }
   ],
   "source": [
    "np.sum(real_field_numba_multithreads)"
   ]
  },
  {
   "cell_type": "code",
   "execution_count": 17,
   "id": "619fa1d5",
   "metadata": {},
   "outputs": [
    {
     "data": {
      "text/plain": [
       "(519361057, 3)"
      ]
     },
     "execution_count": 17,
     "metadata": {},
     "output_type": "execute_result"
    }
   ],
   "source": [
    "pos.shape"
   ]
  },
  {
   "cell_type": "markdown",
   "id": "5a8ab396",
   "metadata": {},
   "source": [
    "### 测试：替代my_fft"
   ]
  },
  {
   "cell_type": "code",
   "execution_count": 1,
   "id": "3da1215b",
   "metadata": {},
   "outputs": [],
   "source": [
    "import numpy as np \n",
    "import cupy as cp \n",
    "import matplotlib.pyplot as plt \n",
    "\n",
    "from my_fft import Mesh, FFTPower\n",
    "from LSS_python.mesh import Mesh as Mesh_LSS \n",
    "from LSS_python.fftpower import FFTPower as FFTPower_LSS"
   ]
  },
  {
   "cell_type": "code",
   "execution_count": 2,
   "id": "c5627d16",
   "metadata": {},
   "outputs": [],
   "source": [
    "device_id = 1\n",
    "\n",
    "pos = np.load(\"/Raid6/1/xiaoliang/AP_SysTest/data/11_nbar1e-3.shiftz.numNB30.npy\")[:,:3].astype(np.float32)\n",
    "pos_old = np.empty(shape=pos.shape[0], dtype=np.dtype([(\"Position\", \"f4\", 3)]))\n",
    "pos_old[\"Position\"] = pos\n",
    "pos_cpu = np.copy(pos)\n",
    "with cp.cuda.Device(device_id):\n",
    "    pos_gpu = cp.asarray(pos, dtype=cp.float32)\n",
    "\n",
    "Nmesh = 256\n",
    "boxSize = 2500.0 "
   ]
  },
  {
   "cell_type": "code",
   "execution_count": 3,
   "id": "957e26e8",
   "metadata": {},
   "outputs": [],
   "source": [
    "mesh_old = Mesh(Nmesh, boxSize)\n",
    "real_field = mesh_old.run_cic(pos_old, nthreads=5)"
   ]
  },
  {
   "cell_type": "code",
   "execution_count": 4,
   "id": "301d8d78",
   "metadata": {},
   "outputs": [],
   "source": [
    "mesh_new_cpu = Mesh_LSS(Nmesh, boxSize)\n",
    "mesh_new_cpu.run_cic(pos_cpu, nthreads=5)"
   ]
  },
  {
   "cell_type": "code",
   "execution_count": 5,
   "id": "cb83f21a",
   "metadata": {},
   "outputs": [],
   "source": [
    "mesh_new_gpu = Mesh_LSS(Nmesh, boxSize)\n",
    "mesh_new_gpu.run_cic(pos_gpu, device_id=device_id)"
   ]
  },
  {
   "cell_type": "code",
   "execution_count": 6,
   "id": "f2e0e8d7",
   "metadata": {},
   "outputs": [
    {
     "data": {
      "text/plain": [
       "np.float32(6.67572e-06)"
      ]
     },
     "execution_count": 6,
     "metadata": {},
     "output_type": "execute_result"
    }
   ],
   "source": [
    "np.max(np.abs(mesh_new_cpu.real_field - mesh_old.real_field))"
   ]
  },
  {
   "cell_type": "code",
   "execution_count": 7,
   "id": "7695614e",
   "metadata": {},
   "outputs": [
    {
     "data": {
      "text/plain": [
       "np.float32(5.722046e-06)"
      ]
     },
     "execution_count": 7,
     "metadata": {},
     "output_type": "execute_result"
    }
   ],
   "source": [
    "np.max(np.abs(mesh_old.real_field - cp.asnumpy(mesh_new_gpu.real_field_gpu)))"
   ]
  },
  {
   "cell_type": "code",
   "execution_count": 8,
   "id": "3392c661",
   "metadata": {},
   "outputs": [],
   "source": [
    "complex_field = mesh_old.r2c(real_field, compensated=False)"
   ]
  },
  {
   "cell_type": "code",
   "execution_count": 9,
   "id": "c3ec2df6",
   "metadata": {},
   "outputs": [],
   "source": [
    "mesh_new_cpu.r2c(compensated=False)"
   ]
  },
  {
   "cell_type": "code",
   "execution_count": 10,
   "id": "0762ff0e",
   "metadata": {},
   "outputs": [],
   "source": [
    "mesh_new_gpu.r2c(compensated=False, device_id=device_id)"
   ]
  },
  {
   "cell_type": "code",
   "execution_count": 11,
   "id": "764e388c",
   "metadata": {},
   "outputs": [
    {
     "data": {
      "text/plain": [
       "np.float64(3.610752154903212e-09)"
      ]
     },
     "execution_count": 11,
     "metadata": {},
     "output_type": "execute_result"
    }
   ],
   "source": [
    "np.max(np.abs(mesh_new_cpu.complex_field - mesh_old.complex_field))"
   ]
  },
  {
   "cell_type": "code",
   "execution_count": 12,
   "id": "a691c8c5",
   "metadata": {},
   "outputs": [
    {
     "data": {
      "text/plain": [
       "np.float64(5.960464477539063e-08)"
      ]
     },
     "execution_count": 12,
     "metadata": {},
     "output_type": "execute_result"
    }
   ],
   "source": [
    "np.max(np.abs(mesh_old.complex_field - cp.asnumpy(mesh_new_gpu.complex_field_gpu)))"
   ]
  },
  {
   "cell_type": "code",
   "execution_count": 13,
   "id": "abce98f5",
   "metadata": {},
   "outputs": [],
   "source": [
    "complex_field = mesh_old.r2c(real_field, compensated=True)"
   ]
  },
  {
   "cell_type": "code",
   "execution_count": 14,
   "id": "13855923",
   "metadata": {},
   "outputs": [],
   "source": [
    "mesh_new_cpu.r2c(compensated=True)"
   ]
  },
  {
   "cell_type": "code",
   "execution_count": 15,
   "id": "49cf01c5",
   "metadata": {},
   "outputs": [],
   "source": [
    "mesh_new_gpu.r2c(compensated=True, device_id=device_id)"
   ]
  },
  {
   "cell_type": "code",
   "execution_count": 16,
   "id": "6fa2d7ff",
   "metadata": {},
   "outputs": [
    {
     "data": {
      "text/plain": [
       "np.float64(5.502360312954401e-09)"
      ]
     },
     "execution_count": 16,
     "metadata": {},
     "output_type": "execute_result"
    }
   ],
   "source": [
    "np.max(np.abs(mesh_new_cpu.complex_field - mesh_old.complex_field))"
   ]
  },
  {
   "cell_type": "code",
   "execution_count": 17,
   "id": "7ec52c5d",
   "metadata": {},
   "outputs": [
    {
     "data": {
      "text/plain": [
       "np.float64(5.960464477539063e-08)"
      ]
     },
     "execution_count": 17,
     "metadata": {},
     "output_type": "execute_result"
    }
   ],
   "source": [
    "np.max(np.abs(mesh_old.complex_field - cp.asnumpy(mesh_new_gpu.complex_field_gpu)))"
   ]
  },
  {
   "cell_type": "code",
   "execution_count": 18,
   "id": "3de88617",
   "metadata": {},
   "outputs": [
    {
     "name": "stdout",
     "output_type": "stream",
     "text": [
      "(np.int64(67), np.int64(81), np.int64(123)) (0.00028287631564776497-0.001262362156307062j) (0.00028287625-0.0012623621j)\n"
     ]
    }
   ],
   "source": [
    "index_need = np.unravel_index(2223180, shape=mesh_new_cpu.complex_field.shape)\n",
    "print(index_need, mesh_old.complex_field[index_need], mesh_new_gpu.complex_field_gpu[index_need])"
   ]
  },
  {
   "cell_type": "markdown",
   "id": "9cae1361",
   "metadata": {},
   "source": [
    "### 测试：cupy中对于None转换为nullptr的支持"
   ]
  },
  {
   "cell_type": "code",
   "execution_count": 1,
   "id": "bca03e36",
   "metadata": {},
   "outputs": [],
   "source": [
    "import cupy as cp\n",
    "import numpy as np "
   ]
  },
  {
   "cell_type": "code",
   "execution_count": 6,
   "id": "99404b1a",
   "metadata": {},
   "outputs": [],
   "source": [
    "kernel_code = r'''\n",
    "    extern \"C\" __global__ void \n",
    "    test_null(float *a)\n",
    "    {\n",
    "        int i = blockIdx.x * blockDim.x + threadIdx.x;\n",
    "        if (i < 2)\n",
    "        {\n",
    "            if (a == nullptr)\n",
    "            {\n",
    "                printf(\"NULL\\n\");\n",
    "            }\n",
    "            else \n",
    "            {\n",
    "                printf(\"NOT NULL\\n\");\n",
    "            }\n",
    "            return;\n",
    "        }\n",
    "        else \n",
    "        {\n",
    "            return;\n",
    "        }\n",
    "    }\n",
    " '''\n",
    "kernel = cp.RawKernel(kernel_code, 'test_null')"
   ]
  },
  {
   "cell_type": "code",
   "execution_count": null,
   "id": "deaebee6",
   "metadata": {},
   "outputs": [
    {
     "name": "stdout",
     "output_type": "stream",
     "text": [
      "NULL\n",
      "NULL\n"
     ]
    }
   ],
   "source": [
    "kernel((1,), (10,), (0,))"
   ]
  },
  {
   "cell_type": "markdown",
   "id": "dae6d130",
   "metadata": {},
   "source": [
    "## 核心测试：发布前比对"
   ]
  },
  {
   "cell_type": "markdown",
   "id": "a288d2aa",
   "metadata": {},
   "source": [
    "### 测试：Mesh 部分"
   ]
  },
  {
   "cell_type": "code",
   "execution_count": 1,
   "id": "0ebdabfc",
   "metadata": {},
   "outputs": [],
   "source": [
    "import numpy as np \n",
    "import cupy as cp \n",
    "\n",
    "from LSS_python.mesh import Mesh "
   ]
  },
  {
   "cell_type": "code",
   "execution_count": 2,
   "id": "c9675740",
   "metadata": {},
   "outputs": [],
   "source": [
    "data_list = [np.load(f\"/Raid6/1/xiaoliang/AP_SysTest/data/{snap_id:d}_nbar1e-3.shiftz.numNB30.npy\") for snap_id in (11, 26)]\n",
    "pos_list = [data[:, :3] for data in data_list]\n",
    "# weight_list = [data[:, 3] for data in data_list]\n",
    "weight_list = None"
   ]
  },
  {
   "cell_type": "code",
   "execution_count": 3,
   "id": "ba6a9bc8",
   "metadata": {},
   "outputs": [],
   "source": [
    "Nmesh = 256\n",
    "BoxSize = 2500.0\n",
    "mesh_cpu = Mesh(Nmesh, BoxSize)\n",
    "mesh_gpu = Mesh(Nmesh, BoxSize)"
   ]
  },
  {
   "cell_type": "code",
   "execution_count": 4,
   "id": "28ca73cd",
   "metadata": {},
   "outputs": [],
   "source": [
    "mesh_cpu.run_cic(pos_list, weight_list, nthreads=4, device_id=-1, is_norm=True)"
   ]
  },
  {
   "cell_type": "code",
   "execution_count": 5,
   "id": "4c32bec6",
   "metadata": {},
   "outputs": [],
   "source": [
    "mesh_gpu.run_cic(pos_list, weight_list, device_id=0, is_norm=True)"
   ]
  },
  {
   "cell_type": "code",
   "execution_count": 6,
   "id": "87127b7b",
   "metadata": {},
   "outputs": [
    {
     "data": {
      "text/plain": [
       "np.float32(2.861023e-06)"
      ]
     },
     "execution_count": 6,
     "metadata": {},
     "output_type": "execute_result"
    }
   ],
   "source": [
    "np.max(np.abs(mesh_cpu.real_field - cp.asnumpy(mesh_gpu.real_field_gpu)))"
   ]
  },
  {
   "cell_type": "code",
   "execution_count": 14,
   "id": "4a7a30fa",
   "metadata": {},
   "outputs": [],
   "source": [
    "mesh_cpu.r2c(compensated=True, nthreads=1)"
   ]
  },
  {
   "cell_type": "code",
   "execution_count": 15,
   "id": "439ea0b8",
   "metadata": {},
   "outputs": [],
   "source": [
    "mesh_gpu.r2c(compensated=True, device_id=0)"
   ]
  },
  {
   "cell_type": "code",
   "execution_count": 20,
   "id": "aa0a9367",
   "metadata": {},
   "outputs": [
    {
     "name": "stdout",
     "output_type": "stream",
     "text": [
      "3.5390258e-08\n",
      "2.4330802e-08\n"
     ]
    }
   ],
   "source": [
    "print(np.max(np.abs(np.real(mesh_cpu.complex_field) - np.real(cp.asnumpy(mesh_gpu.complex_field_gpu)))))\n",
    "print(np.max(np.abs(np.imag(mesh_cpu.complex_field) - np.imag(cp.asnumpy(mesh_gpu.complex_field_gpu)))))"
   ]
  },
  {
   "cell_type": "markdown",
   "id": "9f2ad64c",
   "metadata": {},
   "source": [
    "### 测试：fftpower 部分"
   ]
  },
  {
   "cell_type": "code",
   "execution_count": 1,
   "id": "8ce14cf2",
   "metadata": {},
   "outputs": [],
   "source": [
    "import numpy as np \n",
    "import cupy as cp \n",
    "\n",
    "from LSS_python.mesh import Mesh \n",
    "from LSS_python.fftpower import deal_ps_3d, FFTPower"
   ]
  },
  {
   "cell_type": "code",
   "execution_count": 2,
   "id": "e8e7581b",
   "metadata": {},
   "outputs": [],
   "source": [
    "mesh_cpu = Mesh.load(\"/Raid6/1/xiaoliang/simulation/ska/data/snap100_myfft/mesh1024/mass_fftpower_mesh1024_all_complex\")\n",
    "mesh_gpu = Mesh.load(\"/Raid6/1/xiaoliang/simulation/ska/data/snap100_myfft/mesh1024/mass_fftpower_mesh1024_all_complex\")\n",
    "mesh_gpu.transform_field(source_device_id=-1, target_device_id=0)"
   ]
  },
  {
   "cell_type": "code",
   "execution_count": 5,
   "id": "fc0090a9",
   "metadata": {},
   "outputs": [],
   "source": [
    "deal_ps_3d(mesh_cpu.complex_field, None, ps_3d_factor=np.prod(mesh_cpu.attrs[\"BoxSize\"]), shotnoise=mesh_cpu.attrs[\"shotnoise\"], nthreads=5)"
   ]
  },
  {
   "cell_type": "code",
   "execution_count": 6,
   "id": "e1c90739",
   "metadata": {},
   "outputs": [],
   "source": [
    "deal_ps_3d(mesh_gpu.complex_field_gpu, None, ps_3d_factor=np.prod(mesh_gpu.attrs[\"BoxSize\"]), shotnoise=mesh_gpu.attrs[\"shotnoise\"], device_id=0)"
   ]
  },
  {
   "cell_type": "code",
   "execution_count": 9,
   "id": "0dca5465",
   "metadata": {},
   "outputs": [
    {
     "data": {
      "text/plain": [
       "np.float32(2.861023e-06)"
      ]
     },
     "execution_count": 9,
     "metadata": {},
     "output_type": "execute_result"
    }
   ],
   "source": [
    "np.max(np.abs(mesh_cpu.complex_field[5] - cp.asnumpy(mesh_gpu.complex_field_gpu[5])))"
   ]
  },
  {
   "cell_type": "code",
   "execution_count": null,
   "id": "366adc07",
   "metadata": {},
   "outputs": [],
   "source": [
    "Nmesh = 1024 \n",
    "BoxSize = 1000.0\n",
    "fftpower_cpu = FFTPower(Nmesh, BoxSize, )"
   ]
  },
  {
   "cell_type": "markdown",
   "id": "06d7967e",
   "metadata": {},
   "source": [
    "## 测试：和nbodykit对比"
   ]
  },
  {
   "cell_type": "code",
   "execution_count": 1,
   "id": "667bcc76",
   "metadata": {},
   "outputs": [],
   "source": [
    "%reload_ext autoreload\n",
    "%autoreload 2"
   ]
  },
  {
   "cell_type": "code",
   "execution_count": 2,
   "id": "240c0d49",
   "metadata": {},
   "outputs": [],
   "source": [
    "import numpy as np \n",
    "from nbodykit.lab import ArrayMesh, ArrayCatalog\n",
    "from nbodykit.lab import FFTPower as FFTpower_nbody\n",
    "from nbodykit import setup_logging\n",
    "\n",
    "from LSS_python.mesh import Mesh \n",
    "from LSS_python.fftpower import deal_ps_3d, FFTPower"
   ]
  },
  {
   "cell_type": "code",
   "execution_count": 3,
   "id": "04c01c45",
   "metadata": {},
   "outputs": [],
   "source": [
    "data_list = [np.load(f\"/Raid6/1/xiaoliang/AP_SysTest/data/{snap_id:d}_nbar1e-3.shiftz.numNB30.npy\") for snap_id in (11, 26)]\n",
    "pos_list = [data[:, :3] for data in data_list]\n",
    "weight_list = [data[:, 3] for data in data_list]"
   ]
  },
  {
   "cell_type": "code",
   "execution_count": 4,
   "id": "1a7b61d8",
   "metadata": {},
   "outputs": [],
   "source": [
    "Nmesh = 256\n",
    "BoxSize = 2500.0\n",
    "setup_logging()"
   ]
  },
  {
   "cell_type": "code",
   "execution_count": 5,
   "id": "7ebc0599",
   "metadata": {},
   "outputs": [],
   "source": [
    "pos = pos_list[0].astype(np.float32)\n",
    "weight = weight_list[0].astype(np.float32)\n",
    "\n",
    "catalog_data = np.empty(pos.shape[0], dtype=[(\"Position\", \"f4\", 3), (\"Weight\", \"f4\")])\n",
    "catalog_data[\"Position\"] = pos\n",
    "catalog_data[\"Weight\"] = weight\n",
    "catalog = ArrayCatalog(catalog_data)\n",
    "mesh_real = catalog.to_mesh(Nmesh, BoxSize, compensated=False)"
   ]
  },
  {
   "cell_type": "code",
   "execution_count": 20,
   "id": "e869b90b",
   "metadata": {},
   "outputs": [
    {
     "name": "stderr",
     "output_type": "stream",
     "text": [
      "[ 000024.24 ]   0: 09-21 14:13  CatalogMesh     INFO     Chunk 0 ~ 4194304 / 15641725 \n",
      "[ 000034.47 ]   0: 09-21 14:13  CatalogMesh     INFO     painted 4194304 out of 15641725 objects to mesh\n",
      "[ 000034.47 ]   0: 09-21 14:13  CatalogMesh     INFO     Chunk 4194304 ~ 8388608 / 15641725 \n",
      "[ 000043.25 ]   0: 09-21 14:13  CatalogMesh     INFO     painted 8388608 out of 15641725 objects to mesh\n",
      "[ 000043.25 ]   0: 09-21 14:13  CatalogMesh     INFO     Chunk 8388608 ~ 12582912 / 15641725 \n",
      "[ 000049.50 ]   0: 09-21 14:13  CatalogMesh     INFO     painted 12582912 out of 15641725 objects to mesh\n",
      "[ 000049.50 ]   0: 09-21 14:13  CatalogMesh     INFO     Chunk 12582912 ~ 16777216 / 15641725 \n",
      "[ 000053.12 ]   0: 09-21 14:13  CatalogMesh     INFO     painted 15641725 out of 15641725 objects to mesh\n",
      "[ 000053.13 ]   0: 09-21 14:13  CatalogMesh     INFO     painted 15641725 out of 15641725 objects to mesh\n",
      "[ 000053.14 ]   0: 09-21 14:13  CatalogMesh     INFO     mean particles per cell is 0.00401788\n",
      "[ 000053.14 ]   0: 09-21 14:13  CatalogMesh     INFO     sum is 67408.9 \n",
      "[ 000053.16 ]   0: 09-21 14:13  CatalogMesh     INFO     normalized the convention to 1 + delta\n",
      "[ 000053.16 ]   0: 09-21 14:13  CatalogMesh     INFO     field: (ArrayCatalog(size=15641725) as CatalogMesh) painting done\n"
     ]
    }
   ],
   "source": [
    "one_plus_delta = mesh.paint(mode=\"real\")"
   ]
  },
  {
   "cell_type": "code",
   "execution_count": 6,
   "id": "efb8c03b",
   "metadata": {},
   "outputs": [],
   "source": [
    "mesh_cpu = Mesh(Nmesh, BoxSize)\n",
    "mesh_cpu.run_cic(pos, weight, nthreads=1, is_norm=True)"
   ]
  },
  {
   "cell_type": "code",
   "execution_count": 40,
   "id": "8e739b80",
   "metadata": {},
   "outputs": [
    {
     "data": {
      "text/plain": [
       "0.00018310547"
      ]
     },
     "execution_count": 40,
     "metadata": {},
     "output_type": "execute_result"
    }
   ],
   "source": [
    "np.max(np.abs(mesh_cpu.real_field - one_plus_delta))"
   ]
  },
  {
   "cell_type": "code",
   "execution_count": 15,
   "id": "07e9a71b",
   "metadata": {},
   "outputs": [],
   "source": [
    "mesh_complex = catalog.to_mesh(Nmesh, BoxSize, compensated=True)\n",
    "# complex_field = mesh_complex.paint(mode=\"complex\")"
   ]
  },
  {
   "cell_type": "code",
   "execution_count": 45,
   "id": "09d6f3d8",
   "metadata": {},
   "outputs": [
    {
     "data": {
      "text/plain": [
       "{'BoxSize': array([2500., 2500., 2500.]),\n",
       " 'Nmesh': array([256, 256, 256]),\n",
       " 'interlaced': False,\n",
       " 'compensated': True,\n",
       " 'resampler': 'cic'}"
      ]
     },
     "execution_count": 45,
     "metadata": {},
     "output_type": "execute_result"
    }
   ],
   "source": [
    "mesh_complex.attrs"
   ]
  },
  {
   "cell_type": "code",
   "execution_count": 43,
   "id": "2a8182f8",
   "metadata": {},
   "outputs": [
    {
     "data": {
      "text/plain": [
       "array([ 1.0000002e+00+0.j        ,  1.9438681e-03+0.00341513j,\n",
       "       -1.8925651e-03+0.00177349j, -4.5531201e-03-0.0025632j ,\n",
       "       -8.6477672e-04-0.00697549j,  6.7003793e-03+0.00455826j,\n",
       "       -5.7115289e-03+0.00064161j,  7.0234161e-04+0.00466668j,\n",
       "       -2.7968828e-03+0.00094938j,  4.9756425e-03-0.00393436j],\n",
       "      dtype=complex64)"
      ]
     },
     "execution_count": 43,
     "metadata": {},
     "output_type": "execute_result"
    }
   ],
   "source": [
    "complex_field[0,0,:10]"
   ]
  },
  {
   "cell_type": "code",
   "execution_count": 7,
   "id": "8071c034",
   "metadata": {},
   "outputs": [],
   "source": [
    "mesh_cpu.r2c(compensated=True, nthreads=2)"
   ]
  },
  {
   "cell_type": "code",
   "execution_count": 52,
   "id": "afa72438",
   "metadata": {},
   "outputs": [
    {
     "name": "stdout",
     "output_type": "stream",
     "text": [
      "3.5762787e-07\n",
      "2.9802322e-08\n"
     ]
    }
   ],
   "source": [
    "print(np.max(np.abs(np.real(mesh_cpu.complex_field) - np.real(complex_field))))\n",
    "print(np.max(np.abs(np.imag(mesh_cpu.complex_field) - np.imag(complex_field))))"
   ]
  },
  {
   "cell_type": "code",
   "execution_count": null,
   "id": "4275d20c",
   "metadata": {},
   "outputs": [
    {
     "ename": "TypeError",
     "evalue": "expected float64, got None",
     "output_type": "error",
     "traceback": [
      "\u001b[0;31m---------------------------------------------------------------------------\u001b[0m",
      "\u001b[0;31mTypeError\u001b[0m                                 Traceback (most recent call last)",
      "Cell \u001b[0;32mIn[8], line 3\u001b[0m\n\u001b[1;32m      1\u001b[0m deal_ps_3d(mesh_cpu\u001b[38;5;241m.\u001b[39mcomplex_field, \u001b[38;5;28;01mNone\u001b[39;00m, ps_3d_factor\u001b[38;5;241m=\u001b[39mnp\u001b[38;5;241m.\u001b[39mprod(mesh_cpu\u001b[38;5;241m.\u001b[39mattrs[\u001b[38;5;124m\"\u001b[39m\u001b[38;5;124mBoxSize\u001b[39m\u001b[38;5;124m\"\u001b[39m]), shotnoise\u001b[38;5;241m=\u001b[39m\u001b[38;5;241m0.0\u001b[39m)\n\u001b[1;32m      2\u001b[0m fftpower_cpu \u001b[38;5;241m=\u001b[39m FFTPower(Nmesh, BoxSize, shotnoise\u001b[38;5;241m=\u001b[39mmesh_cpu\u001b[38;5;241m.\u001b[39mattrs[\u001b[38;5;124m\"\u001b[39m\u001b[38;5;124mshotnoise\u001b[39m\u001b[38;5;124m\"\u001b[39m])\n\u001b[0;32m----> 3\u001b[0m \u001b[43mfftpower_cpu\u001b[49m\u001b[38;5;241;43m.\u001b[39;49m\u001b[43mrun\u001b[49m\u001b[43m(\u001b[49m\u001b[43mmesh_cpu\u001b[49m\u001b[38;5;241;43m.\u001b[39;49m\u001b[43mcomplex_field\u001b[49m\u001b[43m,\u001b[49m\u001b[43m \u001b[49m\u001b[43mkmin\u001b[49m\u001b[38;5;241;43m=\u001b[39;49m\u001b[38;5;241;43m0.1\u001b[39;49m\u001b[43m,\u001b[49m\u001b[43m \u001b[49m\u001b[43mkmax\u001b[49m\u001b[38;5;241;43m=\u001b[39;49m\u001b[38;5;241;43m1.0\u001b[39;49m\u001b[43m,\u001b[49m\u001b[43m \u001b[49m\u001b[43mdk\u001b[49m\u001b[38;5;241;43m=\u001b[39;49m\u001b[38;5;241;43m0.1\u001b[39;49m\u001b[43m,\u001b[49m\u001b[43m \u001b[49m\u001b[43mnthreads\u001b[49m\u001b[38;5;241;43m=\u001b[39;49m\u001b[38;5;241;43m2\u001b[39;49m\u001b[43m)\u001b[49m\n",
      "File \u001b[0;32m/Raid6/1/xiaoliang/software/LSS_python/LSS_python/fftpower.py:192\u001b[0m, in \u001b[0;36mFFTPower.run\u001b[0;34m(self, ps_3d, kmin, kmax, dk, Nmu, k_arrays, mode, linear, nthreads, device_id)\u001b[0m\n\u001b[1;32m    190\u001b[0m         power_modes \u001b[38;5;241m=\u001b[39m cp\u001b[38;5;241m.\u001b[39masnumpy(power_modes)\n\u001b[1;32m    191\u001b[0m \u001b[38;5;28;01melse\u001b[39;00m:\n\u001b[0;32m--> 192\u001b[0m     power_k, power_mu, power, power_modes \u001b[38;5;241m=\u001b[39m \u001b[43mrun_core\u001b[49m\u001b[43m(\u001b[49m\n\u001b[1;32m    193\u001b[0m \u001b[43m        \u001b[49m\u001b[43mps_3d\u001b[49m\u001b[43m,\u001b[49m\n\u001b[1;32m    194\u001b[0m \u001b[43m        \u001b[49m\u001b[43m[\u001b[49m\u001b[43mk_x_array\u001b[49m\u001b[43m,\u001b[49m\u001b[43m \u001b[49m\u001b[43mk_y_array\u001b[49m\u001b[43m,\u001b[49m\u001b[43m \u001b[49m\u001b[43mk_z_array\u001b[49m\u001b[43m]\u001b[49m\u001b[43m,\u001b[49m\n\u001b[1;32m    195\u001b[0m \u001b[43m        \u001b[49m\u001b[43mk_array\u001b[49m\u001b[43m,\u001b[49m\n\u001b[1;32m    196\u001b[0m \u001b[43m        \u001b[49m\u001b[43mmu_array\u001b[49m\u001b[43m,\u001b[49m\n\u001b[1;32m    197\u001b[0m \u001b[43m        \u001b[49m\u001b[43mlinear\u001b[49m\u001b[38;5;241;43m=\u001b[39;49m\u001b[43mlinear\u001b[49m\u001b[43m,\u001b[49m\n\u001b[1;32m    198\u001b[0m \u001b[43m        \u001b[49m\u001b[43mnthreads\u001b[49m\u001b[38;5;241;43m=\u001b[39;49m\u001b[43mnthreads\u001b[49m\u001b[43m,\u001b[49m\n\u001b[1;32m    199\u001b[0m \u001b[43m    \u001b[49m\u001b[43m)\u001b[49m\n\u001b[1;32m    201\u001b[0m masked_index \u001b[38;5;241m=\u001b[39m power_modes \u001b[38;5;241m==\u001b[39m \u001b[38;5;241m0\u001b[39m\n\u001b[1;32m    202\u001b[0m need_index \u001b[38;5;241m=\u001b[39m np\u001b[38;5;241m.\u001b[39mlogical_not(masked_index)\n",
      "\u001b[0;31mTypeError\u001b[0m: expected float64, got None"
     ]
    }
   ],
   "source": [
    "deal_ps_3d(mesh_cpu.complex_field, None, ps_3d_factor=np.prod(mesh_cpu.attrs[\"BoxSize\"]), shotnoise=0.0)"
   ]
  },
  {
   "cell_type": "code",
   "execution_count": 13,
   "id": "e60808d9",
   "metadata": {},
   "outputs": [
    {
     "data": {
      "text/plain": [
       "{'k': array([0.16071211, 0.25657617, 0.34703984, 0.43324322, 0.51419299,\n",
       "               nan,        nan,        nan]),\n",
       " 'Pk': array([45471.71702906+0.j, 23734.18444357+0.j, 14348.56752314+0.j,\n",
       "         9552.44808167+0.j,  7000.30170692+0.j,            nan+0.j,\n",
       "                   nan+0.j,            nan+0.j]),\n",
       " 'modes': array([1847080, 5012944, 7066258, 2556261,   93380,       0,       0,\n",
       "              0], dtype=uint64)}"
      ]
     },
     "execution_count": 13,
     "metadata": {},
     "output_type": "execute_result"
    }
   ],
   "source": [
    "fftpower_cpu = FFTPower(Nmesh, BoxSize, shotnoise=mesh_cpu.attrs[\"shotnoise\"])\n",
    "fftpower_cpu.run(mesh_cpu.complex_field, kmin=0.1, kmax=1.0, dk=0.1, nthreads=2)"
   ]
  },
  {
   "cell_type": "code",
   "execution_count": 16,
   "id": "80844f31",
   "metadata": {},
   "outputs": [
    {
     "name": "stderr",
     "output_type": "stream",
     "text": [
      "[ 000802.26 ]   0: 09-21 15:18  CatalogMesh     INFO     Chunk 0 ~ 4194304 / 15641725 \n",
      "[ 000805.78 ]   0: 09-21 15:18  CatalogMesh     INFO     painted 4194304 out of 15641725 objects to mesh\n",
      "[ 000805.78 ]   0: 09-21 15:18  CatalogMesh     INFO     Chunk 4194304 ~ 8388608 / 15641725 \n",
      "[ 000811.49 ]   0: 09-21 15:18  CatalogMesh     INFO     painted 8388608 out of 15641725 objects to mesh\n",
      "[ 000811.49 ]   0: 09-21 15:18  CatalogMesh     INFO     Chunk 8388608 ~ 12582912 / 15641725 \n",
      "[ 000817.86 ]   0: 09-21 15:19  CatalogMesh     INFO     painted 12582912 out of 15641725 objects to mesh\n",
      "[ 000817.87 ]   0: 09-21 15:19  CatalogMesh     INFO     Chunk 12582912 ~ 16777216 / 15641725 \n",
      "[ 000822.76 ]   0: 09-21 15:19  CatalogMesh     INFO     painted 15641725 out of 15641725 objects to mesh\n",
      "[ 000822.77 ]   0: 09-21 15:19  CatalogMesh     INFO     painted 15641725 out of 15641725 objects to mesh\n",
      "[ 000822.78 ]   0: 09-21 15:19  CatalogMesh     INFO     mean particles per cell is 0.00401788\n",
      "[ 000822.78 ]   0: 09-21 15:19  CatalogMesh     INFO     sum is 67408.9 \n",
      "[ 000822.80 ]   0: 09-21 15:19  CatalogMesh     INFO     normalized the convention to 1 + delta\n",
      "[ 000823.27 ]   0: 09-21 15:19  CatalogMesh     INFO     field: (ArrayCatalog(size=15641725) as CatalogMesh) painting done\n"
     ]
    }
   ],
   "source": [
    "fftpower = FFTpower_nbody(mesh_complex, mode=\"1d\", kmin=0.1, kmax=1.0, dk=0.1)"
   ]
  },
  {
   "cell_type": "code",
   "execution_count": 21,
   "id": "8ffae343",
   "metadata": {},
   "outputs": [
    {
     "data": {
      "text/plain": [
       "array([45471.76480066 +0.j, 23734.20826085 +0.j, 14345.91803683 +0.j,\n",
       "        9551.68172802 +0.j,  7002.17142476 +0.j,            nan+nanj,\n",
       "                  nan+nanj,            nan+nanj])"
      ]
     },
     "execution_count": 21,
     "metadata": {},
     "output_type": "execute_result"
    }
   ],
   "source": [
    "fftpower.power[\"power\"]"
   ]
  },
  {
   "cell_type": "code",
   "execution_count": 19,
   "id": "147191e4",
   "metadata": {},
   "outputs": [],
   "source": [
    "import matplotlib.pyplot as plt "
   ]
  },
  {
   "cell_type": "code",
   "execution_count": 24,
   "id": "80e99dd5",
   "metadata": {},
   "outputs": [
    {
     "data": {
      "text/plain": [
       "[<matplotlib.lines.Line2D at 0x10cada734550>]"
      ]
     },
     "execution_count": 24,
     "metadata": {},
     "output_type": "execute_result"
    },
    {
     "data": {
      "image/png": "[encoded data removed]",
      "text/plain": [
       "<Figure size 640x480 with 1 Axes>"
      ]
     },
     "metadata": {},
     "output_type": "display_data"
    }
   ],
   "source": [
    "plt.loglog(fftpower.power[\"k\"], np.real(fftpower.power[\"power\"]) - fftpower.attrs[\"shotnoise\"])\n",
    "plt.loglog(fftpower_cpu.power[\"k\"], np.real(fftpower_cpu.power[\"Pk\"]) - fftpower_cpu.attrs[\"shotnoise\"])"
   ]
  },
  {
   "cell_type": "markdown",
   "id": "1ea76da8",
   "metadata": {},
   "source": [
    "### 测试：ctypes 调用C动态链接库"
   ]
  },
  {
   "cell_type": "code",
   "execution_count": 1,
   "id": "705aec6c",
   "metadata": {},
   "outputs": [],
   "source": [
    "import numpy as np \n",
    "import ctypes\n",
    "\n",
    "from LSS_python.mesh import Mesh "
   ]
  },
  {
   "cell_type": "code",
   "execution_count": 2,
   "id": "1dcb84df",
   "metadata": {},
   "outputs": [],
   "source": [
    "mesh_lib = ctypes.CDLL(\"../src/LSS_python/CPP/lib/mesh_clang.cpython-312-x86_64-linux-gnu.so\")"
   ]
  },
  {
   "cell_type": "code",
   "execution_count": 3,
   "id": "bbf7a8fc",
   "metadata": {},
   "outputs": [
    {
     "name": "stdout",
     "output_type": "stream",
     "text": [
      "(1.100, 3.400, 5.200, 5.300)\n"
     ]
    }
   ],
   "source": [
    "test_array = np.array([1.1, 3.4, 5.2, 5.3], dtype=np.float32)\n",
    "test_array_ptr = test_array.ctypes.data_as(ctypes.c_char_p)\n",
    "n = test_array.shape[0]\n",
    "_ =mesh_lib.test(test_array_ptr, n)"
   ]
  },
  {
   "cell_type": "code",
   "execution_count": 4,
   "id": "b8d9550a",
   "metadata": {},
   "outputs": [
    {
     "name": "stdout",
     "output_type": "stream",
     "text": [
      "array is null\n"
     ]
    }
   ],
   "source": [
    "_ = mesh_lib.test(ctypes.POINTER(ctypes.c_float)(), 7)"
   ]
  },
  {
   "cell_type": "code",
   "execution_count": 3,
   "id": "4c33980f",
   "metadata": {},
   "outputs": [],
   "source": [
    "data = np.load(\"/DataGpu01/xiaoliang/snap100_shiftz.npy\", mmap_mode=\"r\")\n",
    "# data = np.load(\"/Raid6/1/xiaoliang/AP_SysTest/data/11_nbar1e-3.shiftz.numNB30.npy\", mmap_mode=\"r\")"
   ]
  },
  {
   "cell_type": "code",
   "execution_count": 4,
   "id": "3e416bcd",
   "metadata": {},
   "outputs": [],
   "source": [
    "pos_float = np.copy(data[\"Position\"].astype(np.float32))\n",
    "# pos_float = np.copy(data[:,:3].astype(np.float32))"
   ]
  },
  {
   "cell_type": "code",
   "execution_count": 5,
   "id": "8f4e9ff6",
   "metadata": {},
   "outputs": [
    {
     "name": "stdout",
     "output_type": "stream",
     "text": [
      "(519361057, 3)\n",
      "(12, 4)\n"
     ]
    }
   ],
   "source": [
    "print(pos_float.shape)\n",
    "print(pos_float.strides)"
   ]
  },
  {
   "cell_type": "code",
   "execution_count": 6,
   "id": "a8f86578",
   "metadata": {},
   "outputs": [
    {
     "name": "stdout",
     "output_type": "stream",
     "text": [
      "Created field\n",
      "ngrids = (256, 256, 256)\n",
      "Running CIC with 519361057 particles\n"
     ]
    }
   ],
   "source": [
    "boxsize = np.array([1000.0] * 3, dtype=np.float32)\n",
    "ngrids = np.array([256] * 3, dtype=np.uint64)\n",
    "field = np.zeros(ngrids, dtype=np.float32)\n",
    "print(\"Created field\")\n",
    "\n",
    "pos_ptr = pos_float.ctypes.data_as(ctypes.POINTER(ctypes.c_float))\n",
    "field_ptr = field.ctypes.data_as(ctypes.POINTER(ctypes.c_float))\n",
    "boxsize_ptr = boxsize.ctypes.data_as(ctypes.POINTER(ctypes.c_float))\n",
    "ngrids_ptr = ngrids.ctypes.data_as(ctypes.POINTER(ctypes.c_uint64))\n",
    "nparticle = pos_float.shape[0]\n",
    "nullptr = ctypes.POINTER(ctypes.c_float)()\n",
    "nthreads = 5\n",
    "\n",
    "_ = mesh_lib.run_cic_float(pos_ptr, field_ptr, nparticle, boxsize_ptr, ngrids_ptr, nullptr, nullptr, nthreads)"
   ]
  },
  {
   "cell_type": "code",
   "execution_count": 7,
   "id": "19aac05d",
   "metadata": {},
   "outputs": [
    {
     "data": {
      "text/plain": [
       "np.float32(519361120.0)"
      ]
     },
     "execution_count": 7,
     "metadata": {},
     "output_type": "execute_result"
    }
   ],
   "source": [
    "np.sum(field)"
   ]
  },
  {
   "cell_type": "markdown",
   "id": "63fc98ae",
   "metadata": {},
   "source": [
    "### 测试：函数调用"
   ]
  },
  {
   "cell_type": "markdown",
   "id": "e5914c0f",
   "metadata": {},
   "source": [
    "#### Mesh "
   ]
  },
  {
   "cell_type": "code",
   "execution_count": 1,
   "id": "53723df1",
   "metadata": {},
   "outputs": [],
   "source": [
    "%reload_ext autoreload\n",
    "%autoreload 2"
   ]
  },
  {
   "cell_type": "code",
   "execution_count": 2,
   "id": "ffea1bb9",
   "metadata": {},
   "outputs": [],
   "source": [
    "import numpy as np \n",
    "from scipy.fft import rfftn\n",
    "from LSS_python.mesh import Mesh "
   ]
  },
  {
   "cell_type": "code",
   "execution_count": 3,
   "id": "95127a8c",
   "metadata": {},
   "outputs": [],
   "source": [
    "pos = np.load(\"/Raid6/1/xiaoliang/AP_SysTest/data/11_nbar1e-3.shiftz.numNB30.npy\")[:,:3].astype(np.float32)"
   ]
  },
  {
   "cell_type": "code",
   "execution_count": 4,
   "id": "54478855",
   "metadata": {},
   "outputs": [],
   "source": [
    "Nmesh = 256 \n",
    "BoxSize = 2500.0\n",
    "mesh_lss_c = Mesh(Nmesh, BoxSize)\n",
    "mesh_lss_numba = Mesh(Nmesh, BoxSize)"
   ]
  },
  {
   "cell_type": "code",
   "execution_count": 11,
   "id": "fbe0c2e4",
   "metadata": {},
   "outputs": [],
   "source": [
    "mesh_lss_c.to_mesh(pos, resampler=\"CIC\", interlaced=True, nthreads=5, is_norm=False, c_api=True)\n",
    "mesh_lss_c.r2c(compensated=True, nthreads=5, c_api=True)"
   ]
  },
  {
   "cell_type": "code",
   "execution_count": 12,
   "id": "88416947",
   "metadata": {},
   "outputs": [],
   "source": [
    "mesh_lss_numba.to_mesh(pos, resampler=\"CIC\", interlaced=False, is_norm=False, c_api=False)\n",
    "mesh_lss_numba.r2c(compensated=True, nthreads=5, c_api=False)"
   ]
  },
  {
   "cell_type": "code",
   "execution_count": 13,
   "id": "507bb2b2",
   "metadata": {},
   "outputs": [
    {
     "data": {
      "text/plain": [
       "array([ 0.00205896-1.9890306e-04j,  0.00172993+1.5674659e-05j,\n",
       "       -0.00122965-1.9651160e-03j, -0.00050939-2.4040397e-03j,\n",
       "        0.00212777-1.2371904e-04j], dtype=complex64)"
      ]
     },
     "execution_count": 13,
     "metadata": {},
     "output_type": "execute_result"
    }
   ],
   "source": [
    "mesh_lss_c.complex_field[5,5,:5]"
   ]
  },
  {
   "cell_type": "code",
   "execution_count": 14,
   "id": "7bb29d10",
   "metadata": {},
   "outputs": [
    {
     "data": {
      "text/plain": [
       "array([ 0.00191942-1.8546650e-04j,  0.00161302+1.4756280e-05j,\n",
       "       -0.00114638-1.8320468e-03j, -0.00047472-2.2414110e-03j,\n",
       "        0.00198388-1.1551588e-04j], dtype=complex64)"
      ]
     },
     "execution_count": 14,
     "metadata": {},
     "output_type": "execute_result"
    }
   ],
   "source": [
    "mesh_lss_numba.complex_field[5,5,:5]"
   ]
  },
  {
   "cell_type": "markdown",
   "id": "e80e0412",
   "metadata": {},
   "source": [
    "#### FFTPower "
   ]
  },
  {
   "cell_type": "code",
   "execution_count": 1,
   "id": "9fa56d9e",
   "metadata": {},
   "outputs": [],
   "source": [
    "%reload_ext autoreload\n",
    "%autoreload 2"
   ]
  },
  {
   "cell_type": "code",
   "execution_count": 2,
   "id": "2a4b49cd",
   "metadata": {},
   "outputs": [],
   "source": [
    "import numpy as np \n",
    "from LSS_python.mesh import Mesh \n",
    "from LSS_python.fftpower import FFTPower, deal_ps_3d"
   ]
  },
  {
   "cell_type": "code",
   "execution_count": 3,
   "id": "36d723a9",
   "metadata": {},
   "outputs": [],
   "source": [
    "mesh_dir = \"/Raid6/1/xiaoliang/simulation/ska/data/snap100_myfft/mesh1024/mass_fftpower_mesh1024_all_complex\"\n",
    "mesh_numba = Mesh.load(mesh_dir, only_complex=True)\n",
    "mesh_capi = Mesh.load(mesh_dir, only_complex=True)"
   ]
  },
  {
   "cell_type": "code",
   "execution_count": 4,
   "id": "1ae7dbd9",
   "metadata": {},
   "outputs": [],
   "source": [
    "ps_3d_numba = deal_ps_3d(mesh_numba.complex_field, None, np.prod(mesh_numba.attrs[\"BoxSize\"]), shotnoise=mesh_numba.attrs[\"shotnoise\"] * mesh_numba.attrs[\"num_per_cell\"] ** 2, inplace=False, nthreads=5, c_api=False)"
   ]
  },
  {
   "cell_type": "code",
   "execution_count": 5,
   "id": "b409c601",
   "metadata": {},
   "outputs": [],
   "source": [
    "ps_3d_capi = deal_ps_3d(mesh_capi.complex_field, None, np.prod(mesh_capi.attrs[\"BoxSize\"]), shotnoise=mesh_capi.attrs[\"shotnoise\"] * mesh_numba.attrs[\"num_per_cell\"] ** 2, inplace=False, nthreads=5, c_api=True)"
   ]
  },
  {
   "cell_type": "code",
   "execution_count": 6,
   "id": "0ef35ce5",
   "metadata": {},
   "outputs": [
    {
     "data": {
      "text/plain": [
       "array([4.8648653e+05+0.j, 5.2089615e+01+0.j, 3.6580591e+00+0.j,\n",
       "       2.7679503e+00+0.j, 2.3361475e+00+0.j, 4.9961193e+01+0.j,\n",
       "       1.0806839e+01+0.j, 3.3126141e+01+0.j, 6.9203281e+00+0.j,\n",
       "       7.7869120e+00+0.j], dtype=complex64)"
      ]
     },
     "execution_count": 6,
     "metadata": {},
     "output_type": "execute_result"
    }
   ],
   "source": [
    "ps_3d_numba[0,0,:10]"
   ]
  },
  {
   "cell_type": "code",
   "execution_count": 7,
   "id": "3f931bb9",
   "metadata": {},
   "outputs": [
    {
     "data": {
      "text/plain": [
       "array([4.8648653e+05+0.j, 5.2089615e+01+0.j, 3.6580591e+00+0.j,\n",
       "       2.7679503e+00+0.j, 2.3361475e+00+0.j, 4.9961197e+01+0.j,\n",
       "       1.0806839e+01+0.j, 3.3126144e+01+0.j, 6.9203281e+00+0.j,\n",
       "       7.7869115e+00+0.j], dtype=complex64)"
      ]
     },
     "execution_count": 7,
     "metadata": {},
     "output_type": "execute_result"
    }
   ],
   "source": [
    "ps_3d_capi[0,0,:10]"
   ]
  },
  {
   "cell_type": "code",
   "execution_count": 8,
   "id": "3f61fe82",
   "metadata": {},
   "outputs": [],
   "source": [
    "Nmesh = mesh_numba.attrs[\"Nmesh\"]\n",
    "BoxSize = mesh_numba.attrs[\"BoxSize\"]\n",
    "fftpower_numba = FFTPower(Nmesh, BoxSize, shotnoise=0.0)\n",
    "fftpower_capi = FFTPower(Nmesh, BoxSize, shotnoise=0.0)"
   ]
  },
  {
   "cell_type": "code",
   "execution_count": 9,
   "id": "3e5bbc98",
   "metadata": {},
   "outputs": [],
   "source": [
    "kmin = 0.1 \n",
    "kmax= 3.1 \n",
    "Nmu = 50\n",
    "dk = 0.01\n",
    "power_numba = fftpower_numba.cal_ps_from_3d(ps_3d_numba, kmin=kmin, kmax=kmax, dk=dk, Nmu=Nmu, mode=\"2d\", k_logarithmic=False, nthreads=5, c_api=False)"
   ]
  },
  {
   "cell_type": "code",
   "execution_count": 10,
   "id": "4f222fe5",
   "metadata": {},
   "outputs": [],
   "source": [
    "power_capi = fftpower_capi.cal_ps_from_3d(ps_3d_capi, kmin=kmin, kmax=kmax, dk=dk, Nmu=Nmu, mode=\"2d\", k_logarithmic=False, nthreads=5, c_api=True)"
   ]
  },
  {
   "cell_type": "code",
   "execution_count": 14,
   "id": "e5c30e75",
   "metadata": {},
   "outputs": [
    {
     "data": {
      "text/plain": [
       "array([0.94539402+0.j, 0.89310384+0.j, 0.96289097+0.j, 0.92809019+0.j,\n",
       "       1.10439451+0.j, 1.00398062+0.j, 1.21031755+0.j, 1.07297605+0.j,\n",
       "       1.16515895+0.j, 1.02080716+0.j, 1.12905819+0.j, 0.98076254+0.j,\n",
       "       1.17805456+0.j, 0.96827604+0.j, 1.08801642+0.j, 1.08218667+0.j,\n",
       "       1.1705272 +0.j, 1.08730221+0.j, 1.31937436+0.j, 1.10684375+0.j,\n",
       "       1.13811836+0.j, 1.05551084+0.j, 1.14771751+0.j, 1.47278728+0.j,\n",
       "       1.15174343+0.j, 1.35556134+0.j, 1.23255957+0.j, 1.19702574+0.j,\n",
       "       1.25489161+0.j, 1.28020698+0.j, 1.3418506 +0.j, 1.5706122 +0.j,\n",
       "       1.62942973+0.j, 1.37424437+0.j, 1.8127427 +0.j, 1.52939451+0.j,\n",
       "       1.44917663+0.j, 1.74063492+0.j, 1.5712493 +0.j, 1.79216489+0.j,\n",
       "       1.97713902+0.j, 1.56396723+0.j, 1.52114994+0.j, 1.75650644+0.j,\n",
       "       1.9785412 +0.j, 1.99901344+0.j, 1.58356372+0.j, 2.30024223+0.j,\n",
       "       2.17303197+0.j, 2.21032498+0.j])"
      ]
     },
     "execution_count": 14,
     "metadata": {},
     "output_type": "execute_result"
    }
   ],
   "source": [
    "power_numba[\"Pkmu\"][5]"
   ]
  },
  {
   "cell_type": "code",
   "execution_count": null,
   "id": "c2fa83fb",
   "metadata": {},
   "outputs": [
    {
     "data": {
      "text/plain": [
       "array([0.94539403+0.j, 0.89310385+0.j, 0.96289097+0.j, 0.9280902 +0.j,\n",
       "       1.10439451+0.j, 1.00398063+0.j, 1.21031755+0.j, 1.07297606+0.j,\n",
       "       1.16515896+0.j, 1.02080716+0.j, 1.12905819+0.j, 0.98076254+0.j,\n",
       "       1.17805456+0.j, 0.96827604+0.j, 1.08801642+0.j, 1.08218668+0.j,\n",
       "       1.1705272 +0.j, 1.08730222+0.j, 1.31937435+0.j, 1.10684376+0.j,\n",
       "       1.13811836+0.j, 1.05551085+0.j, 1.14771751+0.j, 1.47278728+0.j,\n",
       "       1.15174343+0.j, 1.35556133+0.j, 1.23255957+0.j, 1.19702573+0.j,\n",
       "       1.25489161+0.j, 1.28020697+0.j, 1.34185059+0.j, 1.57061219+0.j,\n",
       "       1.62942972+0.j, 1.37424437+0.j, 1.81274269+0.j, 1.5293945 +0.j,\n",
       "       1.44917662+0.j, 1.7406349 +0.j, 1.57124929+0.j, 1.79216486+0.j,\n",
       "       1.977139  +0.j, 1.5639672 +0.j, 1.52114993+0.j, 1.75650643+0.j,\n",
       "       1.97854116+0.j, 1.9990134 +0.j, 1.58356373+0.j, 2.30024219+0.j,\n",
       "       2.17303193+0.j, 2.21032495+0.j])"
      ]
     },
     "execution_count": 15,
     "metadata": {},
     "output_type": "execute_result"
    }
   ],
   "source": [
    "power_capi[\"Pkmu\"][5] "
   ]
  },
  {
   "cell_type": "code",
   "execution_count": 17,
   "id": "1cc455ca",
   "metadata": {},
   "outputs": [
    {
     "data": {
      "text/plain": [
       "np.float64(1.293691722636936e-07)"
      ]
     },
     "execution_count": 17,
     "metadata": {},
     "output_type": "execute_result"
    }
   ],
   "source": [
    "np.nanmax(np.abs(power_numba[\"Pkmu\"] - power_capi[\"Pkmu\"]))"
   ]
  },
  {
   "cell_type": "code",
   "execution_count": 22,
   "id": "9e97eb8e",
   "metadata": {},
   "outputs": [],
   "source": [
    "fftpower_check = FFTPower.load(\"/Raid6/1/xiaoliang/simulation/ska/data/snap100_myfft/mesh1024/HI_fftpower_mesh1024_all_k0dot1to3dot1_dk0dot01_Nmu50.pkl\")\n",
    "power_check = fftpower_check.power"
   ]
  },
  {
   "cell_type": "code",
   "execution_count": 33,
   "id": "c2205f25",
   "metadata": {},
   "outputs": [],
   "source": [
    "from LSS_python.base import cal_HI_factor"
   ]
  },
  {
   "cell_type": "code",
   "execution_count": 35,
   "id": "da1d38dc",
   "metadata": {},
   "outputs": [
    {
     "data": {
      "text/plain": [
       "np.float64(7.927729438961251e-05)"
      ]
     },
     "execution_count": 35,
     "metadata": {},
     "output_type": "execute_result"
    }
   ],
   "source": [
    "np.nanmax(np.abs(power_capi[\"Pkmu\"] * cal_HI_factor(0.43183, 0.3111, 1000.0, 1024)**2 - power_check[\"Pkmu\"]))"
   ]
  },
  {
   "cell_type": "markdown",
   "id": "469b0187",
   "metadata": {},
   "source": [
    "#### CUDA"
   ]
  },
  {
   "cell_type": "code",
   "execution_count": 1,
   "id": "5ecc071b",
   "metadata": {},
   "outputs": [],
   "source": [
    "import numpy as np \n",
    "import cupy as cp\n",
    "from LSS_python.mesh import Mesh "
   ]
  },
  {
   "cell_type": "code",
   "execution_count": 2,
   "id": "53d26eab",
   "metadata": {},
   "outputs": [],
   "source": [
    "pos = np.load(\"/Raid6/1/xiaoliang/AP_SysTest/data/11_nbar1e-3.shiftz.numNB30.npy\")[:,:3].astype(np.float32)"
   ]
  },
  {
   "cell_type": "code",
   "execution_count": 3,
   "id": "097b0457",
   "metadata": {},
   "outputs": [],
   "source": [
    "Nmesh = 256 \n",
    "BoxSize = 2500.0 \n",
    "mesh_capi = Mesh(Nmesh, BoxSize)\n",
    "mesh_cuda = Mesh(Nmesh, BoxSize)"
   ]
  },
  {
   "cell_type": "code",
   "execution_count": 4,
   "id": "346b6c6f",
   "metadata": {},
   "outputs": [],
   "source": [
    "mesh_capi.to_mesh(pos, resampler=\"PCS\", interlaced=False, nthreads=5, c_api=True)\n",
    "mesh_capi.r2c(compensated=True, nthreads=5, c_api=True)"
   ]
  },
  {
   "cell_type": "code",
   "execution_count": 5,
   "id": "c1f8208f",
   "metadata": {},
   "outputs": [],
   "source": [
    "mesh_cuda.to_mesh(pos, resampler=\"PCS\", interlaced=False, device_id=0, c_api=False)\n",
    "mesh_cuda.r2c(compensated=True, nthreads=5, device_id=0, c_api=False)"
   ]
  },
  {
   "cell_type": "code",
   "execution_count": 6,
   "id": "f67023cb",
   "metadata": {},
   "outputs": [
    {
     "data": {
      "text/plain": [
       "array([ 9.3231940e-01+0.0000000e+00j,  2.7702641e-04+1.5539962e-03j,\n",
       "       -4.4221731e-04+7.6516188e-04j, -2.1066999e-03-1.7875092e-03j,\n",
       "       -4.6989365e-04-3.5006937e-03j,  2.8842175e-03+1.6902977e-03j,\n",
       "       -2.2860649e-03-2.6867748e-04j, -2.1156747e-04+1.8730070e-03j,\n",
       "       -1.5928647e-03+8.9567649e-05j,  3.2984782e-03-1.3068730e-03j],\n",
       "      dtype=complex64)"
      ]
     },
     "execution_count": 6,
     "metadata": {},
     "output_type": "execute_result"
    }
   ],
   "source": [
    "mesh_capi.complex_field[0,0,:10]"
   ]
  },
  {
   "cell_type": "code",
   "execution_count": 7,
   "id": "8b97fc15",
   "metadata": {},
   "outputs": [
    {
     "data": {
      "text/plain": [
       "array([ 9.3231946e-01+0.0000000e+00j,  2.7702641e-04+1.5539962e-03j,\n",
       "       -4.4221731e-04+7.6516176e-04j, -2.1067001e-03-1.7875091e-03j,\n",
       "       -4.6989348e-04-3.5006932e-03j,  2.8842173e-03+1.6902976e-03j,\n",
       "       -2.2860649e-03-2.6867748e-04j, -2.1156744e-04+1.8730070e-03j,\n",
       "       -1.5928647e-03+8.9567606e-05j,  3.2984777e-03-1.3068729e-03j],\n",
       "      dtype=complex64)"
      ]
     },
     "execution_count": 7,
     "metadata": {},
     "output_type": "execute_result"
    }
   ],
   "source": [
    "mesh_cuda.complex_field_gpu[0,0,:10]"
   ]
  },
  {
   "cell_type": "code",
   "execution_count": 8,
   "id": "f4577d03",
   "metadata": {},
   "outputs": [
    {
     "name": "stdout",
     "output_type": "stream",
     "text": [
      "1.2852252e-07\n",
      "3.6292477e-08\n"
     ]
    }
   ],
   "source": [
    "print(np.max(np.abs(np.real(mesh_capi.complex_field) - np.real(cp.asnumpy(mesh_cuda.complex_field_gpu)))))\n",
    "print(np.max(np.abs(np.imag(mesh_capi.complex_field) - np.imag(cp.asnumpy(mesh_cuda.complex_field_gpu)))))"
   ]
  },
  {
   "cell_type": "code",
   "execution_count": 16,
   "id": "96e53c0c",
   "metadata": {},
   "outputs": [
    {
     "name": "stdout",
     "output_type": "stream",
     "text": [
      "(np.int64(218), np.int64(128), np.int64(128)) (1.1168326e-05-4.3684e-05j) (1.11684185e-05-4.368399e-05j)\n"
     ]
    }
   ],
   "source": [
    "index_need = np.unravel_index(7215872, shape=mesh_capi.complex_field.shape)\n",
    "print(index_need, mesh_capi.complex_field[index_need], mesh_cuda.complex_field_gpu[index_need])"
   ]
  },
  {
   "cell_type": "markdown",
   "id": "b30eb270",
   "metadata": {},
   "source": [
    "### 全套"
   ]
  },
  {
   "cell_type": "code",
   "execution_count": 1,
   "id": "c623993b",
   "metadata": {},
   "outputs": [],
   "source": [
    "import numpy as np \n",
    "from LSS_python.mesh import Mesh \n",
    "from LSS_python.fftpower import FFTPower\n",
    "from LSS_python.base import cal_HI_factor"
   ]
  },
  {
   "cell_type": "code",
   "execution_count": 2,
   "id": "71a0d293",
   "metadata": {},
   "outputs": [],
   "source": [
    "data = np.load(\"/Raid6/1/xiaoliang/simulation/ska/data/snap100_shiftz_f4.npy\")"
   ]
  },
  {
   "cell_type": "code",
   "execution_count": 3,
   "id": "68ae4456",
   "metadata": {},
   "outputs": [],
   "source": [
    "pos = np.copy(data[:,:3])\n",
    "mass = np.copy(data[:,3])"
   ]
  },
  {
   "cell_type": "code",
   "execution_count": 4,
   "id": "6f437670",
   "metadata": {},
   "outputs": [],
   "source": [
    "Nmesh = 1024 \n",
    "BoxSize = 1000.0\n",
    "mesh_capi = Mesh(Nmesh, BoxSize)\n",
    "mesh_capi.to_mesh(pos, resampler=\"CIC\", weights=mass, nthreads=10, c_api=True)"
   ]
  },
  {
   "cell_type": "code",
   "execution_count": 5,
   "id": "99337da6",
   "metadata": {},
   "outputs": [],
   "source": [
    "mesh_capi.r2c(compensated=True, nthreads=10)"
   ]
  },
  {
   "cell_type": "code",
   "execution_count": 6,
   "id": "b28048cc",
   "metadata": {},
   "outputs": [],
   "source": [
    "mesh_check = Mesh.load(\"/Raid6/1/xiaoliang/simulation/ska/data/snap100_myfft/mesh1024/mass_fftpower_mesh1024_all_complex\", only_complex=True)"
   ]
  },
  {
   "cell_type": "code",
   "execution_count": 7,
   "id": "4559e348",
   "metadata": {},
   "outputs": [
    {
     "data": {
      "text/plain": [
       "array([ 5.3793286e-05+2.2700004e-05j,  5.4236629e-05+1.3669823e-05j,\n",
       "       -2.9358142e-05+2.1421762e-05j,  1.1304543e-04-9.2248329e-06j,\n",
       "        1.2976332e-05-4.5433680e-05j, -1.7161864e-04-3.5145680e-05j,\n",
       "        3.8566155e-05-7.4195763e-05j, -1.2243442e-05-8.1630562e-05j,\n",
       "       -3.2641561e-05+5.9291629e-05j,  5.2525002e-06-7.1188108e-05j],\n",
       "      dtype=complex64)"
      ]
     },
     "execution_count": 7,
     "metadata": {},
     "output_type": "execute_result"
    }
   ],
   "source": [
    "mesh_check.complex_field[5,5,:10]"
   ]
  },
  {
   "cell_type": "code",
   "execution_count": 8,
   "id": "b59696f3",
   "metadata": {},
   "outputs": [
    {
     "data": {
      "text/plain": [
       "array([ 5.37932829e-05+2.2700006e-05j,  5.42366288e-05+1.3669823e-05j,\n",
       "       -2.93581397e-05+2.1421760e-05j,  1.13045426e-04-9.2248301e-06j,\n",
       "        1.29763339e-05-4.5433677e-05j, -1.71618638e-04-3.5145680e-05j,\n",
       "        3.85661515e-05-7.4195756e-05j, -1.22434431e-05-8.1630555e-05j,\n",
       "       -3.26415648e-05+5.9291626e-05j,  5.25250016e-06-7.1188108e-05j],\n",
       "      dtype=complex64)"
      ]
     },
     "execution_count": 8,
     "metadata": {},
     "output_type": "execute_result"
    }
   ],
   "source": [
    "mesh_capi.complex_field[5,5,:10]"
   ]
  },
  {
   "cell_type": "code",
   "execution_count": 27,
   "id": "ba04152b",
   "metadata": {},
   "outputs": [
    {
     "data": {
      "text/plain": [
       "{'Nmesh': array([1024, 1024, 1024], dtype=int32),\n",
       " 'BoxSize': array([1000., 1000., 1000.]),\n",
       " 'resampler': None,\n",
       " 'compensated': True,\n",
       " 'interlaced': None,\n",
       " 'N': 519361057,\n",
       " 'W': np.float64(23682921.80616181),\n",
       " 'W2': np.float64(6603410.613843589),\n",
       " 'shotnoise': np.float64(11.773287278124606),\n",
       " 'num_per_cell': np.float64(0.022056439710931675),\n",
       " 'HI_factor': np.float64(22.72178861750707),\n",
       " 'field_type': 'complex'}"
      ]
     },
     "execution_count": 27,
     "metadata": {},
     "output_type": "execute_result"
    }
   ],
   "source": [
    "mesh_check.attrs"
   ]
  },
  {
   "cell_type": "code",
   "execution_count": 28,
   "id": "7c60f55d",
   "metadata": {},
   "outputs": [
    {
     "data": {
      "text/plain": [
       "{'Nmesh': array([1024, 1024, 1024]),\n",
       " 'BoxSize': array([1000., 1000., 1000.]),\n",
       " 'resampler': 'CIC',\n",
       " 'compensated': True,\n",
       " 'interlaced': False,\n",
       " 'is_norm': False,\n",
       " 'N': 519361057,\n",
       " 'W': np.float32(23682896.0),\n",
       " 'W2': np.float32(6603419.5),\n",
       " 'num_per_cell': np.float32(0.022056416),\n",
       " 'shotnoise': np.float32(11.773329)}"
      ]
     },
     "execution_count": 28,
     "metadata": {},
     "output_type": "execute_result"
    }
   ],
   "source": [
    "mesh_capi.attrs"
   ]
  },
  {
   "cell_type": "code",
   "execution_count": 9,
   "id": "6ae8d6c8",
   "metadata": {},
   "outputs": [],
   "source": [
    "fftpower = FFTPower(Nmesh=Nmesh, BoxSize=BoxSize, shotnoise=mesh_capi.attrs[\"shotnoise\"] * mesh_capi.attrs[\"num_per_cell\"] ** 2)\n",
    "\n",
    "kmin = 0.1\n",
    "kmax = 3.1 \n",
    "dk = 0.01 \n",
    "Nmu = 50\n",
    "power_capi = fftpower.cal_ps_from_mesh(mesh_capi, kmin=kmin, kmax=kmax, dk=dk, Nmu=Nmu, mode=\"2d\", k_logarithmic=False, ps_3d_inplace=False, nthreads=10, c_api=True)"
   ]
  },
  {
   "cell_type": "code",
   "execution_count": 41,
   "id": "379d4ab2",
   "metadata": {},
   "outputs": [
    {
     "data": {
      "text/plain": [
       "array([[  180,     0,   192, ...,    80,   104,   148],\n",
       "       [  164,     0,   344, ...,   184,   112,   108],\n",
       "       [  216,     0,   432, ...,   112,   184,   170],\n",
       "       ...,\n",
       "       [94088, 98064, 96936, ..., 94360, 95688, 96066],\n",
       "       [93668, 96464, 98576, ..., 96472, 95432, 95132],\n",
       "       [92768, 99376, 97936, ..., 95800, 96560, 97050]], dtype=uint64)"
      ]
     },
     "execution_count": 41,
     "metadata": {},
     "output_type": "execute_result"
    }
   ],
   "source": [
    "power_capi[\"modes\"]"
   ]
  },
  {
   "cell_type": "code",
   "execution_count": 10,
   "id": "a03b493d",
   "metadata": {},
   "outputs": [],
   "source": [
    "fftpower_check = FFTPower.load(\"/Raid6/1/xiaoliang/simulation/ska/data/snap100_myfft/mesh1024/HI_fftpower_mesh1024_all_k0dot1to3dot1_dk0dot01_Nmu50.pkl\")"
   ]
  },
  {
   "cell_type": "code",
   "execution_count": 3,
   "id": "2f15eeb4",
   "metadata": {},
   "outputs": [
    {
     "data": {
      "text/plain": [
       "{'Nmesh': array([1024, 1024, 1024], dtype=int32),\n",
       " 'BoxSize': array([1000., 1000., 1000.]),\n",
       " 'shotnoise': 0.0,\n",
       " 'kmin': 0.1,\n",
       " 'kmax': 3.1,\n",
       " 'dk': 0.01,\n",
       " 'Nk': 299,\n",
       " 'mode': '2d',\n",
       " 'Nmu': 50}"
      ]
     },
     "execution_count": 3,
     "metadata": {},
     "output_type": "execute_result"
    }
   ],
   "source": [
    "fftpower_check.attrs"
   ]
  },
  {
   "cell_type": "code",
   "execution_count": 13,
   "id": "14de0f7d",
   "metadata": {},
   "outputs": [
    {
     "data": {
      "text/plain": [
       "array([ 579.33647133+0.j,  547.2931047 +0.j,  590.05858809+0.j,\n",
       "        568.7327065 +0.j,  676.77180879+0.j,  615.23827912+0.j,\n",
       "        741.68133586+0.j,  657.51861164+0.j,  714.00819695+0.j,\n",
       "        625.54956472+0.j,  691.88568816+0.j,  601.0102662 +0.j,\n",
       "        721.91061122+0.j,  593.35854927+0.j,  666.73533513+0.j,\n",
       "        663.1628646 +0.j,  717.29784994+0.j,  666.29766565+0.j,\n",
       "        808.51123874+0.j,  678.27269991+0.j,  697.43775083+0.j,\n",
       "        646.81594628+0.j,  703.32009818+0.j,  902.52251332+0.j,\n",
       "        705.7871781 +0.j,  830.68658045+0.j,  755.31122679+0.j,\n",
       "        733.53613062+0.j,  768.99627726+0.j,  784.5095083 +0.j,\n",
       "        822.28465385+0.j,  962.46952809+0.j,  998.51284647+0.j,\n",
       "        842.13552117+0.j, 1110.84684373+0.j,  937.21136509+0.j,\n",
       "        888.05393569+0.j, 1066.65927209+0.j,  962.85993882+0.j,\n",
       "       1098.23678109+0.j, 1211.58873983+0.j,  958.39749701+0.j,\n",
       "        932.15910351+0.j, 1076.38532515+0.j, 1212.44799443+0.j,\n",
       "       1224.9933592 +0.j,  970.40620453+0.j, 1409.58605171+0.j,\n",
       "       1331.63173472+0.j, 1354.48485247+0.j])"
      ]
     },
     "execution_count": 13,
     "metadata": {},
     "output_type": "execute_result"
    }
   ],
   "source": [
    "fftpower_check.power[\"Pkmu\"][5]"
   ]
  },
  {
   "cell_type": "code",
   "execution_count": 19,
   "id": "e67198dd",
   "metadata": {},
   "outputs": [
    {
     "data": {
      "text/plain": [
       "array([ 579.336475  +0.j,  547.29309479+0.j,  590.05853544+0.j,\n",
       "        568.73266087+0.j,  676.77172312+0.j,  615.23823667+0.j,\n",
       "        741.68131739+0.j,  657.51864802+0.j,  714.00822451+0.j,\n",
       "        625.54953828+0.j,  691.88564776+0.j,  601.01029618+0.j,\n",
       "        721.91054971+0.j,  593.35858028+0.j,  666.73530977+0.j,\n",
       "        663.16287803+0.j,  717.29789974+0.j,  666.29766378+0.j,\n",
       "        808.51125684+0.j,  678.27267822+0.j,  697.43776111+0.j,\n",
       "        646.81595688+0.j,  703.32010883+0.j,  902.52255066+0.j,\n",
       "        705.78719721+0.j,  830.68664951+0.j,  755.31125685+0.j,\n",
       "        733.53604112+0.j,  768.99627835+0.j,  784.5094623 +0.j,\n",
       "        822.28467221+0.j,  962.46951332+0.j,  998.51276681+0.j,\n",
       "        842.13553853+0.j, 1110.84691046+0.j,  937.21139951+0.j,\n",
       "        888.05397368+0.j, 1066.65923163+0.j,  962.85988234+0.j,\n",
       "       1098.23675993+0.j, 1211.58871581+0.j,  958.39749069+0.j,\n",
       "        932.15911557+0.j, 1076.3853677 +0.j, 1212.44798414+0.j,\n",
       "       1224.99330983+0.j,  970.4061199 +0.j, 1409.58597325+0.j,\n",
       "       1331.63166309+0.j, 1354.48477394+0.j])"
      ]
     },
     "execution_count": 19,
     "metadata": {},
     "output_type": "execute_result"
    }
   ],
   "source": [
    "fftpower.power[\"Pkmu\"][5] * cal_HI_factor(0.43183, 0.3111, 1000.0, 1024)**2 - fftpower.attrs[\"shotnoise\"] * cal_HI_factor(0.43183, 0.3111, 1000.0, 1024)**2"
   ]
  },
  {
   "cell_type": "code",
   "execution_count": 18,
   "id": "9d20980c",
   "metadata": {},
   "outputs": [
    {
     "data": {
      "text/plain": [
       "np.float32(0.0057275537)"
      ]
     },
     "execution_count": 18,
     "metadata": {},
     "output_type": "execute_result"
    }
   ],
   "source": [
    "fftpower.attrs[\"shotnoise\"]"
   ]
  },
  {
   "cell_type": "markdown",
   "id": "c758ebf7",
   "metadata": {},
   "source": [
    "### 研究：质量分配函数k空间核函数"
   ]
  },
  {
   "cell_type": "code",
   "execution_count": 6,
   "id": "72c86035",
   "metadata": {},
   "outputs": [],
   "source": [
    "import numpy as np \n",
    "import matplotlib.pyplot as plt"
   ]
  },
  {
   "cell_type": "code",
   "execution_count": 2,
   "id": "187cbba8",
   "metadata": {},
   "outputs": [],
   "source": [
    "H = 1000.0 / 1024 \n",
    "k_N = np.pi / H "
   ]
  },
  {
   "cell_type": "code",
   "execution_count": 114,
   "id": "094639b1",
   "metadata": {},
   "outputs": [
    {
     "name": "stdout",
     "output_type": "stream",
     "text": [
      "0.48266872245689485\n",
      "0.48266872245689446\n"
     ]
    }
   ],
   "source": [
    "n = np.arange(-50, 50, 1)\n",
    "k = 1.5\n",
    "p = 4\n",
    "w_k = np.sinc((k + 2 * k_N * n) / 2.0/ k_N) ** p\n",
    "print(np.sum(w_k**2))\n",
    "\n",
    "if p == 1:\n",
    "    print(1.0)\n",
    "elif p == 2:\n",
    "    print(1.0 - 2.0/3.0 * np.sin(np.pi * k / 2.0/ k_N)**2)\n",
    "elif p == 3:\n",
    "    print(1.0 - np.sin(np.pi * k / 2.0/ k_N)**2 + 2.0/15.0 * np.sin(np.pi * k / 2.0/ k_N)**4)\n",
    "elif p == 4:\n",
    "    print(1.0 - 4.0 / 3.0 * np.sin(np.pi * k / 2.0/ k_N)**2 + 6.0/15.0 * np.sin(np.pi * k / 2.0/ k_N)**4 - 4.0/315.0 * np.sin(np.pi * k / 2.0/ k_N)**6)\n",
    "else:\n",
    "    print(\"Not implemented\")"
   ]
  },
  {
   "cell_type": "code",
   "execution_count": 22,
   "id": "a7bf207b",
   "metadata": {},
   "outputs": [
    {
     "data": {
      "image/png": "[encoded data removed]",
      "text/plain": [
       "<Figure size 1000x600 with 1 Axes>"
      ]
     },
     "metadata": {},
     "output_type": "display_data"
    }
   ],
   "source": [
    "fig = plt.figure(dpi=100, figsize=(10,6))\n",
    "plt.semilogy(n, w_k**2)\n",
    "plt.show()"
   ]
  },
  {
   "cell_type": "code",
   "execution_count": 41,
   "id": "b85ef16f",
   "metadata": {},
   "outputs": [],
   "source": [
    "from scipy.optimize import curve_fit"
   ]
  },
  {
   "cell_type": "code",
   "execution_count": 117,
   "id": "db2c9dc9",
   "metadata": {},
   "outputs": [],
   "source": [
    "k = np.linspace(0.0, 1.5, 1000)\n",
    "n = np.arange(-10, 10, 1)\n",
    "def sum_w(k):\n",
    "    return np.array([np.sum([np.sinc((k_temp + 2 * k_N * n) / 2.0/ k_N) ** 10 for n in np.arange(-10, 10, 1)]) for k_temp in k])\n",
    "def f(k, a, b, c, d):\n",
    "    return 1.0 - a * np.sin(np.pi * k / 2.0/ k_N)**2 + b * np.sin(np.pi * k / 2.0/ k_N)**4 - c * np.sin(np.pi * k / 2.0/ k_N)**6 + d * np.sin(np.pi * k / 2.0/ k_N)**8\n",
    "\n",
    "popt, pcov = curve_fit(f, k, sum_w(k), p0 = [1.0/3.0, 1.0/15.0, 1.0/35.0, 1.0/315.0])"
   ]
  },
  {
   "cell_type": "code",
   "execution_count": 93,
   "id": "0c8dbf0d",
   "metadata": {},
   "outputs": [
    {
     "data": {
      "image/png": "[encoded data removed]",
      "text/plain": [
       "<Figure size 1000x600 with 1 Axes>"
      ]
     },
     "metadata": {},
     "output_type": "display_data"
    }
   ],
   "source": [
    "fig = plt.figure(dpi=100, figsize=(10,6))\n",
    "plt.plot(k, f(k, 1.33333333, 0.4       , 0.01269841))\n",
    "plt.plot(k, sum_w(k))\n",
    "plt.show()"
   ]
  },
  {
   "cell_type": "code",
   "execution_count": 118,
   "id": "8a983635",
   "metadata": {},
   "outputs": [
    {
     "data": {
      "text/plain": [
       "array([1.66666667e+00, 7.77777778e-01, 8.99470899e-02, 7.05467372e-04])"
      ]
     },
     "execution_count": 118,
     "metadata": {},
     "output_type": "execute_result"
    }
   ],
   "source": [
    "popt"
   ]
  },
  {
   "cell_type": "code",
   "execution_count": 130,
   "id": "caf72cc5",
   "metadata": {},
   "outputs": [
    {
     "data": {
      "text/plain": [
       "np.float64(0.22222222229967714)"
      ]
     },
     "execution_count": 130,
     "metadata": {},
     "output_type": "execute_result"
    }
   ],
   "source": [
    "popt[3] * 315"
   ]
  },
  {
   "cell_type": "code",
   "execution_count": 88,
   "id": "ddea5d73",
   "metadata": {},
   "outputs": [
    {
     "data": {
      "text/plain": [
       "np.float64(1.7258184765419742)"
      ]
     },
     "execution_count": 88,
     "metadata": {},
     "output_type": "execute_result"
    }
   ],
   "source": [
    "sum_w([0.0,1.0])"
   ]
  },
  {
   "cell_type": "code",
   "execution_count": null,
   "id": "643c2aab",
   "metadata": {},
   "outputs": [],
   "source": []
  }
 ],
 "metadata": {
  "kernelspec": {
   "display_name": "torch",
   "language": "python",
   "name": "python3"
  },
  "language_info": {
   "codemirror_mode": {
    "name": "ipython",
    "version": 3
   },
   "file_extension": ".py",
   "mimetype": "text/x-python",
   "name": "python",
   "nbconvert_exporter": "python",
   "pygments_lexer": "ipython3",
   "version": "3.12.0"
  }
 },
 "nbformat": 4,
 "nbformat_minor": 5
}
